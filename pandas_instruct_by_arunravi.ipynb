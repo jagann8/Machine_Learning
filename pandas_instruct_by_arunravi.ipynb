{
 "cells": [
  {
   "cell_type": "markdown",
   "id": "d272b600-6733-4756-ab18-bd65765877f1",
   "metadata": {},
   "source": [
    "Data Structures in pandas\n",
    "\n",
    "Series    - 1D\n",
    "DataFrame - 2D\n",
    "\n",
    "what can do with pandas ?\n",
    "we can do following things\n",
    "- is there any corelation between two or more columns\n",
    "- what is average value\n",
    "- max value ?\n",
    "- min value ?\n",
    "- pandas also able to delete rows that are not relevent or containing wrong values like null or empty values. this is called cleanig the data"
   ]
  },
  {
   "cell_type": "code",
   "execution_count": 1,
   "id": "19686fc4-fce0-489b-bab3-701674f5db9f",
   "metadata": {},
   "outputs": [],
   "source": [
    "# importing pandas library\n",
    "import pandas as pd"
   ]
  },
  {
   "cell_type": "code",
   "execution_count": 2,
   "id": "75438091-1f75-4ad1-8e6a-5d7d06f239a4",
   "metadata": {},
   "outputs": [],
   "source": [
    "# series\n",
    "# 1D - ndarray with axis label"
   ]
  },
  {
   "cell_type": "code",
   "execution_count": 3,
   "id": "5fd1b3f5-b519-4aa3-893e-f030766c41e0",
   "metadata": {},
   "outputs": [
    {
     "name": "stdout",
     "output_type": "stream",
     "text": [
      "2.1.1\n"
     ]
    }
   ],
   "source": [
    "# checking pandas version\n",
    "print(pd.__version__)"
   ]
  },
  {
   "cell_type": "markdown",
   "id": "c2d62f8c-8e9b-4c89-be2a-086ef746d018",
   "metadata": {},
   "source": [
    "syntax to create for Series\n",
    "\n",
    "pd.Series(data,index)"
   ]
  },
  {
   "cell_type": "code",
   "execution_count": 4,
   "id": "c8176062-1175-4f80-9437-0ea7814ca184",
   "metadata": {},
   "outputs": [
    {
     "name": "stdout",
     "output_type": "stream",
     "text": [
      "<class 'list'>\n"
     ]
    }
   ],
   "source": [
    "s=[1,2,3,4,5]\n",
    "print(type(s))"
   ]
  },
  {
   "cell_type": "markdown",
   "id": "0b94eb08-91f6-491d-84f9-3e6361d8b162",
   "metadata": {},
   "source": [
    "## creating series from list"
   ]
  },
  {
   "cell_type": "code",
   "execution_count": 5,
   "id": "f6eb22db-a8d1-4a21-9a93-20c472747a9a",
   "metadata": {},
   "outputs": [
    {
     "name": "stdout",
     "output_type": "stream",
     "text": [
      "0    1\n",
      "1    2\n",
      "2    3\n",
      "3    4\n",
      "4    5\n",
      "dtype: int64\n",
      "<class 'pandas.core.series.Series'>\n"
     ]
    }
   ],
   "source": [
    "s = pd.Series([1,2,3,4,5])\n",
    "print(s)\n",
    "print(type(s))"
   ]
  },
  {
   "cell_type": "markdown",
   "id": "eb8fbcc0-7049-44fc-9d36-cdbeec49f26b",
   "metadata": {},
   "source": [
    "## creating series from ndarray"
   ]
  },
  {
   "cell_type": "code",
   "execution_count": 6,
   "id": "b79eb7d0-453a-4c81-b508-c6d8977276ec",
   "metadata": {},
   "outputs": [
    {
     "data": {
      "text/plain": [
       "0    1\n",
       "1    2\n",
       "2    3\n",
       "3    4\n",
       "4    5\n",
       "dtype: int32"
      ]
     },
     "execution_count": 6,
     "metadata": {},
     "output_type": "execute_result"
    }
   ],
   "source": [
    "import numpy as np\n",
    "data = np.array([1,2,3,4,5])\n",
    "s = pd.Series(data)\n",
    "s"
   ]
  },
  {
   "cell_type": "code",
   "execution_count": 7,
   "id": "4b0439b0-1c63-46a9-82bd-9ca7b83fe9bb",
   "metadata": {},
   "outputs": [
    {
     "name": "stdout",
     "output_type": "stream",
     "text": [
      "100    a\n",
      "101    b\n",
      "102    c\n",
      "103    d\n",
      "dtype: object\n"
     ]
    }
   ],
   "source": [
    "# customizing the index numbers\n",
    "data = np.array(['a','b','c','d'])\n",
    "s = pd.Series(data,index=[100,101,102,103])\n",
    "print(s)"
   ]
  },
  {
   "cell_type": "markdown",
   "id": "91a011f3-ca9a-4ca9-b7d7-2e655fef04db",
   "metadata": {},
   "source": [
    "## creating series from dictionary"
   ]
  },
  {
   "cell_type": "code",
   "execution_count": 9,
   "id": "e5576c83-6e70-4573-bdb9-7bfbffb2bed2",
   "metadata": {},
   "outputs": [
    {
     "name": "stdout",
     "output_type": "stream",
     "text": [
      "jagan    97514\n",
      "raj      78932\n",
      "dhana    99402\n",
      "nanna    88837\n",
      "dtype: int64\n",
      "<class 'pandas.core.series.Series'>\n"
     ]
    }
   ],
   "source": [
    "names_dict={\n",
    "    'jagan':97514,\n",
    "    'raj':78932,\n",
    "    'dhana':99402,\n",
    "    'nanna':88837\n",
    "}\n",
    "\n",
    "population = pd.Series(names_dict)\n",
    "print(s)\n",
    "print(type(s))"
   ]
  },
  {
   "cell_type": "code",
   "execution_count": 12,
   "id": "a4ff0fb4-c95e-48ed-b2a9-3550ddd121a1",
   "metadata": {},
   "outputs": [
    {
     "data": {
      "text/plain": [
       "97514"
      ]
     },
     "execution_count": 12,
     "metadata": {},
     "output_type": "execute_result"
    }
   ],
   "source": [
    "population['jagan'] # retreving the data by using label name explicitly - label given by user"
   ]
  },
  {
   "cell_type": "code",
   "execution_count": 17,
   "id": "8a28124c-a36f-4da3-97fd-3625374d5bd1",
   "metadata": {},
   "outputs": [
    {
     "data": {
      "text/plain": [
       "97514"
      ]
     },
     "execution_count": 17,
     "metadata": {},
     "output_type": "execute_result"
    }
   ],
   "source": [
    "population.iloc[0] # retreving the data by using default index implicit by python"
   ]
  },
  {
   "cell_type": "code",
   "execution_count": 18,
   "id": "b62e343d-b77d-40b3-aa35-3984426cd4d8",
   "metadata": {},
   "outputs": [
    {
     "data": {
      "text/plain": [
       "jagan    97514\n",
       "raj      78932\n",
       "dhana    99402\n",
       "nanna    88837\n",
       "dtype: int64"
      ]
     },
     "execution_count": 18,
     "metadata": {},
     "output_type": "execute_result"
    }
   ],
   "source": [
    "population['jagan':'nanna'] # slicing"
   ]
  },
  {
   "cell_type": "code",
   "execution_count": 21,
   "id": "9d959519-ea91-4eef-8242-52fd0276ce11",
   "metadata": {},
   "outputs": [
    {
     "data": {
      "text/plain": [
       "0    2\n",
       "1    3\n",
       "2    4\n",
       "dtype: int64"
      ]
     },
     "execution_count": 21,
     "metadata": {},
     "output_type": "execute_result"
    }
   ],
   "source": [
    "pd.Series([2,3,4])"
   ]
  },
  {
   "cell_type": "code",
   "execution_count": 22,
   "id": "43bfce3e-df02-4f89-a29a-ef37f8c6c930",
   "metadata": {},
   "outputs": [
    {
     "data": {
      "text/plain": [
       "100    2\n",
       "200    4\n",
       "300    5\n",
       "dtype: int64"
      ]
     },
     "execution_count": 22,
     "metadata": {},
     "output_type": "execute_result"
    }
   ],
   "source": [
    "pd.Series([2,4,5],index=[100,200,300])"
   ]
  },
  {
   "cell_type": "code",
   "execution_count": 27,
   "id": "2cfdfe5f-70f0-46d1-b0b3-6ef61ab82629",
   "metadata": {},
   "outputs": [
    {
     "data": {
      "text/html": [
       "<div>\n",
       "<style scoped>\n",
       "    .dataframe tbody tr th:only-of-type {\n",
       "        vertical-align: middle;\n",
       "    }\n",
       "\n",
       "    .dataframe tbody tr th {\n",
       "        vertical-align: top;\n",
       "    }\n",
       "\n",
       "    .dataframe thead th {\n",
       "        text-align: right;\n",
       "    }\n",
       "</style>\n",
       "<table border=\"1\" class=\"dataframe\">\n",
       "  <thead>\n",
       "    <tr style=\"text-align: right;\">\n",
       "      <th></th>\n",
       "      <th>index</th>\n",
       "      <th>0</th>\n",
       "    </tr>\n",
       "  </thead>\n",
       "  <tbody>\n",
       "    <tr>\n",
       "      <th>0</th>\n",
       "      <td>100</td>\n",
       "      <td>2</td>\n",
       "    </tr>\n",
       "    <tr>\n",
       "      <th>1</th>\n",
       "      <td>200</td>\n",
       "      <td>4</td>\n",
       "    </tr>\n",
       "    <tr>\n",
       "      <th>2</th>\n",
       "      <td>300</td>\n",
       "      <td>5</td>\n",
       "    </tr>\n",
       "  </tbody>\n",
       "</table>\n",
       "</div>"
      ],
      "text/plain": [
       "   index  0\n",
       "0    100  2\n",
       "1    200  4\n",
       "2    300  5"
      ]
     },
     "execution_count": 27,
     "metadata": {},
     "output_type": "execute_result"
    }
   ],
   "source": [
    "s = pd.Series([2,4,5],index=[100,200,300])\n",
    "s.reset_index() # this is dataframe"
   ]
  }
 ],
 "metadata": {
  "kernelspec": {
   "display_name": "Python 3 (ipykernel)",
   "language": "python",
   "name": "python3"
  },
  "language_info": {
   "codemirror_mode": {
    "name": "ipython",
    "version": 3
   },
   "file_extension": ".py",
   "mimetype": "text/x-python",
   "name": "python",
   "nbconvert_exporter": "python",
   "pygments_lexer": "ipython3",
   "version": "3.12.0"
  }
 },
 "nbformat": 4,
 "nbformat_minor": 5
}
