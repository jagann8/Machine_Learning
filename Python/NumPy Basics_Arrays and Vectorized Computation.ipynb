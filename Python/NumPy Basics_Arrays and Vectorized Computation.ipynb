{
 "cells": [
  {
   "cell_type": "code",
   "execution_count": 56,
   "id": "c62536a7-fab8-43cb-bc41-f6c6e0b8557b",
   "metadata": {},
   "outputs": [],
   "source": [
    "# import numpy library\n",
    "import numpy as np"
   ]
  },
  {
   "cell_type": "markdown",
   "id": "6a1b726c-9541-4d15-9e7d-e26f69a7a6fb",
   "metadata": {},
   "source": [
    "Numpy - Numerical python\n",
    "\n",
    "Numpy useage:\n",
    "- ndarray, a multi dimensional array providing fast array oriented arithmetic operations and flexibility broadcasting capabilities.\n",
    "- mathematical functions for fast opeartions on entire arrays data without having to write for loops.\n",
    "- tools for reading/writing array data to disk and working with memory files .\n",
    "- linear algebra, random number generation and fourier transform capabilities.\n",
    "\n",
    "for most data analysis applications, the main areas of functionality i'll focus on are:\n",
    "- fast array based opeartions for munging and cleaning, subsetting and filtering, transformation other kind of computations.\n",
    "- common array algorithm like sorting, unique and set opeartions.\n",
    "- effcient descriptive statistics and aggeregate/summerizing data.\n",
    "- data alignment and relational data manipulations for merging and heterogeneous datasets.\n",
    "- expressing conditional loggic has array expressions instead of loops with if-elif-else branches.\n",
    "- group wise data manipulations( aggregation, transformation and function application ).\n",
    "\n",
    "why numpy?\n",
    "\n",
    "one of the reason is numpy is so important for numerical computation in python it is designed for large arrays of data.\n",
    "\n",
    "- numpy array stores data in contiguous block of memory, independent in other built in python objects.\n",
    "- numpy arrays also use very less memory than in other build in python sequences.\n",
    "- numpy arrays performs complex computation opeations without using pythons for loop, in python it can be slow process for large\n",
    "    datasets.\n",
    "- numpy is faster than python code. because numpy written in C based algorithms."
   ]
  },
  {
   "cell_type": "code",
   "execution_count": 57,
   "id": "1d739b19-e17e-4035-a0e2-74a0bc3f37e9",
   "metadata": {},
   "outputs": [
    {
     "name": "stdout",
     "output_type": "stream",
     "text": [
      "Numpy array\n",
      "5.37 ms ± 143 µs per loop (mean ± std. dev. of 7 runs, 100 loops each)\n",
      "\n",
      "\n",
      "Python array\n",
      "203 ms ± 13.8 ms per loop (mean ± std. dev. of 7 runs, 1 loop each)\n",
      "\n"
     ]
    }
   ],
   "source": [
    "# lets showing diffrence numpy array vs python array\n",
    "my_arr = np.arange(1_000_000)\n",
    "\n",
    "my_list = list(range(1_000_000))\n",
    "\n",
    "print('Numpy array')\n",
    "%timeit my_arr2 = my_arr * 2\n",
    "print()\n",
    "print()\n",
    "\n",
    "print('Python array')\n",
    "%timeit my_list2 = [x * 2 for x in my_list]\n",
    "print()\n",
    "\n",
    "# numpy array genrally 10 to 100 times faster than the pure python counterparts and use significantly less memory"
   ]
  },
  {
   "cell_type": "markdown",
   "id": "5d230e59-524c-4cdf-af3e-27bf27418d67",
   "metadata": {},
   "source": [
    "1.1 A NumPy ndarray: A Multidimensional Object.\n",
    "-"
   ]
  },
  {
   "cell_type": "code",
   "execution_count": 58,
   "id": "6785dbec-ac65-4aa3-974e-3aaccb01d6f9",
   "metadata": {},
   "outputs": [
    {
     "data": {
      "text/plain": [
       "array([1, 2, 3])"
      ]
     },
     "execution_count": 58,
     "metadata": {},
     "output_type": "execute_result"
    }
   ],
   "source": [
    "# create a simple numpy array\n",
    "arr = np.array([1,2,3])\n",
    "arr"
   ]
  },
  {
   "cell_type": "code",
   "execution_count": 59,
   "id": "c39e79ae-883a-4608-8949-84204d5282cf",
   "metadata": {},
   "outputs": [
    {
     "data": {
      "text/plain": [
       "array([2, 4, 6])"
      ]
     },
     "execution_count": 59,
     "metadata": {},
     "output_type": "execute_result"
    }
   ],
   "source": [
    "# multiply by 2\n",
    "arr * 2 "
   ]
  },
  {
   "cell_type": "code",
   "execution_count": 60,
   "id": "ee961887-9cce-4d3c-9775-a6974e0932fb",
   "metadata": {},
   "outputs": [
    {
     "data": {
      "text/plain": [
       "array([2, 4, 6])"
      ]
     },
     "execution_count": 60,
     "metadata": {},
     "output_type": "execute_result"
    }
   ],
   "source": [
    "# addition \n",
    "arr + arr"
   ]
  },
  {
   "cell_type": "code",
   "execution_count": 61,
   "id": "6d75a802-5108-4c5c-aa19-5552f610a6f9",
   "metadata": {},
   "outputs": [
    {
     "name": "stdout",
     "output_type": "stream",
     "text": [
      "Shape =>  (2, 3)\n",
      "Dtype =>  int32\n"
     ]
    }
   ],
   "source": [
    "arr = np.array([[1,2,3],[4,5,6]])\n",
    "print('Shape => ',arr.shape)\n",
    "print('Dtype => ',arr.dtype)"
   ]
  },
  {
   "cell_type": "code",
   "execution_count": 62,
   "id": "f792dcc5-e73a-47fd-8930-095ebd6c625b",
   "metadata": {},
   "outputs": [
    {
     "data": {
      "text/plain": [
       "array([3, 2, 6, 9, 3])"
      ]
     },
     "execution_count": 62,
     "metadata": {},
     "output_type": "execute_result"
    }
   ],
   "source": [
    "# creating ndarray by using array function\n",
    "data1 = np.array([3,2,6,9,3])\n",
    "data1"
   ]
  },
  {
   "cell_type": "code",
   "execution_count": 63,
   "id": "bd0badb0-c81a-4716-ad66-48e01dd1df8d",
   "metadata": {},
   "outputs": [
    {
     "data": {
      "text/plain": [
       "array([[1, 2, 3],\n",
       "       [4, 5, 6]])"
      ]
     },
     "execution_count": 63,
     "metadata": {},
     "output_type": "execute_result"
    }
   ],
   "source": [
    "# multi-dimensional array\n",
    "data2 = [[1,2,3],[4,5,6]]\n",
    "arr2 = np.array(data2)\n",
    "arr2"
   ]
  },
  {
   "cell_type": "code",
   "execution_count": 64,
   "id": "0b881cb9-2602-4310-a93a-bd6414103d1a",
   "metadata": {},
   "outputs": [
    {
     "data": {
      "text/plain": [
       "2"
      ]
     },
     "execution_count": 64,
     "metadata": {},
     "output_type": "execute_result"
    }
   ],
   "source": [
    "# check the arr2 dimensions\n",
    "arr2.ndim"
   ]
  },
  {
   "cell_type": "code",
   "execution_count": 65,
   "id": "263e84c5-a196-4301-831e-56c6bf3f83c5",
   "metadata": {},
   "outputs": [
    {
     "data": {
      "text/plain": [
       "(2, 3)"
      ]
     },
     "execution_count": 65,
     "metadata": {},
     "output_type": "execute_result"
    }
   ],
   "source": [
    "# chech arr2 shape\n",
    "arr2.shape"
   ]
  },
  {
   "cell_type": "code",
   "execution_count": 66,
   "id": "5145e94d-a5af-4a19-bbbc-5040ebf4a9ae",
   "metadata": {},
   "outputs": [
    {
     "data": {
      "text/plain": [
       "dtype('int32')"
      ]
     },
     "execution_count": 66,
     "metadata": {},
     "output_type": "execute_result"
    }
   ],
   "source": [
    "# lets check the data type \n",
    "arr2.dtype"
   ]
  },
  {
   "cell_type": "code",
   "execution_count": 67,
   "id": "5f8d846f-813d-4fbb-be11-bf03406f803c",
   "metadata": {},
   "outputs": [
    {
     "data": {
      "text/plain": [
       "array([0., 0., 0., 0., 0., 0., 0., 0., 0., 0.])"
      ]
     },
     "execution_count": 67,
     "metadata": {},
     "output_type": "execute_result"
    }
   ],
   "source": [
    "# there is other ways to create arrays other than numpy array like we have zeros, ones and empty functions.\n",
    "np.zeros(10)"
   ]
  },
  {
   "cell_type": "code",
   "execution_count": 68,
   "id": "a1bb51de-a15f-416e-ba9b-9915b03aa97d",
   "metadata": {},
   "outputs": [
    {
     "data": {
      "text/plain": [
       "array([1., 1., 1., 1., 1., 1., 1., 1., 1., 1.])"
      ]
     },
     "execution_count": 68,
     "metadata": {},
     "output_type": "execute_result"
    }
   ],
   "source": [
    "np.ones(10)"
   ]
  },
  {
   "cell_type": "code",
   "execution_count": 69,
   "id": "cb76173c-b5f5-482c-867e-81ca1ec5ffc0",
   "metadata": {},
   "outputs": [
    {
     "data": {
      "text/plain": [
       "array([1., 1., 1., 1., 1., 1., 1., 1., 1., 1.])"
      ]
     },
     "execution_count": 69,
     "metadata": {},
     "output_type": "execute_result"
    }
   ],
   "source": [
    "np.empty(10) # don't assume empty always returns 1s its used garbage values."
   ]
  },
  {
   "cell_type": "code",
   "execution_count": 70,
   "id": "10c52d76-893e-405c-929f-6bde73b6ec35",
   "metadata": {},
   "outputs": [
    {
     "data": {
      "text/plain": [
       "array([[0., 0., 0., 0.],\n",
       "       [0., 0., 0., 0.],\n",
       "       [0., 0., 0., 0.]])"
      ]
     },
     "execution_count": 70,
     "metadata": {},
     "output_type": "execute_result"
    }
   ],
   "source": [
    "np.zeros((3,4)) # by default numpy will assume float64"
   ]
  },
  {
   "cell_type": "code",
   "execution_count": 71,
   "id": "a8f4906e-cc0c-4e64-b2b9-ab70b47c1f71",
   "metadata": {},
   "outputs": [
    {
     "data": {
      "text/plain": [
       "array([[[0., 0.],\n",
       "        [0., 0.],\n",
       "        [0., 0.]],\n",
       "\n",
       "       [[0., 0.],\n",
       "        [0., 0.],\n",
       "        [0., 0.]]])"
      ]
     },
     "execution_count": 71,
     "metadata": {},
     "output_type": "execute_result"
    }
   ],
   "source": [
    "np.zeros((2,3,2))"
   ]
  },
  {
   "cell_type": "code",
   "execution_count": 72,
   "id": "c9691eff-8afe-4f16-81b3-e8f95282bca4",
   "metadata": {},
   "outputs": [
    {
     "data": {
      "text/plain": [
       "array([0, 1, 2, 3, 4, 5, 6, 7, 8, 9])"
      ]
     },
     "execution_count": 72,
     "metadata": {},
     "output_type": "execute_result"
    }
   ],
   "source": [
    "# numpy we have arange function like in python we have range function\n",
    "np.arange(10)"
   ]
  },
  {
   "cell_type": "code",
   "execution_count": 73,
   "id": "bc128e5d-f56e-4af9-97f3-4cfb1ef2c1d9",
   "metadata": {},
   "outputs": [
    {
     "data": {
      "text/plain": [
       "dtype('int32')"
      ]
     },
     "execution_count": 73,
     "metadata": {},
     "output_type": "execute_result"
    }
   ],
   "source": [
    "np.arange(10).dtype"
   ]
  },
  {
   "cell_type": "code",
   "execution_count": 74,
   "id": "c6a22147-81ca-4267-bdb7-c96d9b09f54e",
   "metadata": {},
   "outputs": [
    {
     "data": {
      "text/plain": [
       "dtype('int64')"
      ]
     },
     "execution_count": 74,
     "metadata": {},
     "output_type": "execute_result"
    }
   ],
   "source": [
    "# datatypes for ndarrays\n",
    "arr1 = np.array([1,2,3],dtype='int64')\n",
    "arr2 = np.array([1,2,3],dtype='float64')\n",
    "\n",
    "arr1.dtype"
   ]
  },
  {
   "cell_type": "code",
   "execution_count": 75,
   "id": "9ddfaa37-1443-4966-978d-fa7bf4473ba0",
   "metadata": {},
   "outputs": [
    {
     "data": {
      "text/plain": [
       "dtype('float64')"
      ]
     },
     "execution_count": 75,
     "metadata": {},
     "output_type": "execute_result"
    }
   ],
   "source": [
    "arr2.dtype"
   ]
  },
  {
   "cell_type": "code",
   "execution_count": 76,
   "id": "118dfd8b-2eda-4694-b3ca-b234ca1f3186",
   "metadata": {},
   "outputs": [
    {
     "name": "stdout",
     "output_type": "stream",
     "text": [
      "[1 2 3 4 5]\n",
      "int32\n",
      "[1. 2. 3. 4. 5.]\n",
      "float64\n"
     ]
    }
   ],
   "source": [
    "# explicitly we can convert or cast the one data type into another data type\n",
    "arr1 = np.array([1,2,3,4,5])\n",
    "print(arr1)\n",
    "print(arr.dtype)\n",
    "\n",
    "float_arr = arr1.astype('float64')\n",
    "print(float_arr)\n",
    "print(float_arr.dtype)"
   ]
  },
  {
   "cell_type": "code",
   "execution_count": 77,
   "id": "69103f46-9160-40f4-ae8f-564e8fd7074b",
   "metadata": {},
   "outputs": [
    {
     "name": "stdout",
     "output_type": "stream",
     "text": [
      "[1.1 2.2 3.3 4.4]\n",
      "[1 2 3 4]\n",
      "int64\n"
     ]
    }
   ],
   "source": [
    "# when we convert float into integers the decimal points are truncated.\n",
    "arr1 = np.array([1.1,2.2,3.3,4.4])\n",
    "print(arr1)\n",
    "int_arr = arr1.astype('int64')\n",
    "print(int_arr) # as you can see that decimal values are removed or ignored.\n",
    "print(int_arr.dtype)"
   ]
  },
  {
   "cell_type": "code",
   "execution_count": 78,
   "id": "aeec833a-1f62-4e7d-bbcd-c53519af7fa3",
   "metadata": {},
   "outputs": [
    {
     "name": "stdout",
     "output_type": "stream",
     "text": [
      "['1.1' '2.2' '3.3' '4.4']\n",
      "\n",
      "[1.1 2.2 3.3 4.4]\n",
      "float64\n"
     ]
    }
   ],
   "source": [
    "# lets convert strings of numbers into integers or floats\n",
    "str_arr = np.array([\"1.1\",'2.2','3.3','4.4'])\n",
    "print(str_arr)\n",
    "print()\n",
    "float_arr = str_arr.astype('float64')\n",
    "print(float_arr)\n",
    "print(float_arr.dtype)"
   ]
  },
  {
   "cell_type": "code",
   "execution_count": 79,
   "id": "63c92dad-692f-4038-b649-54bd2c964fa5",
   "metadata": {},
   "outputs": [
    {
     "data": {
      "text/plain": [
       "array([0., 1., 2., 3., 4., 5., 6., 7., 8., 9.])"
      ]
     },
     "execution_count": 79,
     "metadata": {},
     "output_type": "execute_result"
    }
   ],
   "source": [
    "# one more casting example\n",
    "int_arr = np.arange(10)\n",
    "calibers = np.array([.22, .270, .357, .380, .44, .50],dtype=np.float64)\n",
    "int_arr.astype(calibers.dtype)"
   ]
  },
  {
   "cell_type": "code",
   "execution_count": 80,
   "id": "b4d45423-c686-46fb-81eb-5147f43db9a5",
   "metadata": {},
   "outputs": [
    {
     "name": "stdout",
     "output_type": "stream",
     "text": [
      "Addition\n",
      "[[ 2.  4.  6.]\n",
      " [ 8. 10. 12.]]\n",
      "\n",
      "Subtract\n",
      "[[-1.  0.  1.]\n",
      " [ 2.  3.  4.]]\n",
      "\n",
      "Divide\n",
      "[[0.5 1.  1.5]\n",
      " [2.  2.5 3. ]]\n"
     ]
    }
   ],
   "source": [
    "# Arithmetic with numpy arrays\n",
    "\n",
    "arr = np.array([[1,2,3],[4,5,6]],dtype='float64')\n",
    "print('Addition')\n",
    "print(arr + arr)\n",
    "print()\n",
    "print('Subtract')\n",
    "print(arr - 2)\n",
    "print()\n",
    "print('Divide')\n",
    "print(arr / 2)"
   ]
  },
  {
   "cell_type": "code",
   "execution_count": 81,
   "id": "7d400c5c-f0a9-4b4a-9b5b-133df84669dd",
   "metadata": {},
   "outputs": [
    {
     "data": {
      "text/plain": [
       "array([[ 1.,  4.,  9.],\n",
       "       [16., 25., 36.]])"
      ]
     },
     "execution_count": 81,
     "metadata": {},
     "output_type": "execute_result"
    }
   ],
   "source": [
    "# square the each value\n",
    "arr ** 2"
   ]
  },
  {
   "cell_type": "code",
   "execution_count": 82,
   "id": "62f2f39d-2f32-4844-89a5-4837f1fa2103",
   "metadata": {},
   "outputs": [
    {
     "data": {
      "text/plain": [
       "array([[ True,  True, False],\n",
       "       [False, False,  True]])"
      ]
     },
     "execution_count": 82,
     "metadata": {},
     "output_type": "execute_result"
    }
   ],
   "source": [
    "# compare the two arrays\n",
    "arr2 = np.array([[5,6,2],[2,3,9]])\n",
    "arr2 > arr"
   ]
  },
  {
   "cell_type": "code",
   "execution_count": 83,
   "id": "3b48534d-3f5a-4bb6-a14d-86f4dc8999d9",
   "metadata": {},
   "outputs": [
    {
     "name": "stdout",
     "output_type": "stream",
     "text": [
      "5\n",
      "[5 6 7]\n"
     ]
    },
    {
     "data": {
      "text/plain": [
       "array([ 0,  1,  2,  3,  4, 12, 12, 12,  8,  9])"
      ]
     },
     "execution_count": 83,
     "metadata": {},
     "output_type": "execute_result"
    }
   ],
   "source": [
    "# basic indexing and slicing\n",
    "arr = np.arange(10)\n",
    "arr\n",
    "print(arr[5])\n",
    "print(arr[5:8])\n",
    "arr[5:8]=12\n",
    "arr"
   ]
  },
  {
   "cell_type": "markdown",
   "id": "bcbc9fb6-6d45-4f46-8cfa-b39ff001d94a",
   "metadata": {},
   "source": [
    "Note : one important thing, in python built in lists array slices are views in orginal array. this means its not create copy of data\n",
    "whatever we changed in array slices it will reflect the orginal source array"
   ]
  },
  {
   "cell_type": "code",
   "execution_count": 84,
   "id": "dadf7a34-5a5f-453e-85d0-5367960a20d5",
   "metadata": {},
   "outputs": [
    {
     "name": "stdout",
     "output_type": "stream",
     "text": [
      "[ 0  1  2  3  4 12 12 12  8  9]\n",
      "[12 12 12]\n",
      "[   12 12345    12]\n",
      "[    0     1     2     3     4    12 12345    12     8     9]\n"
     ]
    }
   ],
   "source": [
    "# anychanges in array slices it will reflect the orginal array, look below example for better understand\n",
    "print(arr)\n",
    "arr_slice = arr[5:8]\n",
    "print(arr_slice)\n",
    "arr_slice[1]=12345\n",
    "print(arr_slice)\n",
    "print(arr)"
   ]
  },
  {
   "cell_type": "code",
   "execution_count": 86,
   "id": "1c2725fc-1d3a-403d-b2f1-6b3a6ce95395",
   "metadata": {},
   "outputs": [
    {
     "data": {
      "text/plain": [
       "array([ 0,  1,  2,  3,  4, 64, 64, 64,  8,  9])"
      ]
     },
     "execution_count": 86,
     "metadata": {},
     "output_type": "execute_result"
    }
   ],
   "source": [
    "arr_slice[:]=64\n",
    "arr"
   ]
  },
  {
   "cell_type": "code",
   "execution_count": 91,
   "id": "e4c63ce4-90c8-484a-ae39-1f290a5ceec1",
   "metadata": {},
   "outputs": [
    {
     "name": "stdout",
     "output_type": "stream",
     "text": [
      "[1, 2, 3, 4, 5]\n",
      "[1, 2, 7, 4, 5]\n"
     ]
    }
   ],
   "source": [
    "# here we created for copy f orginal data. any changes in copy array data will not reflect the orginal array data\n",
    "slice_arr = [1,2,3,4,5]\n",
    "copy_arr = slice_arr.copy()\n",
    "copy_arr[2] = 7\n",
    "print(slice_arr)\n",
    "print(copy_arr)"
   ]
  },
  {
   "cell_type": "code",
   "execution_count": 97,
   "id": "23fa5879-3df2-4046-aeaf-b0180a77450a",
   "metadata": {},
   "outputs": [
    {
     "data": {
      "text/plain": [
       "array([7, 8, 9])"
      ]
     },
     "execution_count": 97,
     "metadata": {},
     "output_type": "execute_result"
    }
   ],
   "source": [
    "# lets look into 2-Dimensional array\n",
    "arr2d = np.array([[1,2,3],[4,5,6],[7,8,9]])\n",
    "arr2d[2]"
   ]
  },
  {
   "cell_type": "code",
   "execution_count": 98,
   "id": "e9cd0922-40cd-410c-bf62-d289457b3c29",
   "metadata": {},
   "outputs": [
    {
     "data": {
      "text/plain": [
       "3"
      ]
     },
     "execution_count": 98,
     "metadata": {},
     "output_type": "execute_result"
    }
   ],
   "source": [
    "# access the element values\n",
    "arr2d[0][2]"
   ]
  },
  {
   "cell_type": "code",
   "execution_count": 99,
   "id": "dcf04ba0-cc7f-4f1f-92d5-13125e55a4b8",
   "metadata": {},
   "outputs": [
    {
     "data": {
      "text/plain": [
       "3"
      ]
     },
     "execution_count": 99,
     "metadata": {},
     "output_type": "execute_result"
    }
   ],
   "source": [
    "arr2d[0,2] # above code and this code both give same results."
   ]
  },
  {
   "cell_type": "code",
   "execution_count": 112,
   "id": "8a7a6940-e76d-4fc9-888a-35ab6aa5a118",
   "metadata": {},
   "outputs": [
    {
     "data": {
      "text/plain": [
       "array([[[ 1,  2,  3],\n",
       "        [ 4,  5,  6]],\n",
       "\n",
       "       [[ 7,  8,  9],\n",
       "        [10, 11, 12]]])"
      ]
     },
     "execution_count": 112,
     "metadata": {},
     "output_type": "execute_result"
    }
   ],
   "source": [
    "# 3_dimensional data\n",
    "arr3d = np.array([[[1,2,3],[4,5,6]],[[7,8,9],[10,11,12]]])\n",
    "arr3d"
   ]
  },
  {
   "cell_type": "code",
   "execution_count": 113,
   "id": "6184c7e0-d08c-49e0-b301-d2c8b7ce0828",
   "metadata": {},
   "outputs": [
    {
     "data": {
      "text/plain": [
       "array([[1, 2, 3],\n",
       "       [4, 5, 6]])"
      ]
     },
     "execution_count": 113,
     "metadata": {},
     "output_type": "execute_result"
    }
   ],
   "source": [
    "arr3d[0] # 2-D data"
   ]
  },
  {
   "cell_type": "code",
   "execution_count": 115,
   "id": "964288ba-b5e8-4004-85ae-e5d94af2c3f2",
   "metadata": {},
   "outputs": [
    {
     "data": {
      "text/plain": [
       "array([[[42, 42, 42],\n",
       "        [42, 42, 42]],\n",
       "\n",
       "       [[ 7,  8,  9],\n",
       "        [10, 11, 12]]])"
      ]
     },
     "execution_count": 115,
     "metadata": {},
     "output_type": "execute_result"
    }
   ],
   "source": [
    "old_values = arr3d[0].copy()\n",
    "arr3d[0] = 42\n",
    "arr3d"
   ]
  },
  {
   "cell_type": "code",
   "execution_count": 116,
   "id": "f8d3b1db-bdea-4044-a63d-8ffc5d673bdd",
   "metadata": {},
   "outputs": [
    {
     "data": {
      "text/plain": [
       "array([[[ 1,  2,  3],\n",
       "        [ 4,  5,  6]],\n",
       "\n",
       "       [[ 7,  8,  9],\n",
       "        [10, 11, 12]]])"
      ]
     },
     "execution_count": 116,
     "metadata": {},
     "output_type": "execute_result"
    }
   ],
   "source": [
    "arr3d[0] = old_values\n",
    "arr3d"
   ]
  },
  {
   "cell_type": "code",
   "execution_count": 117,
   "id": "a8598cf4-a562-46b5-ba58-3a302fab2ad0",
   "metadata": {},
   "outputs": [
    {
     "data": {
      "text/plain": [
       "array([7, 8, 9])"
      ]
     },
     "execution_count": 117,
     "metadata": {},
     "output_type": "execute_result"
    }
   ],
   "source": [
    "arr3d[1,0]"
   ]
  },
  {
   "cell_type": "code",
   "execution_count": 120,
   "id": "333de632-73be-43dd-9975-95a1c7b234fe",
   "metadata": {},
   "outputs": [
    {
     "data": {
      "text/plain": [
       "array([7, 8, 9])"
      ]
     },
     "execution_count": 120,
     "metadata": {},
     "output_type": "execute_result"
    }
   ],
   "source": [
    "# above code expanded into two lines\n",
    "temp_1 = arr3d[1]\n",
    "temp_1\n",
    "temp_1[0]"
   ]
  },
  {
   "cell_type": "code",
   "execution_count": 122,
   "id": "f0325745-f37a-4336-a67d-53a46f8a5d70",
   "metadata": {},
   "outputs": [
    {
     "data": {
      "text/plain": [
       "array([1, 2, 3, 4, 5])"
      ]
     },
     "execution_count": 122,
     "metadata": {},
     "output_type": "execute_result"
    }
   ],
   "source": [
    "# indexing with slicing\n",
    "arr = np.arange(10)\n",
    "arr[1:6]"
   ]
  },
  {
   "cell_type": "code",
   "execution_count": 123,
   "id": "83adc56e-6f70-4f9a-9baa-bd51c988b50e",
   "metadata": {},
   "outputs": [
    {
     "data": {
      "text/plain": [
       "array([[1, 2, 3],\n",
       "       [4, 5, 6],\n",
       "       [7, 8, 9]])"
      ]
     },
     "execution_count": 123,
     "metadata": {},
     "output_type": "execute_result"
    }
   ],
   "source": [
    "# 2d\n",
    "arr2d"
   ]
  },
  {
   "cell_type": "code",
   "execution_count": 125,
   "id": "f115a1d3-8cf5-458b-870f-863d53c4d101",
   "metadata": {},
   "outputs": [
    {
     "data": {
      "text/plain": [
       "array([[1, 2, 3],\n",
       "       [4, 5, 6]])"
      ]
     },
     "execution_count": 125,
     "metadata": {},
     "output_type": "execute_result"
    }
   ],
   "source": [
    "arr2d[:2]"
   ]
  },
  {
   "cell_type": "code",
   "execution_count": 126,
   "id": "c10a0f21-f1c6-476d-8add-de93eeec40bf",
   "metadata": {},
   "outputs": [
    {
     "data": {
      "text/plain": [
       "array([[2, 3],\n",
       "       [5, 6]])"
      ]
     },
     "execution_count": 126,
     "metadata": {},
     "output_type": "execute_result"
    }
   ],
   "source": [
    "arr2d[:2,1:]"
   ]
  },
  {
   "cell_type": "code",
   "execution_count": 130,
   "id": "3bfc7942-71a8-4ab8-a7cd-b2bb8b7d757c",
   "metadata": {},
   "outputs": [
    {
     "data": {
      "text/plain": [
       "array([4, 5])"
      ]
     },
     "execution_count": 130,
     "metadata": {},
     "output_type": "execute_result"
    }
   ],
   "source": [
    "arr2d[1,:2]"
   ]
  },
  {
   "cell_type": "code",
   "execution_count": 133,
   "id": "79776246-098f-428f-a439-d6e47279eb62",
   "metadata": {},
   "outputs": [
    {
     "data": {
      "text/plain": [
       "array([[1],\n",
       "       [4],\n",
       "       [7]])"
      ]
     },
     "execution_count": 133,
     "metadata": {},
     "output_type": "execute_result"
    }
   ],
   "source": [
    "arr2d[:,:1]"
   ]
  },
  {
   "cell_type": "code",
   "execution_count": 135,
   "id": "3acb0981-c30e-44c0-a9f6-4bfac268a945",
   "metadata": {},
   "outputs": [
    {
     "name": "stdout",
     "output_type": "stream",
     "text": [
      "['Bob' 'Joe' 'Will' 'Bob' 'Will' 'Joe' 'Joe']\n",
      "[[  4   7]\n",
      " [  0   2]\n",
      " [ -5   6]\n",
      " [  0   0]\n",
      " [  1   2]\n",
      " [-12  -4]\n",
      " [  3   4]]\n"
     ]
    }
   ],
   "source": [
    "# boolean indexing\n",
    "names = np.array([\"Bob\", \"Joe\", \"Will\", \"Bob\", \"Will\", \"Joe\", \"Joe\"])\n",
    "data = np.array([[4, 7], [0, 2], [-5, 6], [0, 0], [1, 2],[-12, -4], [3, 4]])\n",
    "print(names)\n",
    "print(data)"
   ]
  },
  {
   "cell_type": "code",
   "execution_count": 136,
   "id": "6fa07d67-2724-473c-bd7e-137c15850591",
   "metadata": {},
   "outputs": [
    {
     "data": {
      "text/plain": [
       "array([ True, False, False,  True, False, False, False])"
      ]
     },
     "execution_count": 136,
     "metadata": {},
     "output_type": "execute_result"
    }
   ],
   "source": [
    "names == 'Bob'"
   ]
  },
  {
   "cell_type": "code",
   "execution_count": 137,
   "id": "950fc09d-b572-4417-b742-47c1049cd39d",
   "metadata": {},
   "outputs": [
    {
     "data": {
      "text/plain": [
       "array([[4, 7],\n",
       "       [0, 0]])"
      ]
     },
     "execution_count": 137,
     "metadata": {},
     "output_type": "execute_result"
    }
   ],
   "source": [
    "data[names=='Bob']"
   ]
  },
  {
   "cell_type": "code",
   "execution_count": 138,
   "id": "acc53f7d-1303-41aa-9e13-6d8a016dd537",
   "metadata": {},
   "outputs": [
    {
     "data": {
      "text/plain": [
       "array([[7],\n",
       "       [0]])"
      ]
     },
     "execution_count": 138,
     "metadata": {},
     "output_type": "execute_result"
    }
   ],
   "source": [
    "data[names=='Bob',1:]"
   ]
  },
  {
   "cell_type": "code",
   "execution_count": 139,
   "id": "dd34059d-6dde-487c-9a17-d0ec7ec5dfe2",
   "metadata": {},
   "outputs": [
    {
     "data": {
      "text/plain": [
       "array([7, 0])"
      ]
     },
     "execution_count": 139,
     "metadata": {},
     "output_type": "execute_result"
    }
   ],
   "source": [
    "data[names == 'Bob',1]"
   ]
  },
  {
   "cell_type": "code",
   "execution_count": 144,
   "id": "a2909c3f-270c-4b10-9e38-964be3cf7079",
   "metadata": {},
   "outputs": [
    {
     "data": {
      "text/plain": [
       "array([  0,  -5,   1, -12,   3])"
      ]
     },
     "execution_count": 144,
     "metadata": {},
     "output_type": "execute_result"
    }
   ],
   "source": [
    "data[names != 'Bob',0]"
   ]
  },
  {
   "cell_type": "code",
   "execution_count": 149,
   "id": "da73110f-7853-45e9-a13c-a8785f070de9",
   "metadata": {},
   "outputs": [
    {
     "data": {
      "text/plain": [
       "array([[  0,   2],\n",
       "       [ -5,   6],\n",
       "       [  1,   2],\n",
       "       [-12,  -4],\n",
       "       [  3,   4]])"
      ]
     },
     "execution_count": 149,
     "metadata": {},
     "output_type": "execute_result"
    }
   ],
   "source": [
    "data[~(names == 'Bob')]\n",
    "# the ~ opeartor is useful when you want invert the boolean array referenced by variable"
   ]
  },
  {
   "cell_type": "code",
   "execution_count": 152,
   "id": "f8df7535-9d04-48bb-99e8-69d73cf5ca67",
   "metadata": {},
   "outputs": [
    {
     "data": {
      "text/plain": [
       "array([[ 4,  7],\n",
       "       [-5,  6],\n",
       "       [ 0,  0],\n",
       "       [ 1,  2]])"
      ]
     },
     "execution_count": 152,
     "metadata": {},
     "output_type": "execute_result"
    }
   ],
   "source": [
    "data[(names=='Bob') | (names=='Will')]"
   ]
  },
  {
   "cell_type": "code",
   "execution_count": null,
   "id": "b5002ac4-c855-407c-af1f-afdf47bd69ee",
   "metadata": {},
   "outputs": [],
   "source": [
    "# selecting data from array an boolean indexing and assigning the results into new varible always creates a copy of the data\n",
    "# python keywords and or not work in boolean arrays. so use &(and) |(or)"
   ]
  },
  {
   "cell_type": "code",
   "execution_count": 153,
   "id": "db2e2d52-d7df-492c-8467-b431a149d534",
   "metadata": {},
   "outputs": [
    {
     "data": {
      "text/plain": [
       "array([[4, 7],\n",
       "       [0, 2],\n",
       "       [0, 6],\n",
       "       [0, 0],\n",
       "       [1, 2],\n",
       "       [0, 0],\n",
       "       [3, 4]])"
      ]
     },
     "execution_count": 153,
     "metadata": {},
     "output_type": "execute_result"
    }
   ],
   "source": [
    "data[data<0] = 0\n",
    "data"
   ]
  },
  {
   "cell_type": "code",
   "execution_count": 159,
   "id": "b5547186-b929-459f-ad03-483c858e4855",
   "metadata": {},
   "outputs": [
    {
     "data": {
      "text/plain": [
       "array([[7, 7],\n",
       "       [0, 2],\n",
       "       [7, 7],\n",
       "       [7, 7],\n",
       "       [7, 7],\n",
       "       [0, 0],\n",
       "       [3, 4]])"
      ]
     },
     "execution_count": 159,
     "metadata": {},
     "output_type": "execute_result"
    }
   ],
   "source": [
    "# we can whole set rows or columns using one dimensional boolean array data\n",
    "data[names!='Joe']=7\n",
    "data"
   ]
  }
 ],
 "metadata": {
  "kernelspec": {
   "display_name": "Python 3 (ipykernel)",
   "language": "python",
   "name": "python3"
  },
  "language_info": {
   "codemirror_mode": {
    "name": "ipython",
    "version": 3
   },
   "file_extension": ".py",
   "mimetype": "text/x-python",
   "name": "python",
   "nbconvert_exporter": "python",
   "pygments_lexer": "ipython3",
   "version": "3.12.0"
  }
 },
 "nbformat": 4,
 "nbformat_minor": 5
}
