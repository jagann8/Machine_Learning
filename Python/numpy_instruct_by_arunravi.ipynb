{
 "cells": [
  {
   "cell_type": "markdown",
   "id": "cbb8c20d-d4ab-4126-b7e5-dc1963196207",
   "metadata": {},
   "source": [
    "numpy module consists of two parts\n",
    "    1. ndarray : n-dimesional array\n",
    "    2.ufunc : Universal functions"
   ]
  },
  {
   "cell_type": "code",
   "execution_count": 91,
   "id": "2e85072a-e44f-456e-bad1-6b464e418de9",
   "metadata": {},
   "outputs": [],
   "source": [
    "# importing libraries\n",
    "import numpy as np"
   ]
  },
  {
   "cell_type": "code",
   "execution_count": 92,
   "id": "79bcce3b-047a-4fcc-9c0d-67970883ac51",
   "metadata": {},
   "outputs": [
    {
     "data": {
      "text/plain": [
       "'1.26.0'"
      ]
     },
     "execution_count": 92,
     "metadata": {},
     "output_type": "execute_result"
    }
   ],
   "source": [
    "# checking numpy version\n",
    "np.__version__"
   ]
  },
  {
   "cell_type": "code",
   "execution_count": 93,
   "id": "a08c0d12-81f0-4ac6-8969-f2e0841e0562",
   "metadata": {},
   "outputs": [
    {
     "data": {
      "text/plain": [
       "array([1, 2, 3, 4, 5])"
      ]
     },
     "execution_count": 93,
     "metadata": {},
     "output_type": "execute_result"
    }
   ],
   "source": [
    "# initializing array\n",
    "np.array([1,2,3,4,5])"
   ]
  },
  {
   "cell_type": "code",
   "execution_count": 94,
   "id": "2e198d4d-ee78-401d-b3ad-48747f848637",
   "metadata": {},
   "outputs": [
    {
     "data": {
      "text/plain": [
       "array([1, 2, 3, 4, 5])"
      ]
     },
     "execution_count": 94,
     "metadata": {},
     "output_type": "execute_result"
    }
   ],
   "source": [
    "# store the array in variable \n",
    "arr = np.array([1,2,3,4,5])\n",
    "arr"
   ]
  },
  {
   "cell_type": "code",
   "execution_count": 95,
   "id": "cd975547-7c15-4a95-8077-36563172543c",
   "metadata": {},
   "outputs": [
    {
     "data": {
      "text/plain": [
       "numpy.ndarray"
      ]
     },
     "execution_count": 95,
     "metadata": {},
     "output_type": "execute_result"
    }
   ],
   "source": [
    "# checking type of array\n",
    "type(arr)"
   ]
  },
  {
   "cell_type": "code",
   "execution_count": 96,
   "id": "f4ae510f-ca15-48b4-b827-d520fdacdc1d",
   "metadata": {},
   "outputs": [
    {
     "data": {
      "text/plain": [
       "dtype('int32')"
      ]
     },
     "execution_count": 96,
     "metadata": {},
     "output_type": "execute_result"
    }
   ],
   "source": [
    "# dtype is not a funcfion, its a attribute\n",
    "arr.dtype"
   ]
  },
  {
   "cell_type": "code",
   "execution_count": 97,
   "id": "801be8d2-aaf7-45a2-ae07-bd67a37a81ad",
   "metadata": {},
   "outputs": [
    {
     "name": "stdout",
     "output_type": "stream",
     "text": [
      "['1' '2' '3' '4' '5']\n",
      "<class 'numpy.ndarray'>\n",
      "<U1\n"
     ]
    }
   ],
   "source": [
    "arr_2 = np.array([1,2,3,4,5],dtype='str')\n",
    "print(arr_2)\n",
    "print(type(arr_2))\n",
    "print(arr_2.dtype)"
   ]
  },
  {
   "cell_type": "code",
   "execution_count": 98,
   "id": "7be120fa-6599-4a4c-8792-c74b376bbf49",
   "metadata": {},
   "outputs": [
    {
     "name": "stdout",
     "output_type": "stream",
     "text": [
      "[1. 2. 3. 4. 5.]\n",
      "<class 'numpy.ndarray'>\n",
      "float64\n"
     ]
    }
   ],
   "source": [
    "arr_2 = np.array([1,2,3,4,5],dtype='float')\n",
    "print(arr_2)\n",
    "print(type(arr_2))\n",
    "print(arr_2.dtype)"
   ]
  },
  {
   "cell_type": "code",
   "execution_count": 99,
   "id": "0bde233a-1029-4bf0-a062-a96635150dc2",
   "metadata": {},
   "outputs": [
    {
     "name": "stdout",
     "output_type": "stream",
     "text": [
      "[1 2 3 4 5]\n",
      "<class 'numpy.ndarray'>\n",
      "int32\n"
     ]
    }
   ],
   "source": [
    "# dtype can also be int16 or int32\n",
    "arr = np.array([1,2,3,4,5],dtype='int')\n",
    "print(arr)\n",
    "print(type(arr))\n",
    "print(arr.dtype)"
   ]
  },
  {
   "cell_type": "code",
   "execution_count": 100,
   "id": "066da866-ee93-4637-8df3-64ded852a0e0",
   "metadata": {},
   "outputs": [
    {
     "data": {
      "text/plain": [
       "4"
      ]
     },
     "execution_count": 100,
     "metadata": {},
     "output_type": "execute_result"
    }
   ],
   "source": [
    "arr.itemsize # this as taken by 4 bytes"
   ]
  },
  {
   "cell_type": "code",
   "execution_count": 101,
   "id": "df6799c9-c77a-4ba6-8921-8a3823bfdd31",
   "metadata": {},
   "outputs": [
    {
     "data": {
      "text/plain": [
       "5"
      ]
     },
     "execution_count": 101,
     "metadata": {},
     "output_type": "execute_result"
    }
   ],
   "source": [
    "arr.size # array have 5 elements"
   ]
  },
  {
   "cell_type": "code",
   "execution_count": 102,
   "id": "fda0953d-c838-43a7-b574-4eb34b052037",
   "metadata": {},
   "outputs": [
    {
     "name": "stdout",
     "output_type": "stream",
     "text": [
      "20\n",
      "20\n"
     ]
    }
   ],
   "source": [
    "print(arr.itemsize * arr.size) # total byte size is required to store in array memory \n",
    "\n",
    "# we have inbuild function\n",
    "print(arr.nbytes)"
   ]
  },
  {
   "cell_type": "code",
   "execution_count": 103,
   "id": "7067cad0-d86e-45ac-852c-30e0f6817671",
   "metadata": {},
   "outputs": [
    {
     "name": "stdout",
     "output_type": "stream",
     "text": [
      "[1.  2.  3.  4.  5.5]\n",
      "float64\n"
     ]
    }
   ],
   "source": [
    "# suppose we have list it contains integers and one float nunber. it will convert list into float numbers list\n",
    "arr = np.array([1,2,3,4,5.5])\n",
    "print(arr) # list of float\n",
    "print(arr.dtype)"
   ]
  },
  {
   "cell_type": "code",
   "execution_count": 104,
   "id": "f86174ed-9a19-4b11-a845-0d33924a30a8",
   "metadata": {},
   "outputs": [
    {
     "name": "stdout",
     "output_type": "stream",
     "text": [
      "15\n",
      "0\n",
      "5\n",
      "1.707825127659933\n",
      "2.5\n",
      "2.5\n",
      "1.25\n",
      "1.75\n",
      "5\n",
      "[ 0.84147098  0.90929743  0.14112001 -0.7568025  -0.95892427  0.        ]\n",
      "[ 0.54030231 -0.41614684 -0.9899925  -0.65364362  0.28366219  1.        ]\n"
     ]
    }
   ],
   "source": [
    "# math function works only in numbers\n",
    "arr = np.array([1,2,3,4,5,0])\n",
    "print(np.sum(arr))\n",
    "print(np.min(arr))\n",
    "print(np.max(arr))\n",
    "print(np.std(arr))\n",
    "print(np.mean(arr))\n",
    "print(np.median(arr))\n",
    "print(np.quantile(arr,0.25))\n",
    "print(np.quantile(arr,0.35))\n",
    "print(np.count_nonzero(arr))\n",
    "\n",
    "# import math\n",
    "print(np.sin(arr))\n",
    "print(np.cos(arr))"
   ]
  },
  {
   "cell_type": "code",
   "execution_count": 105,
   "id": "2e616e4e-2eb7-4982-94b5-78dfdd496209",
   "metadata": {},
   "outputs": [
    {
     "data": {
      "text/plain": [
       "(4,)"
      ]
     },
     "execution_count": 105,
     "metadata": {},
     "output_type": "execute_result"
    }
   ],
   "source": [
    "# array shape\n",
    "arr = np.array([1,2,3,4])\n",
    "np.shape(arr)"
   ]
  },
  {
   "cell_type": "code",
   "execution_count": 106,
   "id": "daa2e152-b52f-4329-ae25-7758afff37a4",
   "metadata": {},
   "outputs": [
    {
     "name": "stdout",
     "output_type": "stream",
     "text": [
      "[1.+0.j 2.+0.j 3.+2.j 1.+0.j]\n",
      "(4,)\n",
      "complex128\n"
     ]
    }
   ],
   "source": [
    "arr = np.array([1,2,3+2j,True])\n",
    "print(arr)\n",
    "print(np.shape(arr))\n",
    "print(arr.dtype)"
   ]
  },
  {
   "cell_type": "code",
   "execution_count": 107,
   "id": "fe5805fa-037a-4b25-9d91-5516ae2552cf",
   "metadata": {},
   "outputs": [
    {
     "name": "stdout",
     "output_type": "stream",
     "text": [
      "['1' '2' '3' '(3+2j)' 'False' 'numpy']\n",
      "(6,)\n",
      "<U64\n"
     ]
    }
   ],
   "source": [
    "arr = np.array([1,2,3,3+2j,False,'numpy'])\n",
    "print(arr)\n",
    "print(np.shape(arr))\n",
    "print(arr.dtype)"
   ]
  },
  {
   "cell_type": "code",
   "execution_count": 108,
   "id": "440f10d7-6734-48fe-82a6-5b66463ddfcb",
   "metadata": {},
   "outputs": [
    {
     "name": "stdout",
     "output_type": "stream",
     "text": [
      "<class 'int'>\n"
     ]
    }
   ],
   "source": [
    "t = (1) # within brackets we have one value. so its becomes int\n",
    "print(type(t))"
   ]
  },
  {
   "cell_type": "code",
   "execution_count": 109,
   "id": "6f7059f9-0926-41b0-b0b1-41fb9246f785",
   "metadata": {},
   "outputs": [
    {
     "name": "stdout",
     "output_type": "stream",
     "text": [
      "<class 'tuple'>\n"
     ]
    }
   ],
   "source": [
    "t = (1,) # after the value it consider the tuple\n",
    "print(type(t))"
   ]
  },
  {
   "cell_type": "code",
   "execution_count": null,
   "id": "da08c9d1-b3fa-4f72-af16-395ac4615432",
   "metadata": {},
   "outputs": [],
   "source": []
  },
  {
   "cell_type": "code",
   "execution_count": 110,
   "id": "0f34a7be-ab9b-412c-9d16-dd34cec5feb4",
   "metadata": {
    "scrolled": true
   },
   "outputs": [
    {
     "data": {
      "text/plain": [
       "array([[4, 1],\n",
       "       [1, 2],\n",
       "       [0, 3]])"
      ]
     },
     "execution_count": 110,
     "metadata": {},
     "output_type": "execute_result"
    }
   ],
   "source": [
    "arr = np.random.randint(5,size=(3,2)) # all of this values are generated by the normal distribution\n",
    "arr"
   ]
  },
  {
   "cell_type": "code",
   "execution_count": 111,
   "id": "45c1cf26-dc93-44b9-8017-6c1897d074e5",
   "metadata": {},
   "outputs": [
    {
     "data": {
      "text/plain": [
       "15"
      ]
     },
     "execution_count": 111,
     "metadata": {},
     "output_type": "execute_result"
    }
   ],
   "source": [
    "arr = np.array([1,2,3,4,5])\n",
    "np.sum(arr)"
   ]
  },
  {
   "cell_type": "code",
   "execution_count": 112,
   "id": "f068c905-ae1c-4cab-8e94-57f4c58e1cf4",
   "metadata": {},
   "outputs": [
    {
     "data": {
      "text/plain": [
       "5"
      ]
     },
     "execution_count": 112,
     "metadata": {},
     "output_type": "execute_result"
    }
   ],
   "source": [
    "np.max(arr)"
   ]
  },
  {
   "cell_type": "code",
   "execution_count": 113,
   "id": "616e8e2a-27c5-40d1-8472-3f72722c0c64",
   "metadata": {},
   "outputs": [
    {
     "data": {
      "text/plain": [
       "3.0"
      ]
     },
     "execution_count": 113,
     "metadata": {},
     "output_type": "execute_result"
    }
   ],
   "source": [
    "np.mean(arr)"
   ]
  },
  {
   "cell_type": "code",
   "execution_count": 114,
   "id": "5669750c-97e9-45e9-a37d-d51ed9898937",
   "metadata": {
    "scrolled": true
   },
   "outputs": [
    {
     "data": {
      "text/plain": [
       "1.4142135623730951"
      ]
     },
     "execution_count": 114,
     "metadata": {},
     "output_type": "execute_result"
    }
   ],
   "source": [
    "np.std(arr)"
   ]
  },
  {
   "cell_type": "code",
   "execution_count": 115,
   "id": "3cca854b-772b-44c6-896e-d695ccbd6fc5",
   "metadata": {},
   "outputs": [
    {
     "data": {
      "text/plain": [
       "15"
      ]
     },
     "execution_count": 115,
     "metadata": {},
     "output_type": "execute_result"
    }
   ],
   "source": [
    "np.sum(arr)"
   ]
  },
  {
   "cell_type": "markdown",
   "id": "1c8b2e37-2dbb-4ef0-ad46-3fbc7372a16f",
   "metadata": {},
   "source": [
    "#### 2D"
   ]
  },
  {
   "cell_type": "code",
   "execution_count": 116,
   "id": "801997a9-c80c-4cdb-a627-ce5989c23ad0",
   "metadata": {},
   "outputs": [
    {
     "data": {
      "text/plain": [
       "array([[0., 0., 0.],\n",
       "       [0., 0., 0.]])"
      ]
     },
     "execution_count": 116,
     "metadata": {},
     "output_type": "execute_result"
    }
   ],
   "source": [
    "# to creating 2D zeros\n",
    "np.zeros((2,3)) # 2 - dimensional"
   ]
  },
  {
   "cell_type": "code",
   "execution_count": 117,
   "id": "dbfc5e5b-d452-4122-9883-89770e4c1e87",
   "metadata": {},
   "outputs": [
    {
     "data": {
      "text/plain": [
       "array([[[0., 0., 0.],\n",
       "        [0., 0., 0.],\n",
       "        [0., 0., 0.]],\n",
       "\n",
       "       [[0., 0., 0.],\n",
       "        [0., 0., 0.],\n",
       "        [0., 0., 0.]]])"
      ]
     },
     "execution_count": 117,
     "metadata": {},
     "output_type": "execute_result"
    }
   ],
   "source": [
    "# to creating 3D zeros\n",
    "np.zeros((2,3,3))"
   ]
  },
  {
   "cell_type": "code",
   "execution_count": 118,
   "id": "8887a4ef-70cd-417c-b77e-b1e30f26c44a",
   "metadata": {},
   "outputs": [
    {
     "data": {
      "text/plain": [
       "array([[[[0., 0.],\n",
       "         [0., 0.],\n",
       "         [0., 0.]],\n",
       "\n",
       "        [[0., 0.],\n",
       "         [0., 0.],\n",
       "         [0., 0.]],\n",
       "\n",
       "        [[0., 0.],\n",
       "         [0., 0.],\n",
       "         [0., 0.]]],\n",
       "\n",
       "\n",
       "       [[[0., 0.],\n",
       "         [0., 0.],\n",
       "         [0., 0.]],\n",
       "\n",
       "        [[0., 0.],\n",
       "         [0., 0.],\n",
       "         [0., 0.]],\n",
       "\n",
       "        [[0., 0.],\n",
       "         [0., 0.],\n",
       "         [0., 0.]]]])"
      ]
     },
     "execution_count": 118,
     "metadata": {},
     "output_type": "execute_result"
    }
   ],
   "source": [
    "np.zeros((2,3,3,2)) # 4 dimensional"
   ]
  },
  {
   "cell_type": "code",
   "execution_count": 119,
   "id": "ef3f74e6-f74b-4e16-97d9-6654f6fcf401",
   "metadata": {},
   "outputs": [
    {
     "name": "stdout",
     "output_type": "stream",
     "text": [
      "[[0 0 0 0]\n",
      " [0 0 0 0]]\n",
      "int32\n"
     ]
    }
   ],
   "source": [
    "arr = np.zeros((2,4),dtype='int')\n",
    "print(arr)\n",
    "print(arr.dtype)"
   ]
  },
  {
   "cell_type": "code",
   "execution_count": 120,
   "id": "536dd8a3-d3dc-484a-8779-ab94dc0e9b48",
   "metadata": {},
   "outputs": [
    {
     "name": "stdout",
     "output_type": "stream",
     "text": [
      "[[1. 1. 1. 1.]\n",
      " [1. 1. 1. 1.]]\n",
      "float64\n"
     ]
    }
   ],
   "source": [
    "arr = np.ones((2,4))\n",
    "print(arr) # default its float\n",
    "print(arr.dtype)"
   ]
  },
  {
   "cell_type": "code",
   "execution_count": 121,
   "id": "b27fdf7c-e859-42f5-8009-188d99e891c9",
   "metadata": {},
   "outputs": [
    {
     "name": "stdout",
     "output_type": "stream",
     "text": [
      "[[28 28 28]\n",
      " [28 28 28]]\n",
      "int32\n"
     ]
    }
   ],
   "source": [
    "arr = np.full((2,3),28)\n",
    "print(arr)\n",
    "print(arr.dtype)"
   ]
  },
  {
   "cell_type": "code",
   "execution_count": 122,
   "id": "c58cf692-2082-45e4-a07a-01603d212d6f",
   "metadata": {},
   "outputs": [
    {
     "name": "stdout",
     "output_type": "stream",
     "text": [
      "[[ 1  2  3]\n",
      " [ 4  5  6]\n",
      " [ 7  8  9]\n",
      " [10 11 12]]\n",
      "\n",
      "\n",
      "[[0 0 0]\n",
      " [0 0 0]\n",
      " [0 0 0]\n",
      " [0 0 0]]\n",
      "\n",
      "\n",
      "[[1 1 1]\n",
      " [1 1 1]\n",
      " [1 1 1]\n",
      " [1 1 1]]\n",
      "\n",
      "\n",
      "[[8 8 8]\n",
      " [8 8 8]\n",
      " [8 8 8]\n",
      " [8 8 8]]\n"
     ]
    }
   ],
   "source": [
    "# like - copy of the shape\n",
    "\n",
    "arr = np.array([[1,2,3],[4,5,6],[7,8,9],[10,11,12]])\n",
    "print(arr)\n",
    "print('\\n')\n",
    "print(np.zeros_like(arr))\n",
    "print('\\n')\n",
    "print(np.ones_likg e(arr))\n",
    "print('\\n')\n",
    "print(np.full_like((arr),8))"
   ]
  },
  {
   "cell_type": "code",
   "execution_count": 123,
   "id": "4acc17d4-d3b0-450f-98dc-603aced7fd3f",
   "metadata": {},
   "outputs": [
    {
     "data": {
      "text/plain": [
       "array([[1., 0., 0.],\n",
       "       [0., 1., 0.],\n",
       "       [0., 0., 1.]])"
      ]
     },
     "execution_count": 123,
     "metadata": {},
     "output_type": "execute_result"
    }
   ],
   "source": [
    "np.identity(3) # identity always be a square matrix"
   ]
  },
  {
   "cell_type": "code",
   "execution_count": 124,
   "id": "f68220a3-3c5a-465a-8574-8d9eb8b96cc0",
   "metadata": {},
   "outputs": [
    {
     "name": "stdout",
     "output_type": "stream",
     "text": [
      "[[[1 1 1 2 2 2 3 3 3]]]\n"
     ]
    }
   ],
   "source": [
    "# repeat\n",
    "arr = np.array([[[1,2,3]]])\n",
    "r1=np.repeat(arr,3,axis=2)\n",
    "print(r1)"
   ]
  },
  {
   "cell_type": "code",
   "execution_count": 125,
   "id": "c306ee6f-4f9b-470a-b97f-31bf0acc66ab",
   "metadata": {},
   "outputs": [
    {
     "data": {
      "text/plain": [
       "array([[-0.16602745,  1.14117657, -0.62762274,  0.19652122],\n",
       "       [-1.24153438, -0.88279069,  0.60402577, -1.10428775],\n",
       "       [-0.56148994, -1.45418245, -1.28678844,  0.27937063]])"
      ]
     },
     "execution_count": 125,
     "metadata": {},
     "output_type": "execute_result"
    }
   ],
   "source": [
    "#  numpy have random module, lets look into some examples\n",
    "arr = np.random.randn(3,4) # 3 rows, 4 columns # all of this values are which is normal distribution\n",
    "arr"
   ]
  },
  {
   "cell_type": "code",
   "execution_count": 126,
   "id": "9cb71f6a-7f87-4e2c-a2ab-2401d33c8d2a",
   "metadata": {
    "scrolled": true
   },
   "outputs": [
    {
     "data": {
      "text/plain": [
       "array([[0, 4, 1],\n",
       "       [4, 3, 4],\n",
       "       [3, 4, 2]])"
      ]
     },
     "execution_count": 126,
     "metadata": {},
     "output_type": "execute_result"
    }
   ],
   "source": [
    "arr = np.random.randint(5,size=(3,3)) # all of this values are generated by the normal distribution\n",
    "arr # 3 dimensional should be a 3 rows and 3 columns, values between 0 to 7"
   ]
  },
  {
   "cell_type": "code",
   "execution_count": 127,
   "id": "ebe1274b-3ab7-4961-8923-a6f86e56e18e",
   "metadata": {},
   "outputs": [
    {
     "name": "stdout",
     "output_type": "stream",
     "text": [
      "[[7 4 7]\n",
      " [5 5 5]\n",
      " [6 5 6]]\n"
     ]
    }
   ],
   "source": [
    "# now values between 4 to 8 in 3-Dimensional\n",
    "arr = np.random.randint(4,8,size=((3,3)))\n",
    "print(arr)"
   ]
  },
  {
   "cell_type": "code",
   "execution_count": 128,
   "id": "7bed137c-973d-4681-a8a0-b13f274af0c5",
   "metadata": {},
   "outputs": [
    {
     "data": {
      "text/plain": [
       "array([[ 0.39769376,  0.20294524, -0.56823186, ..., -0.49496659,\n",
       "         1.11324704, -0.52230716],\n",
       "       [ 0.53696113,  0.52126822,  1.56884047, ...,  0.23778976,\n",
       "         1.64168798, -1.34448785],\n",
       "       [-0.11894099, -0.13174812,  0.56247988, ..., -1.79926278,\n",
       "        -0.40801328, -0.61367601],\n",
       "       ...,\n",
       "       [ 0.36082772,  0.23616977,  1.21931176, ...,  0.55378054,\n",
       "         0.52097609,  2.22861214],\n",
       "       [ 1.17059432, -0.09311733,  0.37289968, ...,  1.08844053,\n",
       "         0.50627425,  0.13283709],\n",
       "       [-1.18673259,  0.26470335, -1.42506502, ...,  0.70480193,\n",
       "        -0.36287563, -0.38982729]])"
      ]
     },
     "execution_count": 128,
     "metadata": {},
     "output_type": "execute_result"
    }
   ],
   "source": [
    "a = np.random.randn(100,60)\n",
    "a"
   ]
  },
  {
   "cell_type": "code",
   "execution_count": 129,
   "id": "0ac2d474-723a-4588-ba51-066abd53127b",
   "metadata": {},
   "outputs": [
    {
     "data": {
      "text/plain": [
       "array([[-0.27661089, -0.46887673, -1.43356308, ...,  0.46045699,\n",
       "        -1.08091178, -0.83884024],\n",
       "       [-0.30281787,  0.65757338,  1.64585372, ...,  0.80314366,\n",
       "         0.31829167, -0.01088673],\n",
       "       [-2.07318648, -0.46545598,  1.54807429, ..., -0.31536324,\n",
       "        -1.85552954,  1.10195558],\n",
       "       ...,\n",
       "       [-1.58696168,  1.52210752, -0.0489782 , ..., -0.40092377,\n",
       "         0.09038112, -0.08717085],\n",
       "       [-0.58184519,  0.21872608,  0.71114215, ...,  0.58492781,\n",
       "         0.03977757,  1.57969932],\n",
       "       [-1.2874815 , -1.3980817 ,  0.20807162, ...,  1.04354978,\n",
       "         1.26530719, -0.58941225]])"
      ]
     },
     "execution_count": 129,
     "metadata": {},
     "output_type": "execute_result"
    }
   ],
   "source": [
    "# lets make 1000 rows and 600 columns\n",
    "b = np.random.randn(1000,600)\n",
    "b"
   ]
  },
  {
   "cell_type": "code",
   "execution_count": 130,
   "id": "1add78ea-43ab-466b-937b-707a7ed70953",
   "metadata": {},
   "outputs": [
    {
     "data": {
      "image/png": "[encoded data removed]",
      "text/plain": [
       "<Figure size 640x480 with 1 Axes>"
      ]
     },
     "metadata": {},
     "output_type": "display_data"
    }
   ],
   "source": [
    "# lets create histogram for this. histogram needs bins\n",
    "import seaborn as sns\n",
    "import matplotlib.pyplot as plt\n",
    "import warnings # if we remove this we will get warnings\n",
    "warnings.filterwarnings('ignore')\n",
    "\n",
    "sns.distplot(a)\n",
    "plt.show()"
   ]
  },
  {
   "cell_type": "code",
   "execution_count": 131,
   "id": "d8f96bc4-a06c-4f51-b093-687819dec795",
   "metadata": {},
   "outputs": [
    {
     "data": {
      "text/plain": [
       "array([[-0.645616  , -0.5857841 ,  0.67831096,  0.02498646, -1.23011236],\n",
       "       [ 0.56944391, -0.12054272,  0.80464361,  1.58282233, -1.74865061],\n",
       "       [-1.39778028,  1.05843451,  0.67744991, -0.49716484, -0.54142056],\n",
       "       [-1.81391875, -0.2156246 , -0.94914568, -0.22432163, -1.27387764],\n",
       "       [-0.04473089,  0.50139527, -0.10842714, -1.09163292,  0.68613353],\n",
       "       [ 0.52824765,  1.91929913, -0.05452799, -0.15875135,  0.43923718],\n",
       "       [-0.80551009,  0.70302297, -0.89420939, -0.26791   ,  0.52551752],\n",
       "       [ 0.33810105, -0.22169643,  0.48579182,  0.77739002,  0.6161781 ],\n",
       "       [-0.25545091, -0.26327633,  1.31099045, -1.11548337,  0.31577056],\n",
       "       [-1.71116558, -0.60951501,  1.18814405, -0.96925077, -0.12947385]])"
      ]
     },
     "execution_count": 131,
     "metadata": {},
     "output_type": "execute_result"
    }
   ],
   "source": [
    "arr = np.random.randn(10,5)\n",
    "arr"
   ]
  },
  {
   "cell_type": "code",
   "execution_count": 132,
   "id": "eccf9669-96d6-43c9-b3de-5ef7794260ad",
   "metadata": {},
   "outputs": [
    {
     "name": "stdout",
     "output_type": "stream",
     "text": [
      "1.9192991277588283 -1.813918752389646\n"
     ]
    }
   ],
   "source": [
    "print(np.max(arr),np.min(arr))"
   ]
  },
  {
   "cell_type": "code",
   "execution_count": 133,
   "id": "724721a9-ae2c-4ff2-90ab-850ab9f7cec6",
   "metadata": {},
   "outputs": [
    {
     "name": "stdout",
     "output_type": "stream",
     "text": [
      "[1 2 3 4 5]\n",
      "<class 'numpy.ndarray'>\n"
     ]
    }
   ],
   "source": [
    "arr = np.array([1,2,3,4,5])\n",
    "print(arr)\n",
    "print(type(arr))"
   ]
  },
  {
   "cell_type": "code",
   "execution_count": 134,
   "id": "1ceda140-6398-4c01-bd08-d0b52aa5afbf",
   "metadata": {},
   "outputs": [
    {
     "name": "stdout",
     "output_type": "stream",
     "text": [
      "[[1 2 3]\n",
      " [4 5 6]]\n",
      "<class 'numpy.ndarray'>\n"
     ]
    }
   ],
   "source": [
    "arr = np.array([[1,2,3],[4,5,6]])\n",
    "print(arr)\n",
    "print(type(arr))"
   ]
  },
  {
   "cell_type": "markdown",
   "id": "ffac1fb7-84dc-4b17-9419-3c30221946dc",
   "metadata": {},
   "source": [
    "#### Indexing and Slicing"
   ]
  },
  {
   "cell_type": "code",
   "execution_count": 135,
   "id": "d2295406-ca08-459b-b12c-b3805e5d39ce",
   "metadata": {},
   "outputs": [
    {
     "data": {
      "text/plain": [
       "array([[1, 2, 3],\n",
       "       [4, 5, 6],\n",
       "       [7, 8, 9]])"
      ]
     },
     "execution_count": 135,
     "metadata": {},
     "output_type": "execute_result"
    }
   ],
   "source": [
    "arr = np.array([[1,2,3],[4,5,6],[7,8,9]])\n",
    "arr"
   ]
  },
  {
   "cell_type": "code",
   "execution_count": 136,
   "id": "bc2f701d-e385-4d24-ba2c-3718b030f85c",
   "metadata": {},
   "outputs": [
    {
     "name": "stdout",
     "output_type": "stream",
     "text": [
      "1D/2D =>  2\n"
     ]
    }
   ],
   "source": [
    "print('1D/2D => ',np.ndim(arr)) # ndim it gives array dimensional of array"
   ]
  },
  {
   "cell_type": "code",
   "execution_count": 137,
   "id": "79c8636f-aab9-4a69-8879-ad2dc46e752a",
   "metadata": {},
   "outputs": [
    {
     "data": {
      "text/plain": [
       "array([4, 5, 6])"
      ]
     },
     "execution_count": 137,
     "metadata": {},
     "output_type": "execute_result"
    }
   ],
   "source": [
    "arr[1]"
   ]
  },
  {
   "cell_type": "code",
   "execution_count": 138,
   "id": "4a83565f-4a96-410f-b9cd-440624faade1",
   "metadata": {},
   "outputs": [
    {
     "data": {
      "text/plain": [
       "5"
      ]
     },
     "execution_count": 138,
     "metadata": {},
     "output_type": "execute_result"
    }
   ],
   "source": [
    "arr[1][1]"
   ]
  },
  {
   "cell_type": "code",
   "execution_count": 139,
   "id": "bfc46287-9413-4e48-b173-991a549f0cea",
   "metadata": {},
   "outputs": [
    {
     "data": {
      "text/plain": [
       "array([2, 5, 8])"
      ]
     },
     "execution_count": 139,
     "metadata": {},
     "output_type": "execute_result"
    }
   ],
   "source": [
    "# get specific column\n",
    "arr[:,1]"
   ]
  },
  {
   "cell_type": "code",
   "execution_count": 140,
   "id": "749a2d0a-960a-4bbc-a58c-af3cb0309d97",
   "metadata": {},
   "outputs": [
    {
     "data": {
      "text/plain": [
       "array([4, 5, 6])"
      ]
     },
     "execution_count": 140,
     "metadata": {},
     "output_type": "execute_result"
    }
   ],
   "source": [
    "# get specific row\n",
    "arr[1,:]"
   ]
  },
  {
   "cell_type": "code",
   "execution_count": 141,
   "id": "6547d763-946c-43aa-8eca-972600a13072",
   "metadata": {},
   "outputs": [
    {
     "data": {
      "text/plain": [
       "range(0, 5)"
      ]
     },
     "execution_count": 141,
     "metadata": {},
     "output_type": "execute_result"
    }
   ],
   "source": [
    "range(0,5)"
   ]
  },
  {
   "cell_type": "code",
   "execution_count": 142,
   "id": "c7fe1c65-8cec-47bd-840f-21955ed7a760",
   "metadata": {},
   "outputs": [
    {
     "data": {
      "text/plain": [
       "array([2, 4, 6])"
      ]
     },
     "execution_count": 142,
     "metadata": {},
     "output_type": "execute_result"
    }
   ],
   "source": [
    "arr = np.array([[1,2,3,4,5,6,7,8],[9,10,11,12,13,14,15,16]])\n",
    "# to getting more specific values [startindex:endindex:stepvalue]\n",
    "arr[0,1:7:2]"
   ]
  },
  {
   "cell_type": "code",
   "execution_count": 143,
   "id": "f85e3645-1660-4998-9df2-694cce24e881",
   "metadata": {},
   "outputs": [
    {
     "data": {
      "text/plain": [
       "array([2, 4, 6])"
      ]
     },
     "execution_count": 143,
     "metadata": {},
     "output_type": "execute_result"
    }
   ],
   "source": [
    "arr[0,1:-1:2]"
   ]
  },
  {
   "cell_type": "code",
   "execution_count": 144,
   "id": "fdc26d87-1f60-4ace-8654-8fb6e3663157",
   "metadata": {},
   "outputs": [
    {
     "name": "stdout",
     "output_type": "stream",
     "text": [
      "[[1. 1. 1. 1. 1.]\n",
      " [1. 1. 1. 1. 1.]\n",
      " [1. 1. 1. 1. 1.]\n",
      " [1. 1. 1. 1. 1.]\n",
      " [1. 1. 1. 1. 1.]]\n",
      "\n",
      "[[0. 0. 0.]\n",
      " [0. 0. 0.]\n",
      " [0. 0. 0.]]\n",
      "\n",
      "[[0. 0. 0.]\n",
      " [0. 8. 0.]\n",
      " [0. 0. 0.]]\n",
      "\n",
      "[[1. 1. 1. 1. 1.]\n",
      " [1. 0. 0. 0. 1.]\n",
      " [1. 0. 8. 0. 1.]\n",
      " [1. 0. 0. 0. 1.]\n",
      " [1. 1. 1. 1. 1.]]\n"
     ]
    }
   ],
   "source": [
    "result=np.ones((5,5))\n",
    "print(result)\n",
    "print()\n",
    "zeros = np.zeros((3,3))\n",
    "print(zeros)\n",
    "zeros[1,1]=8\n",
    "print()\n",
    "print(zeros)\n",
    "result[1:-1,1:-1]=zeros\n",
    "print()\n",
    "print(result)"
   ]
  },
  {
   "cell_type": "code",
   "execution_count": 145,
   "id": "1fecb243-3b53-4298-b8d2-5d64061dd351",
   "metadata": {},
   "outputs": [
    {
     "name": "stdout",
     "output_type": "stream",
     "text": [
      "[[1. 1. 1. 1. 1.]\n",
      " [1. 1. 1. 1. 1.]\n",
      " [1. 1. 1. 1. 1.]\n",
      " [1. 1. 1. 1. 1.]\n",
      " [1. 1. 1. 1. 1.]]\n",
      "\n",
      "[[1. 1. 1. 1. 1.]\n",
      " [1. 1. 1. 1. 1.]\n",
      " [1. 0. 1. 3. 1.]\n",
      " [1. 0. 1. 1. 1.]\n",
      " [1. 1. 1. 1. 1.]]\n"
     ]
    }
   ],
   "source": [
    "# another exercise\n",
    "result=np.ones((5,5))\n",
    "print(result)\n",
    "print()\n",
    "result[2:4,1]=0\n",
    "result[2,3]=3\n",
    "print(result)"
   ]
  },
  {
   "cell_type": "code",
   "execution_count": 146,
   "id": "2eb618d6-d46b-46a7-a03e-d2ab4431e7b3",
   "metadata": {},
   "outputs": [
    {
     "name": "stdout",
     "output_type": "stream",
     "text": [
      "A => [8 2 3]\n",
      "B => [8 2 3]\n"
     ]
    }
   ],
   "source": [
    "# copying array\n",
    "a = np.array([1,2,3])\n",
    "b=a\n",
    "b[0]=8\n",
    "print('A =>',a)\n",
    "print('B =>',b)\n",
    "# we can see that b[0] value its changed in variable a to overcome this we using copy"
   ]
  },
  {
   "cell_type": "code",
   "execution_count": 147,
   "id": "0c4465af-6b49-4a6f-87fb-8f1012d9bb11",
   "metadata": {},
   "outputs": [
    {
     "name": "stdout",
     "output_type": "stream",
     "text": [
      "[1 2 3]\n",
      "\n",
      "[8 2 3]\n"
     ]
    }
   ],
   "source": [
    "a = np.array([1,2,3])\n",
    "b=a.copy()\n",
    "b[0]=8\n",
    "print(a)\n",
    "print()\n",
    "print(b)"
   ]
  },
  {
   "cell_type": "markdown",
   "id": "cddd4fc8-acac-4c5a-ac9e-5147974e5018",
   "metadata": {},
   "source": [
    "#### 3D "
   ]
  },
  {
   "cell_type": "code",
   "execution_count": 148,
   "id": "6fb1463c-602a-4af6-8096-cb23c3c84cf7",
   "metadata": {},
   "outputs": [
    {
     "name": "stdout",
     "output_type": "stream",
     "text": [
      "[[[1 2]\n",
      "  [3 4]]\n",
      "\n",
      " [[5 6]\n",
      "  [7 8]]]\n"
     ]
    }
   ],
   "source": [
    "b= np.array([[[1,2],[3,4]],[[5,6],[7,8]]])\n",
    "print(b)"
   ]
  },
  {
   "cell_type": "code",
   "execution_count": 149,
   "id": "db4a3129-618f-470a-aa0d-248ee6f9d674",
   "metadata": {},
   "outputs": [
    {
     "name": "stdout",
     "output_type": "stream",
     "text": [
      "4\n",
      "\n",
      "[[3 4]\n",
      " [7 8]]\n",
      "\n",
      "[[1 2]\n",
      " [5 6]]\n"
     ]
    }
   ],
   "source": [
    "# get specific elememt in 3D\n",
    "print(b[0,1,1])\n",
    "print()\n",
    "print(b[:,1,:])\n",
    "print()\n",
    "print(b[:,0,:])"
   ]
  },
  {
   "cell_type": "code",
   "execution_count": 150,
   "id": "e0f8dc58-f066-4aca-9727-202748e47427",
   "metadata": {},
   "outputs": [
    {
     "data": {
      "text/plain": [
       "array([[[1, 2],\n",
       "        [2, 8]],\n",
       "\n",
       "       [[5, 6],\n",
       "        [8, 2]]])"
      ]
     },
     "execution_count": 150,
     "metadata": {},
     "output_type": "execute_result"
    }
   ],
   "source": [
    "# replacing values in 3D\n",
    "b[:,1,:]=[[2,8],[8,2]]\n",
    "b"
   ]
  },
  {
   "cell_type": "code",
   "execution_count": 151,
   "id": "85cdeadb-bebf-40b1-849a-149bff32c0ad",
   "metadata": {},
   "outputs": [
    {
     "data": {
      "text/plain": [
       "array([0, 1, 2, 3])"
      ]
     },
     "execution_count": 151,
     "metadata": {},
     "output_type": "execute_result"
    }
   ],
   "source": [
    "# arange\n",
    "np.arange(4) # it returns array with even spaced elements and it starts with 0"
   ]
  },
  {
   "cell_type": "code",
   "execution_count": 152,
   "id": "4a494ec4-2400-409a-a2dc-3b5632c56ecd",
   "metadata": {},
   "outputs": [
    {
     "data": {
      "text/plain": [
       "array([ 0,  1,  2,  3,  4,  5,  6,  7,  8,  9, 10, 11])"
      ]
     },
     "execution_count": 152,
     "metadata": {},
     "output_type": "execute_result"
    }
   ],
   "source": [
    "np.arange(12)"
   ]
  },
  {
   "cell_type": "code",
   "execution_count": 153,
   "id": "6e147890-7f0f-4788-aa2f-79934e7d1ad1",
   "metadata": {},
   "outputs": [
    {
     "data": {
      "text/plain": [
       "array([[ 0,  1,  2],\n",
       "       [ 3,  4,  5],\n",
       "       [ 6,  7,  8],\n",
       "       [ 9, 10, 11]])"
      ]
     },
     "execution_count": 153,
     "metadata": {},
     "output_type": "execute_result"
    }
   ],
   "source": [
    "# reshape\n",
    "np.arange(12).reshape(4,3)"
   ]
  },
  {
   "cell_type": "code",
   "execution_count": 154,
   "id": "563d1e47-7e5a-4e57-8d79-bc794f2ae0be",
   "metadata": {},
   "outputs": [
    {
     "data": {
      "text/plain": [
       "array([[ 0,  1],\n",
       "       [ 2,  3],\n",
       "       [ 4,  5],\n",
       "       [ 6,  7],\n",
       "       [ 8,  9],\n",
       "       [10, 11]])"
      ]
     },
     "execution_count": 154,
     "metadata": {},
     "output_type": "execute_result"
    }
   ],
   "source": [
    "np.arange(12).reshape(6,2)"
   ]
  },
  {
   "cell_type": "code",
   "execution_count": 155,
   "id": "9b57e693-530d-4a30-be4b-2d81da8f697e",
   "metadata": {},
   "outputs": [
    {
     "data": {
      "text/plain": [
       "array([[ 0,  1,  2,  3,  4,  5],\n",
       "       [ 6,  7,  8,  9, 10, 11]])"
      ]
     },
     "execution_count": 155,
     "metadata": {},
     "output_type": "execute_result"
    }
   ],
   "source": [
    "np.arange(12).reshape(2,6)"
   ]
  },
  {
   "cell_type": "code",
   "execution_count": 156,
   "id": "bafbf983-afad-49a9-b086-572f3d2affbe",
   "metadata": {},
   "outputs": [
    {
     "name": "stdout",
     "output_type": "stream",
     "text": [
      "[[[ 0  1  2]\n",
      "  [ 3  4  5]]\n",
      "\n",
      " [[ 6  7  8]\n",
      "  [ 9 10 11]]]\n",
      "\n",
      " (2, 2, 3)\n",
      "\n",
      "1D/2D  3\n"
     ]
    }
   ],
   "source": [
    "arr = np.arange(12).reshape(2,2,3)\n",
    "print(arr)\n",
    "print('\\n',arr.shape)\n",
    "print('\\n1D/2D ',arr.ndim)"
   ]
  },
  {
   "cell_type": "code",
   "execution_count": 157,
   "id": "1ff0542e-bcd7-4ae8-b69f-829e80f06988",
   "metadata": {},
   "outputs": [
    {
     "data": {
      "text/plain": [
       "array([[[ 0,  1,  2]],\n",
       "\n",
       "       [[ 3,  4,  5]],\n",
       "\n",
       "       [[ 6,  7,  8]],\n",
       "\n",
       "       [[ 9, 10, 11]]])"
      ]
     },
     "execution_count": 157,
     "metadata": {},
     "output_type": "execute_result"
    }
   ],
   "source": [
    "np.arange(12).reshape(4,1,3)"
   ]
  },
  {
   "cell_type": "code",
   "execution_count": 158,
   "id": "50956b5d-a262-40e4-ac25-f6edcb24a7db",
   "metadata": {},
   "outputs": [
    {
     "data": {
      "text/plain": [
       "array([[[ 0,  1,  2,  3,  4,  5,  6,  7,  8,  9, 10, 11]]])"
      ]
     },
     "execution_count": 158,
     "metadata": {},
     "output_type": "execute_result"
    }
   ],
   "source": [
    "np.arange(12).reshape(1,1,12)"
   ]
  },
  {
   "cell_type": "code",
   "execution_count": 159,
   "id": "0386b737-a9cc-47a1-995c-739eeb46446d",
   "metadata": {},
   "outputs": [
    {
     "data": {
      "text/plain": [
       "dtype('int32')"
      ]
     },
     "execution_count": 159,
     "metadata": {},
     "output_type": "execute_result"
    }
   ],
   "source": [
    "np.arange(12).reshape(1,1,12).dtype"
   ]
  },
  {
   "cell_type": "code",
   "execution_count": 160,
   "id": "54dd3eb3-e92e-40a6-9845-093f48cd45d8",
   "metadata": {},
   "outputs": [
    {
     "data": {
      "text/plain": [
       "(1, 1, 12)"
      ]
     },
     "execution_count": 160,
     "metadata": {},
     "output_type": "execute_result"
    }
   ],
   "source": [
    "np.arange(12).reshape(1,1,12).shape"
   ]
  },
  {
   "cell_type": "code",
   "execution_count": 161,
   "id": "e64b15dd-ce50-4f43-875b-1b3ac717c34b",
   "metadata": {},
   "outputs": [
    {
     "data": {
      "text/plain": [
       "array([[[ 0,  1,  2],\n",
       "        [ 3,  4,  5]],\n",
       "\n",
       "       [[ 6,  7,  8],\n",
       "        [ 9, 10, 11]]])"
      ]
     },
     "execution_count": 161,
     "metadata": {},
     "output_type": "execute_result"
    }
   ],
   "source": [
    "np.arange(12).reshape(2,2,3)"
   ]
  },
  {
   "cell_type": "code",
   "execution_count": 162,
   "id": "8e615b2f-4b23-4030-a52b-e3ba8573d634",
   "metadata": {},
   "outputs": [
    {
     "data": {
      "text/plain": [
       "array([[1, 2, 3, 4],\n",
       "       [5, 6, 7, 8],\n",
       "       [1, 2, 3, 4],\n",
       "       [5, 6, 7, 8],\n",
       "       [1, 2, 3, 4],\n",
       "       [5, 6, 7, 8],\n",
       "       [5, 6, 7, 8],\n",
       "       [5, 6, 7, 8]])"
      ]
     },
     "execution_count": 162,
     "metadata": {},
     "output_type": "execute_result"
    }
   ],
   "source": [
    "# vertical stacking vector\n",
    "\n",
    "v1 = np.array([1,2,3,4])\n",
    "v2 = np.array([5,6,7,8])\n",
    "\n",
    "np.vstack([v1,v2,v1,v2,v1,v2,v2,v2])"
   ]
  },
  {
   "cell_type": "code",
   "execution_count": 163,
   "id": "66a36a0d-874a-43b0-93f0-475da3172409",
   "metadata": {},
   "outputs": [
    {
     "data": {
      "text/plain": [
       "array([1, 2, 3, 4, 5, 6, 7, 8])"
      ]
     },
     "execution_count": 163,
     "metadata": {},
     "output_type": "execute_result"
    }
   ],
   "source": [
    "# horizontal stack\n",
    "h1=np.array([1,2,3,4])\n",
    "h2=np.array([5,6,7,8])\n",
    "\n",
    "np.hstack((h1,h2))"
   ]
  },
  {
   "cell_type": "code",
   "execution_count": 164,
   "id": "7fc54814-ca23-48a5-85b3-79a120f319a2",
   "metadata": {},
   "outputs": [
    {
     "data": {
      "text/plain": [
       "array([[1., 1., 1., 1., 0., 0.],\n",
       "       [1., 1., 1., 1., 0., 0.]])"
      ]
     },
     "execution_count": 164,
     "metadata": {},
     "output_type": "execute_result"
    }
   ],
   "source": [
    "h1 = np.ones((2,4))\n",
    "h2 = np.zeros((2,2))\n",
    "np.hstack((h1,h2))"
   ]
  },
  {
   "cell_type": "code",
   "execution_count": 165,
   "id": "17291be7-7cbe-41c1-90f0-3c99b0512eed",
   "metadata": {},
   "outputs": [
    {
     "name": "stdout",
     "output_type": "stream",
     "text": [
      "[[ 11  22  33 100 100]\n",
      " [ 44  55  66 100 100]\n",
      " [ 77  88  99 100 100]]\n",
      "\n",
      "[[11 22]\n",
      " [44 55]\n",
      " [77 88]]\n",
      "\n",
      "[100 100 100]\n"
     ]
    }
   ],
   "source": [
    "# very important for ML\n",
    "arr = np.array([[11,22,33,100,100],[44,55,66,100,100],[77,88,99,100,100]])\n",
    "print(arr)\n",
    "print()\n",
    "print(arr[:,:-3])\n",
    "print()\n",
    "print(arr[:,-1])"
   ]
  },
  {
   "cell_type": "code",
   "execution_count": 166,
   "id": "9e5a661b-9668-4edc-9ed0-b886bafcf3cd",
   "metadata": {},
   "outputs": [
    {
     "data": {
      "text/plain": [
       "array(['delhi', 'bangalore', 'mumbai', 'chennai', 'bhopal'], dtype='<U9')"
      ]
     },
     "execution_count": 166,
     "metadata": {},
     "output_type": "execute_result"
    }
   ],
   "source": [
    "# boolean indexing\n",
    "cities = np.array([\"delhi\",\"bangalore\",\"mumbai\",\"chennai\",\"bhopal\"])\n",
    "cities"
   ]
  },
  {
   "cell_type": "code",
   "execution_count": 167,
   "id": "194034f0-aa47-4b37-89fb-d773cd7636a6",
   "metadata": {},
   "outputs": [
    {
     "data": {
      "text/plain": [
       "array([[-0.01619304, -0.01735347,  0.00661302],\n",
       "       [ 1.09588971,  0.57073947,  0.91885835],\n",
       "       [-0.11411814, -0.30973701, -0.10313838],\n",
       "       [ 0.87880062, -0.04802841, -1.3487603 ],\n",
       "       [ 1.13591917, -0.30697616,  1.68221837]])"
      ]
     },
     "execution_count": 167,
     "metadata": {},
     "output_type": "execute_result"
    }
   ],
   "source": [
    "city_data=np.random.randn(5,3)\n",
    "city_data"
   ]
  },
  {
   "cell_type": "code",
   "execution_count": 168,
   "id": "de9ef603-212a-4bc3-aae8-c5031b16843c",
   "metadata": {},
   "outputs": [
    {
     "data": {
      "text/plain": [
       "array([False, False,  True, False, False])"
      ]
     },
     "execution_count": 168,
     "metadata": {},
     "output_type": "execute_result"
    }
   ],
   "source": [
    "cities == 'mumbai'"
   ]
  },
  {
   "cell_type": "code",
   "execution_count": 169,
   "id": "36768a9b-c1c7-4a19-8301-da6d2bfaa466",
   "metadata": {},
   "outputs": [
    {
     "data": {
      "text/plain": [
       "array([[-0.01619304, -0.01735347,  0.00661302]])"
      ]
     },
     "execution_count": 169,
     "metadata": {},
     "output_type": "execute_result"
    }
   ],
   "source": [
    "city_data[cities=='delhi']"
   ]
  },
  {
   "cell_type": "code",
   "execution_count": 170,
   "id": "39d33a61-9eb7-45b9-851e-62e74bea111e",
   "metadata": {},
   "outputs": [
    {
     "data": {
      "text/plain": [
       "array([[False, False,  True],\n",
       "       [ True,  True,  True],\n",
       "       [False, False, False],\n",
       "       [ True, False, False],\n",
       "       [ True, False,  True]])"
      ]
     },
     "execution_count": 170,
     "metadata": {},
     "output_type": "execute_result"
    }
   ],
   "source": [
    "city_data>0"
   ]
  },
  {
   "cell_type": "code",
   "execution_count": 171,
   "id": "911ea0c4-49e6-4239-ad05-8576f9ac0b10",
   "metadata": {},
   "outputs": [
    {
     "data": {
      "text/plain": [
       "array([0.00661302, 1.09588971, 0.57073947, 0.91885835, 0.87880062,\n",
       "       1.13591917, 1.68221837])"
      ]
     },
     "execution_count": 171,
     "metadata": {},
     "output_type": "execute_result"
    }
   ],
   "source": [
    "city_data[city_data>0]"
   ]
  },
  {
   "cell_type": "code",
   "execution_count": 172,
   "id": "9c7c01b7-3be9-4686-a2e8-5295d967e39e",
   "metadata": {},
   "outputs": [
    {
     "data": {
      "text/plain": [
       "array([[-0.01619304, -0.01735347,  0.        ],\n",
       "       [ 0.        ,  0.        ,  0.        ],\n",
       "       [-0.11411814, -0.30973701, -0.10313838],\n",
       "       [ 0.        , -0.04802841, -1.3487603 ],\n",
       "       [ 0.        , -0.30697616,  0.        ]])"
      ]
     },
     "execution_count": 172,
     "metadata": {},
     "output_type": "execute_result"
    }
   ],
   "source": [
    "city_data[city_data>0]=0\n",
    "city_data"
   ]
  },
  {
   "cell_type": "code",
   "execution_count": 173,
   "id": "a874c7aa-a6b1-45b9-937d-22299dd2b1ab",
   "metadata": {},
   "outputs": [
    {
     "data": {
      "text/plain": [
       "array([[28., 28.,  0.],\n",
       "       [ 0.,  0.,  0.],\n",
       "       [28., 28., 28.],\n",
       "       [ 0., 28., 28.],\n",
       "       [ 0., 28.,  0.]])"
      ]
     },
     "execution_count": 173,
     "metadata": {},
     "output_type": "execute_result"
    }
   ],
   "source": [
    "city_data[city_data<0]=28\n",
    "city_data"
   ]
  },
  {
   "cell_type": "markdown",
   "id": "023a8a95-1de1-42c1-bf83-ed96d21dcd09",
   "metadata": {},
   "source": [
    "#### UFUNS\n",
    "Universal functions. They support broad casting. Broad casting not used in ML but very extensively used in deep learning, \n",
    "whenever you want to do replications around neural network we would need replication\n"
   ]
  },
  {
   "cell_type": "code",
   "execution_count": 174,
   "id": "1f482fa2-5f82-433c-8083-443932783d2b",
   "metadata": {},
   "outputs": [
    {
     "data": {
      "text/plain": [
       "array([[ 0,  1,  2,  3,  4],\n",
       "       [ 5,  6,  7,  8,  9],\n",
       "       [10, 11, 12, 13, 14]])"
      ]
     },
     "execution_count": 174,
     "metadata": {},
     "output_type": "execute_result"
    }
   ],
   "source": [
    "arr = np.arange(15).reshape(3,5)\n",
    "arr"
   ]
  },
  {
   "cell_type": "code",
   "execution_count": 175,
   "id": "d9c349ee-79cc-4f96-b841-4d36ccd94089",
   "metadata": {},
   "outputs": [
    {
     "data": {
      "text/plain": [
       "array([[ 5,  6,  7,  8,  9],\n",
       "       [10, 11, 12, 13, 14],\n",
       "       [15, 16, 17, 18, 19]])"
      ]
     },
     "execution_count": 175,
     "metadata": {},
     "output_type": "execute_result"
    }
   ],
   "source": [
    "arr+5"
   ]
  },
  {
   "cell_type": "code",
   "execution_count": 176,
   "id": "e593dfee-1a13-44e2-aa87-383c5516fe89",
   "metadata": {},
   "outputs": [
    {
     "data": {
      "text/plain": [
       "array([[ 0,  2,  4,  6,  8],\n",
       "       [10, 12, 14, 16, 18],\n",
       "       [20, 22, 24, 26, 28]])"
      ]
     },
     "execution_count": 176,
     "metadata": {},
     "output_type": "execute_result"
    }
   ],
   "source": [
    "# scaler multiplication\n",
    "arr*2"
   ]
  },
  {
   "cell_type": "code",
   "execution_count": 177,
   "id": "d2bce325-41df-4c04-91f3-a08a2559e073",
   "metadata": {},
   "outputs": [
    {
     "name": "stdout",
     "output_type": "stream",
     "text": [
      "[[ 0  1  2]\n",
      " [ 3  4  5]\n",
      " [ 6  7  8]\n",
      " [ 9 10 11]\n",
      " [12 13 14]]\n",
      "\n",
      "[[0]\n",
      " [1]\n",
      " [2]\n",
      " [3]\n",
      " [4]]\n"
     ]
    },
    {
     "data": {
      "text/plain": [
       "array([[ 0,  1,  2],\n",
       "       [ 4,  5,  6],\n",
       "       [ 8,  9, 10],\n",
       "       [12, 13, 14],\n",
       "       [16, 17, 18]])"
      ]
     },
     "execution_count": 177,
     "metadata": {},
     "output_type": "execute_result"
    }
   ],
   "source": [
    "arr_1 = np.arange(15).reshape(5,3)\n",
    "arr_2 = np.arange(5).reshape(5,1)\n",
    "print(arr_1)\n",
    "print()\n",
    "print(arr_2)\n",
    "arr_1+arr_2"
   ]
  },
  {
   "cell_type": "code",
   "execution_count": 178,
   "id": "e25018da-9ef8-4222-941c-8c64390599ce",
   "metadata": {},
   "outputs": [
    {
     "name": "stdout",
     "output_type": "stream",
     "text": [
      "[[1 2 3]\n",
      " [4 5 6]\n",
      " [7 8 9]]\n",
      "\n",
      "[[1 2 3]\n",
      " [4 5 6]\n",
      " [3 6 1]]\n",
      "\n"
     ]
    },
    {
     "data": {
      "text/plain": [
       "array([[ 18,  30,  18],\n",
       "       [ 42,  69,  48],\n",
       "       [ 66, 108,  78]])"
      ]
     },
     "execution_count": 178,
     "metadata": {},
     "output_type": "execute_result"
    }
   ],
   "source": [
    "# matrix multiplication\n",
    "arr1 = np.array([[1,2,3],[4,5,6],[7,8,9]])\n",
    "arr2 = np.array([[1,2,3],[4,5,6],[3,6,1]])\n",
    "print(arr1)\n",
    "print()\n",
    "print(arr2)\n",
    "print()\n",
    "arr1.dot(arr2)"
   ]
  },
  {
   "cell_type": "code",
   "execution_count": 179,
   "id": "62f7ec9c-28e0-423a-a500-58446d5ef006",
   "metadata": {},
   "outputs": [
    {
     "data": {
      "text/plain": [
       "array([[ -1.69121682,  -3.04144667,  -2.74960558],\n",
       "       [ -2.93776127,  -7.20434666,  -9.25600498],\n",
       "       [ -4.18430571, -11.36724665, -15.76240437]])"
      ]
     },
     "execution_count": 179,
     "metadata": {},
     "output_type": "execute_result"
    }
   ],
   "source": [
    "arr1 = np.arange(9).reshape(3,3)\n",
    "arr2 = np.random.randn(3,3)\n",
    "arr1.dot(arr2)"
   ]
  },
  {
   "cell_type": "code",
   "execution_count": 180,
   "id": "ff885668-98e3-49dc-91be-19c2a2e31c08",
   "metadata": {},
   "outputs": [
    {
     "name": "stdout",
     "output_type": "stream",
     "text": [
      "[[ 0  1  2]\n",
      " [ 3  4  5]\n",
      " [ 6  7  8]\n",
      " [ 9 10 11]]\n",
      "\n",
      "[[ 0  3  6  9]\n",
      " [ 1  4  7 10]\n",
      " [ 2  5  8 11]]\n"
     ]
    }
   ],
   "source": [
    "# Transpose \n",
    "\n",
    "A = np.arange(12).reshape(4,3)\n",
    "print(A)\n",
    "print()\n",
    "print(A.T)"
   ]
  },
  {
   "cell_type": "markdown",
   "id": "80bea640-d1fb-4e40-ab3f-30191b53c698",
   "metadata": {},
   "source": [
    "Linear algebra ( simultaneous equation ) find the values of x, y, z\n",
    "\n",
    "7x + 5y - 3z = 16\n",
    "3x - 5y + 2z = -8\n",
    "5x + 3y - 7z = 0\n",
    "\n",
    "in this example it is just 3 variables.. but what if you have 30 veriable or 50 variable"
   ]
  },
  {
   "cell_type": "code",
   "execution_count": 183,
   "id": "92cf9756-2f6b-48af-96fc-1f46eee499fd",
   "metadata": {},
   "outputs": [
    {
     "data": {
      "text/plain": [
       "array([1., 3., 2.])"
      ]
     },
     "execution_count": 183,
     "metadata": {},
     "output_type": "execute_result"
    }
   ],
   "source": [
    "a = np.array([[7,5,-3],[3,-5,2],[5,3,-7]]) # LHS values\n",
    "b = np.array([16,-8,0]) # RHS values\n",
    "\n",
    "# call linalg sub package\n",
    "np.linalg.solve(a,b)"
   ]
  },
  {
   "cell_type": "code",
   "execution_count": 186,
   "id": "3b0bba40-03e8-4dd8-b635-5ece2090a2d8",
   "metadata": {},
   "outputs": [
    {
     "name": "stdout",
     "output_type": "stream",
     "text": [
      "[[ 7  5 -3]\n",
      " [ 3 -5  2]\n",
      " [ 5  3 -7]]\n"
     ]
    },
    {
     "data": {
      "text/plain": [
       "array([[ 0.11328125,  0.1015625 , -0.01953125],\n",
       "       [ 0.12109375, -0.1328125 , -0.08984375],\n",
       "       [ 0.1328125 ,  0.015625  , -0.1953125 ]])"
      ]
     },
     "execution_count": 186,
     "metadata": {},
     "output_type": "execute_result"
    }
   ],
   "source": [
    "a = np.array([[7,5,-3],[3,-5,2],[5,3,-7]])\n",
    "print(a)\n",
    "\n",
    "np.linalg.inv(a) # this will give inversive of matrix"
   ]
  },
  {
   "cell_type": "code",
   "execution_count": 188,
   "id": "31a79215-9d8e-42fa-bc28-852d07af9f7f",
   "metadata": {},
   "outputs": [
    {
     "data": {
      "text/plain": [
       "255.99999999999994"
      ]
     },
     "execution_count": 188,
     "metadata": {},
     "output_type": "execute_result"
    }
   ],
   "source": [
    "a = np.array([[7,5,-3],[3,-5,2],[5,3,-7]])\n",
    "\n",
    "np.linalg.det(a) # determinant matrix"
   ]
  },
  {
   "cell_type": "code",
   "execution_count": 189,
   "id": "44fe6ee0-ec86-4683-9468-0c161d8d3ad0",
   "metadata": {},
   "outputs": [
    {
     "name": "stdout",
     "output_type": "stream",
     "text": [
      "-2.0000000000000004\n"
     ]
    }
   ],
   "source": [
    "a = np.array([[1,2],[3,4]])\n",
    "print(np.linalg.det(a))"
   ]
  },
  {
   "cell_type": "code",
   "execution_count": 197,
   "id": "2216e84e-1eb5-428b-bafb-9ee705f99956",
   "metadata": {},
   "outputs": [
    {
     "name": "stdout",
     "output_type": "stream",
     "text": [
      "[[1. 0. 0.]\n",
      " [0. 1. 0.]\n",
      " [0. 0. 1.]]\n",
      "\n",
      "1.0\n"
     ]
    }
   ],
   "source": [
    "c = np.identity(3) # identity will generate diagnal ones with sqaure matrix\n",
    "print(c)\n",
    "print()\n",
    "print(np.linalg.det(c))"
   ]
  },
  {
   "cell_type": "markdown",
   "id": "34bcd590-982c-43d3-be43-087dbf3aa76b",
   "metadata": {},
   "source": [
    "we can do lot more things in linear algebra\n",
    "\n",
    "- determinant\n",
    "- trace\n",
    "- singular vector decompostion\n",
    "- matrix norm\n",
    "- inverse\n",
    "- etc"
   ]
  },
  {
   "cell_type": "code",
   "execution_count": 198,
   "id": "7aeac7e7-54ea-4cd0-89d1-fa21993f6bb4",
   "metadata": {},
   "outputs": [
    {
     "data": {
      "text/plain": [
       "array([5, 6, 7])"
      ]
     },
     "execution_count": 198,
     "metadata": {},
     "output_type": "execute_result"
    }
   ],
   "source": [
    "# Broad Casting\n",
    "\n",
    "a = np.array([0,1,2])\n",
    "b = np.array([5,5,5])\n",
    "a+b"
   ]
  },
  {
   "cell_type": "code",
   "execution_count": 199,
   "id": "4bf6e0d2-12cb-4cc8-ae91-ae382bdc11bf",
   "metadata": {},
   "outputs": [
    {
     "data": {
      "text/plain": [
       "array([7, 8, 9])"
      ]
     },
     "execution_count": 199,
     "metadata": {},
     "output_type": "execute_result"
    }
   ],
   "source": [
    "a+7"
   ]
  },
  {
   "cell_type": "code",
   "execution_count": 200,
   "id": "ed367364-6cf0-465e-b748-215217bf3068",
   "metadata": {},
   "outputs": [
    {
     "data": {
      "text/plain": [
       "array([False, False, False, False, False, False, False, False, False,\n",
       "       False, False, False, False, False, False,  True,  True])"
      ]
     },
     "execution_count": 200,
     "metadata": {},
     "output_type": "execute_result"
    }
   ],
   "source": [
    "# boolean masking\n",
    "a = np.array([1,2,3,4,5,6,7,8,9,10,40,41,42,43,44,65,76])\n",
    "a>50"
   ]
  },
  {
   "cell_type": "code",
   "execution_count": 201,
   "id": "3e6ad331-0d4c-49ad-8a7c-c229499f1f0d",
   "metadata": {},
   "outputs": [
    {
     "data": {
      "text/plain": [
       "array([65, 76])"
      ]
     },
     "execution_count": 201,
     "metadata": {},
     "output_type": "execute_result"
    }
   ],
   "source": [
    "a[a>50]"
   ]
  },
  {
   "cell_type": "code",
   "execution_count": 203,
   "id": "9c2e18fd-d560-4850-a05d-9f5ffc578a50",
   "metadata": {},
   "outputs": [
    {
     "name": "stdout",
     "output_type": "stream",
     "text": [
      "[[  1  13  21  11 196  75   4   3  34   6   7   8   0   1   2   3   4   5]\n",
      " [  3  42  12  33 766  75   4  55   6   4   3   4   5   6   7   0  11  12]\n",
      " [  1  22  33  11 999  11   2   1  78   0   1   2   9   8   7   1  76  88]]\n"
     ]
    }
   ],
   "source": [
    "# another example\n",
    "arr = np.array([[1,13,21,11,196,75,4,3,34,6,7,8,0,1,2,3,4,5],\n",
    "              [3,42,12,33,766,75,4,55,6,4,3,4,5,6,7,0,11,12],\n",
    "              [1,22,33,11,999,11,2,1,78,0,1,2,9,8,7,1,76,88]])\n",
    "print(arr)"
   ]
  },
  {
   "cell_type": "code",
   "execution_count": 204,
   "id": "2890d72e-05d8-4e3b-8ddb-48da485701be",
   "metadata": {},
   "outputs": [
    {
     "data": {
      "text/plain": [
       "array([196,  75, 766,  75,  55, 999,  78,  76,  88])"
      ]
     },
     "execution_count": 204,
     "metadata": {},
     "output_type": "execute_result"
    }
   ],
   "source": [
    "arr[arr>50]"
   ]
  },
  {
   "cell_type": "code",
   "execution_count": 206,
   "id": "562c66fd-10e6-4c67-b987-d248f0d6065c",
   "metadata": {},
   "outputs": [
    {
     "data": {
      "text/plain": [
       "array([False, False, False, False,  True,  True, False,  True,  True,\n",
       "       False, False, False, False, False, False, False,  True,  True])"
      ]
     },
     "execution_count": 206,
     "metadata": {},
     "output_type": "execute_result"
    }
   ],
   "source": [
    "# lets check if all values in this column is greater than 50\n",
    "np.any(arr>50,axis=0)"
   ]
  },
  {
   "cell_type": "code",
   "execution_count": 208,
   "id": "cc33a1f4-6c1f-43a5-9fc4-ada41061a4ff",
   "metadata": {},
   "outputs": [
    {
     "data": {
      "text/plain": [
       "array([False, False, False])"
      ]
     },
     "execution_count": 208,
     "metadata": {},
     "output_type": "execute_result"
    }
   ],
   "source": [
    "# lets check if all values in this row is graeter than 50\n",
    "np.all(arr>50,axis=1)"
   ]
  },
  {
   "cell_type": "code",
   "execution_count": 212,
   "id": "77473be8-d98a-4105-ac4c-549cb154d528",
   "metadata": {},
   "outputs": [
    {
     "data": {
      "text/plain": [
       "array([20, 30, 90])"
      ]
     },
     "execution_count": 212,
     "metadata": {},
     "output_type": "execute_result"
    }
   ],
   "source": [
    "# you can index with lists in numpy\n",
    "a = np.array([10,20,30,40,50,60,70,80,90])\n",
    "a[[1,2,8]]"
   ]
  },
  {
   "cell_type": "code",
   "execution_count": 217,
   "id": "5ff563c0-ff00-411b-a5ff-021c19a02e72",
   "metadata": {},
   "outputs": [
    {
     "name": "stdout",
     "output_type": "stream",
     "text": [
      "(3,)\n",
      "(3, 1)\n"
     ]
    }
   ],
   "source": [
    "# IMP for ML\n",
    "a = np.arange(3)\n",
    "print(a.shape)\n",
    "b = np.arange(3).reshape(-1,1)\n",
    "print(b.shape)"
   ]
  },
  {
   "cell_type": "code",
   "execution_count": 221,
   "id": "778be5ee-594e-4c8d-9de0-3eef61fbabe3",
   "metadata": {},
   "outputs": [
    {
     "name": "stdout",
     "output_type": "stream",
     "text": [
      "[('', 0, 0.) ('', 0, 0.) ('', 0, 0.) ('', 0, 0.)]\n",
      "[('name', '<U10'), ('age', '<i4'), ('weight', '<f8')]\n"
     ]
    }
   ],
   "source": [
    "# Structured arrays\n",
    "name = ['Alice','Bob','Cathy','Douglas']\n",
    "age = [25,45,37,19]\n",
    "weight = [55.0,85.5,68.0,61.5]\n",
    "\n",
    "data = np.zeros(4,dtype={'names':('name','age','weight'),\n",
    "                        'formats':('U10','i4','f8')})\n",
    "print(data)\n",
    "print(data.dtype)"
   ]
  },
  {
   "cell_type": "code",
   "execution_count": 224,
   "id": "a7533e4e-0f87-4114-936a-33c33daf5ee8",
   "metadata": {},
   "outputs": [
    {
     "name": "stdout",
     "output_type": "stream",
     "text": [
      "[('Alice', 25, 55. ) ('Bob', 45, 85.5) ('Cathy', 37, 68. )\n",
      " ('Douglas', 19, 61.5)]\n"
     ]
    }
   ],
   "source": [
    "data['name']=name\n",
    "data['age']=age\n",
    "data['weight']=weight\n",
    "\n",
    "print(data)"
   ]
  },
  {
   "cell_type": "code",
   "execution_count": 227,
   "id": "f6642be4-9c13-458c-ad2b-6948db1f2ba7",
   "metadata": {},
   "outputs": [
    {
     "data": {
      "text/plain": [
       "('Alice', 25, 55.)"
      ]
     },
     "execution_count": 227,
     "metadata": {},
     "output_type": "execute_result"
    }
   ],
   "source": [
    "data[0]"
   ]
  },
  {
   "cell_type": "code",
   "execution_count": 228,
   "id": "f42bbd0b-8151-4b06-b40f-e5236577c14f",
   "metadata": {},
   "outputs": [
    {
     "data": {
      "text/plain": [
       "array(['Alice', 'Bob', 'Cathy', 'Douglas'], dtype='<U10')"
      ]
     },
     "execution_count": 228,
     "metadata": {},
     "output_type": "execute_result"
    }
   ],
   "source": [
    "data['name']"
   ]
  },
  {
   "cell_type": "code",
   "execution_count": 229,
   "id": "3b64caea-84a2-4598-8c90-2b98b37de324",
   "metadata": {},
   "outputs": [
    {
     "data": {
      "text/plain": [
       "'Douglas'"
      ]
     },
     "execution_count": 229,
     "metadata": {},
     "output_type": "execute_result"
    }
   ],
   "source": [
    "# getting last name in data\n",
    "data[-1]['name']"
   ]
  },
  {
   "cell_type": "code",
   "execution_count": 232,
   "id": "56161870-6761-480b-bf9a-438ec781ec14",
   "metadata": {},
   "outputs": [
    {
     "data": {
      "text/plain": [
       "array(['Alice', 'Douglas'], dtype='<U10')"
      ]
     },
     "execution_count": 232,
     "metadata": {},
     "output_type": "execute_result"
    }
   ],
   "source": [
    "data[data['age']<30]['name']"
   ]
  },
  {
   "cell_type": "code",
   "execution_count": 237,
   "id": "7d5f9acb-6d7d-445d-9bcc-25f458291378",
   "metadata": {},
   "outputs": [
    {
     "data": {
      "text/plain": [
       "array([('Bob', 45), ('Cathy', 37)],\n",
       "      dtype={'names': ['name', 'age'], 'formats': ['<U10', '<i4'], 'offsets': [0, 40], 'itemsize': 52})"
      ]
     },
     "execution_count": 237,
     "metadata": {},
     "output_type": "execute_result"
    }
   ],
   "source": [
    "data[data['weight']>65][['name','age']]"
   ]
  },
  {
   "cell_type": "code",
   "execution_count": 240,
   "id": "4b66b30e-c64f-4a1a-8e73-a7d6d6a056f4",
   "metadata": {},
   "outputs": [
    {
     "name": "stdout",
     "output_type": "stream",
     "text": [
      "First array\n",
      "[[ 0  1  2  3]\n",
      " [ 4  5  6  7]\n",
      " [ 8  9 10 11]]\n",
      "\n",
      "\n",
      "array flattened before delete opeartion axis is not used \n",
      "[ 0  1  2  3  4  6  7  8  9 10 11]\n",
      "\n",
      "\n",
      "column 2 deleted: \n",
      "[[ 0  1  3]\n",
      " [ 4  5  7]\n",
      " [ 8  9 11]]\n",
      "\n",
      "\n",
      "a slice containing alternative values from array deleted: \n",
      "[ 2  4  6  8 10]\n"
     ]
    }
   ],
   "source": [
    "# example of DEL\n",
    "a = np.arange(12).reshape(3,4)\n",
    "a\n",
    "\n",
    "print('First array')\n",
    "print(a)\n",
    "print('\\n')\n",
    "\n",
    "print('array flattened before delete opeartion axis is not used ')\n",
    "print(np.delete(a,5))\n",
    "print('\\n')\n",
    "\n",
    "print('column 2 deleted: ')\n",
    "print(np.delete(a,2,axis=1))\n",
    "print('\\n')\n",
    "\n",
    "print('a slice containing alternative values from array deleted: ')\n",
    "a = np.array([1,2,3,4,5,6,7,8,9,10])\n",
    "print(np.delete(a,np.s_[::2]))\n"
   ]
  },
  {
   "cell_type": "markdown",
   "id": "1bb0268f-a203-4aee-a4eb-a7abaacf5182",
   "metadata": {},
   "source": [
    "# Happy learnig Jagan"
   ]
  }
 ],
 "metadata": {
  "kernelspec": {
   "display_name": "Python 3 (ipykernel)",
   "language": "python",
   "name": "python3"
  },
  "language_info": {
   "codemirror_mode": {
    "name": "ipython",
    "version": 3
   },
   "file_extension": ".py",
   "mimetype": "text/x-python",
   "name": "python",
   "nbconvert_exporter": "python",
   "pygments_lexer": "ipython3",
   "version": "3.12.0"
  }
 },
 "nbformat": 4,
 "nbformat_minor": 5
}
