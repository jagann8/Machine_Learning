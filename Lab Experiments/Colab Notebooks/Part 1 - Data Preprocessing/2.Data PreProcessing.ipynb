{
 "cells": [
  {
   "cell_type": "markdown",
   "metadata": {
    "id": "CoSfqyovWqgD"
   },
   "source": [
    "**import library's**\n"
   ]
  },
  {
   "cell_type": "code",
   "execution_count": 6,
   "metadata": {
    "executionInfo": {
     "elapsed": 2095,
     "status": "ok",
     "timestamp": 1699285006193,
     "user": {
      "displayName": "jagan n",
      "userId": "02577005402999205958"
     },
     "user_tz": -330
    },
    "id": "O49ahEd8VBlw"
   },
   "outputs": [],
   "source": [
    "import numpy as np\n",
    "import matplotlib.pyplot as plt\n",
    "import pandas as pd"
   ]
  },
  {
   "cell_type": "markdown",
   "metadata": {
    "id": "2i-5jadxWpN3"
   },
   "source": [
    "**Import Dataset**"
   ]
  },
  {
   "cell_type": "code",
   "execution_count": 7,
   "metadata": {
    "executionInfo": {
     "elapsed": 600,
     "status": "ok",
     "timestamp": 1699285064830,
     "user": {
      "displayName": "jagan n",
      "userId": "02577005402999205958"
     },
     "user_tz": -330
    },
    "id": "oS3a96FeWodx"
   },
   "outputs": [],
   "source": [
    "path=r'C:\\Users\\jagan\\Documents\\Colab Notebooks\\Part 1 - Data Preprocessing\\data.csv'\n",
    "dataset=pd.read_csv(path)\n",
    "X=dataset.iloc[:,:-1].values\n",
    "y=dataset.iloc[:,-1].values\n"
   ]
  },
  {
   "cell_type": "code",
   "execution_count": 8,
   "metadata": {
    "colab": {
     "base_uri": "https://localhost:8080/"
    },
    "executionInfo": {
     "elapsed": 761,
     "status": "ok",
     "timestamp": 1699285068893,
     "user": {
      "displayName": "jagan n",
      "userId": "02577005402999205958"
     },
     "user_tz": -330
    },
    "id": "Ly49Q5kLItre",
    "outputId": "85813aab-9cc6-4187-9913-8d2ae0f60d94"
   },
   "outputs": [
    {
     "name": "stdout",
     "output_type": "stream",
     "text": [
      "[['France' 44.0 72000.0]\n",
      " ['Spain' 27.0 48000.0]\n",
      " ['Germany' 30.0 54000.0]\n",
      " ['Spain' 38.0 61000.0]\n",
      " ['Germany' 40.0 nan]\n",
      " ['France' 35.0 58000.0]\n",
      " ['Spain' nan 52000.0]\n",
      " ['France' 48.0 79000.0]\n",
      " ['Germany' 50.0 83000.0]\n",
      " ['France' 37.0 67000.0]]\n"
     ]
    }
   ],
   "source": [
    "print(X)"
   ]
  },
  {
   "cell_type": "code",
   "execution_count": 9,
   "metadata": {
    "colab": {
     "base_uri": "https://localhost:8080/"
    },
    "executionInfo": {
     "elapsed": 14,
     "status": "ok",
     "timestamp": 1699285079298,
     "user": {
      "displayName": "jagan n",
      "userId": "02577005402999205958"
     },
     "user_tz": -330
    },
    "id": "Yya9vjDGSHmv",
    "outputId": "9ff5d960-035c-4ce1-83e8-f2fd0106bfdc"
   },
   "outputs": [
    {
     "name": "stdout",
     "output_type": "stream",
     "text": [
      "['No' 'Yes' 'No' 'No' 'Yes' 'Yes' 'No' 'Yes' 'No' 'Yes']\n"
     ]
    }
   ],
   "source": [
    "print(y)"
   ]
  },
  {
   "cell_type": "markdown",
   "metadata": {
    "id": "WYQPvxe_2XLR"
   },
   "source": [
    "**Fixing the Missing values**\n",
    "\n"
   ]
  },
  {
   "cell_type": "code",
   "execution_count": 10,
   "metadata": {
    "executionInfo": {
     "elapsed": 1660,
     "status": "ok",
     "timestamp": 1699285098175,
     "user": {
      "displayName": "jagan n",
      "userId": "02577005402999205958"
     },
     "user_tz": -330
    },
    "id": "80LI9tauLker"
   },
   "outputs": [],
   "source": [
    "from sklearn.impute import SimpleImputer\n",
    "imputer=SimpleImputer(missing_values=np.nan,strategy='mean')\n",
    "imputer.fit(X[:, 1:3])\n",
    "X[:,1:3]=imputer.transform(X[:, 1:3])"
   ]
  },
  {
   "cell_type": "code",
   "execution_count": 11,
   "metadata": {
    "colab": {
     "base_uri": "https://localhost:8080/"
    },
    "executionInfo": {
     "elapsed": 23,
     "status": "ok",
     "timestamp": 1699285455753,
     "user": {
      "displayName": "jagan n",
      "userId": "02577005402999205958"
     },
     "user_tz": -330
    },
    "id": "tTeXseyNNDPu",
    "outputId": "85f6c7c9-e6f4-4d62-d7db-c9984a56957a"
   },
   "outputs": [
    {
     "name": "stdout",
     "output_type": "stream",
     "text": [
      "[['France' 44.0 72000.0]\n",
      " ['Spain' 27.0 48000.0]\n",
      " ['Germany' 30.0 54000.0]\n",
      " ['Spain' 38.0 61000.0]\n",
      " ['Germany' 40.0 63777.77777777778]\n",
      " ['France' 35.0 58000.0]\n",
      " ['Spain' 38.77777777777778 52000.0]\n",
      " ['France' 48.0 79000.0]\n",
      " ['Germany' 50.0 83000.0]\n",
      " ['France' 37.0 67000.0]]\n"
     ]
    }
   ],
   "source": [
    "print(X)"
   ]
  },
  {
   "cell_type": "markdown",
   "metadata": {
    "id": "SOdsXSTpbxwU"
   },
   "source": [
    "**Encoding Categorical Data**"
   ]
  },
  {
   "cell_type": "markdown",
   "metadata": {
    "id": "Z9dyBKzB7KA6"
   },
   "source": [
    "**i. Encoding Independent Variable**"
   ]
  },
  {
   "cell_type": "code",
   "execution_count": 12,
   "metadata": {
    "colab": {
     "base_uri": "https://localhost:8080/"
    },
    "executionInfo": {
     "elapsed": 427,
     "status": "ok",
     "timestamp": 1699285464381,
     "user": {
      "displayName": "jagan n",
      "userId": "02577005402999205958"
     },
     "user_tz": -330
    },
    "id": "v1mZFtnkbmVh",
    "outputId": "249c1a75-5a7f-44e7-f054-91ecb79a7566"
   },
   "outputs": [
    {
     "name": "stdout",
     "output_type": "stream",
     "text": [
      "[[1.0 0.0 0.0 44.0 72000.0]\n",
      " [0.0 0.0 1.0 27.0 48000.0]\n",
      " [0.0 1.0 0.0 30.0 54000.0]\n",
      " [0.0 0.0 1.0 38.0 61000.0]\n",
      " [0.0 1.0 0.0 40.0 63777.77777777778]\n",
      " [1.0 0.0 0.0 35.0 58000.0]\n",
      " [0.0 0.0 1.0 38.77777777777778 52000.0]\n",
      " [1.0 0.0 0.0 48.0 79000.0]\n",
      " [0.0 1.0 0.0 50.0 83000.0]\n",
      " [1.0 0.0 0.0 37.0 67000.0]]\n"
     ]
    }
   ],
   "source": [
    "from sklearn.compose import ColumnTransformer\n",
    "from sklearn.preprocessing import OneHotEncoder\n",
    "ct=ColumnTransformer(transformers=[('encoder',OneHotEncoder(),[0])],remainder='passthrough')\n",
    "X=np.array(ct.fit_transform(X))\n",
    "# In ML train the model we need numpy array so that here we convert data into np.array() //\n",
    "print(X)"
   ]
  },
  {
   "cell_type": "markdown",
   "metadata": {
    "id": "4I-8znSC7WUA"
   },
   "source": [
    "**ii. Encoding Dependent Variable**"
   ]
  },
  {
   "cell_type": "code",
   "execution_count": 13,
   "metadata": {
    "executionInfo": {
     "elapsed": 575,
     "status": "ok",
     "timestamp": 1699285490257,
     "user": {
      "displayName": "jagan n",
      "userId": "02577005402999205958"
     },
     "user_tz": -330
    },
    "id": "6kaLDhR67aCu"
   },
   "outputs": [],
   "source": [
    "from sklearn.preprocessing import LabelEncoder\n",
    "le=LabelEncoder()\n",
    "y=le.fit_transform(y)"
   ]
  },
  {
   "cell_type": "code",
   "execution_count": 14,
   "metadata": {
    "colab": {
     "base_uri": "https://localhost:8080/"
    },
    "executionInfo": {
     "elapsed": 414,
     "status": "ok",
     "timestamp": 1684994886229,
     "user": {
      "displayName": "jagan n",
      "userId": "02577005402999205958"
     },
     "user_tz": -330
    },
    "id": "qxhxSPY-9wih",
    "outputId": "5688b1a3-048a-4786-e55f-5921a151b45b"
   },
   "outputs": [
    {
     "name": "stdout",
     "output_type": "stream",
     "text": [
      "[0 1 0 0 1 1 0 1 0 1]\n"
     ]
    }
   ],
   "source": [
    "print(y)"
   ]
  },
  {
   "cell_type": "markdown",
   "metadata": {
    "id": "C1ZY44H1-gRi"
   },
   "source": [
    "**Splitting Dataset into Train Set & Test Set**\n",
    "\n",
    "---\n",
    "\n"
   ]
  },
  {
   "cell_type": "code",
   "execution_count": 23,
   "metadata": {
    "executionInfo": {
     "elapsed": 408,
     "status": "ok",
     "timestamp": 1699285504209,
     "user": {
      "displayName": "jagan n",
      "userId": "02577005402999205958"
     },
     "user_tz": -330
    },
    "id": "HQE7_bci-rHf"
   },
   "outputs": [],
   "source": [
    "from sklearn.model_selection import train_test_split\n",
    "X_train,y_train,X_test,y_test=train_test_split(X,y,test_size=0.2,random_state=1)\n",
    "\n"
   ]
  },
  {
   "cell_type": "code",
   "execution_count": 24,
   "metadata": {
    "colab": {
     "base_uri": "https://localhost:8080/"
    },
    "executionInfo": {
     "elapsed": 405,
     "status": "ok",
     "timestamp": 1699285513051,
     "user": {
      "displayName": "jagan n",
      "userId": "02577005402999205958"
     },
     "user_tz": -330
    },
    "id": "84WDJw8g4JyE",
    "outputId": "a7b6243b-0026-441f-db9f-d2656cd02852"
   },
   "outputs": [
    {
     "name": "stdout",
     "output_type": "stream",
     "text": [
      "[[0.0 0.0 1.0 38.77777777777778 52000.0]\n",
      " [0.0 1.0 0.0 40.0 63777.77777777778]\n",
      " [1.0 0.0 0.0 44.0 72000.0]\n",
      " [0.0 0.0 1.0 38.0 61000.0]\n",
      " [0.0 0.0 1.0 27.0 48000.0]\n",
      " [1.0 0.0 0.0 48.0 79000.0]\n",
      " [0.0 1.0 0.0 50.0 83000.0]\n",
      " [1.0 0.0 0.0 35.0 58000.0]]\n"
     ]
    }
   ],
   "source": [
    "print(X_train)"
   ]
  },
  {
   "cell_type": "code",
   "execution_count": 25,
   "metadata": {
    "colab": {
     "base_uri": "https://localhost:8080/"
    },
    "executionInfo": {
     "elapsed": 663,
     "status": "ok",
     "timestamp": 1699285537000,
     "user": {
      "displayName": "jagan n",
      "userId": "02577005402999205958"
     },
     "user_tz": -330
    },
    "id": "vLp_z-HX4Y_N",
    "outputId": "8ef70e95-731b-4f86-9542-3df0fa4fe034"
   },
   "outputs": [
    {
     "name": "stdout",
     "output_type": "stream",
     "text": [
      "[0 1 0 0 1 1 0 1]\n"
     ]
    }
   ],
   "source": [
    "print(X_test)"
   ]
  },
  {
   "cell_type": "code",
   "execution_count": 26,
   "metadata": {
    "colab": {
     "base_uri": "https://localhost:8080/"
    },
    "executionInfo": {
     "elapsed": 434,
     "status": "ok",
     "timestamp": 1699285541144,
     "user": {
      "displayName": "jagan n",
      "userId": "02577005402999205958"
     },
     "user_tz": -330
    },
    "id": "hissyjuk4YtU",
    "outputId": "31328538-799f-4e84-e2a2-9df13bff0271"
   },
   "outputs": [
    {
     "name": "stdout",
     "output_type": "stream",
     "text": [
      "[[0.0 1.0 0.0 30.0 54000.0]\n",
      " [1.0 0.0 0.0 37.0 67000.0]]\n"
     ]
    }
   ],
   "source": [
    "print(y_train)"
   ]
  },
  {
   "cell_type": "code",
   "execution_count": 27,
   "metadata": {
    "colab": {
     "base_uri": "https://localhost:8080/"
    },
    "executionInfo": {
     "elapsed": 406,
     "status": "ok",
     "timestamp": 1699285544138,
     "user": {
      "displayName": "jagan n",
      "userId": "02577005402999205958"
     },
     "user_tz": -330
    },
    "id": "NdtkRHVS4YRF",
    "outputId": "9786ae67-322a-4411-9982-d502298c7a0d"
   },
   "outputs": [
    {
     "name": "stdout",
     "output_type": "stream",
     "text": [
      "[0 1]\n"
     ]
    }
   ],
   "source": [
    "print(y_test)"
   ]
  },
  {
   "cell_type": "markdown",
   "metadata": {
    "id": "s2sGMZcM-VcE"
   },
   "source": [
    "**Feature Scaling**"
   ]
  },
  {
   "cell_type": "code",
   "execution_count": 28,
   "metadata": {
    "colab": {
     "base_uri": "https://localhost:8080/"
    },
    "executionInfo": {
     "elapsed": 415,
     "status": "ok",
     "timestamp": 1699285629015,
     "user": {
      "displayName": "jagan n",
      "userId": "02577005402999205958"
     },
     "user_tz": -330
    },
    "id": "gPuVTNm6UEcs",
    "outputId": "2daed22a-03ce-4c29-cae9-94b1e90daa81"
   },
   "outputs": [
    {
     "data": {
      "text/plain": [
       "array([[38.77777777777778, 52000.0],\n",
       "       [40.0, 63777.77777777778],\n",
       "       [44.0, 72000.0],\n",
       "       [38.0, 61000.0],\n",
       "       [27.0, 48000.0],\n",
       "       [48.0, 79000.0],\n",
       "       [50.0, 83000.0],\n",
       "       [35.0, 58000.0]], dtype=object)"
      ]
     },
     "execution_count": 28,
     "metadata": {},
     "output_type": "execute_result"
    }
   ],
   "source": [
    "X_train[:,3:]"
   ]
  },
  {
   "cell_type": "code",
   "execution_count": 30,
   "metadata": {
    "colab": {
     "base_uri": "https://localhost:8080/"
    },
    "executionInfo": {
     "elapsed": 407,
     "status": "ok",
     "timestamp": 1699285647698,
     "user": {
      "displayName": "jagan n",
      "userId": "02577005402999205958"
     },
     "user_tz": -330
    },
    "id": "ZdbzS1snUEKi",
    "outputId": "fe14c33d-8912-4259-9134-79eccff169c8"
   },
   "outputs": [
    {
     "data": {
      "text/plain": [
       "array([[30.0, 54000.0],\n",
       "       [37.0, 67000.0]], dtype=object)"
      ]
     },
     "execution_count": 30,
     "metadata": {},
     "output_type": "execute_result"
    }
   ],
   "source": [
    "y_train[:,3:]"
   ]
  },
  {
   "cell_type": "code",
   "execution_count": 31,
   "metadata": {
    "executionInfo": {
     "elapsed": 691,
     "status": "ok",
     "timestamp": 1699285674566,
     "user": {
      "displayName": "jagan n",
      "userId": "02577005402999205958"
     },
     "user_tz": -330
    },
    "id": "9GKt5cDB-aF2"
   },
   "outputs": [],
   "source": [
    "from sklearn.preprocessing import StandardScaler\n",
    "sc=StandardScaler()\n",
    "X_train[:,3:] = sc.fit_transform(X_train[:,3:])\n",
    "y_train[:,3:] = sc.fit_transform(y_train[:,3:])\n"
   ]
  },
  {
   "cell_type": "code",
   "execution_count": 32,
   "metadata": {
    "colab": {
     "base_uri": "https://localhost:8080/"
    },
    "executionInfo": {
     "elapsed": 467,
     "status": "ok",
     "timestamp": 1699285678518,
     "user": {
      "displayName": "jagan n",
      "userId": "02577005402999205958"
     },
     "user_tz": -330
    },
    "id": "M8pHOMXGbKbE",
    "outputId": "9b7cde6b-51f1-4bac-e33f-6e75439b11d8"
   },
   "outputs": [
    {
     "name": "stdout",
     "output_type": "stream",
     "text": [
      "[[0.0 0.0 1.0 -0.19159184384578545 -1.0781259408412425]\n",
      " [0.0 1.0 0.0 -0.014117293757057777 -0.07013167641635372]\n",
      " [1.0 0.0 0.0 0.566708506533324 0.633562432710455]\n",
      " [0.0 0.0 1.0 -0.30453019390224867 -0.30786617274297867]\n",
      " [0.0 0.0 1.0 -1.9018011447007988 -1.420463615551582]\n",
      " [1.0 0.0 0.0 1.1475343068237058 1.232653363453549]\n",
      " [0.0 1.0 0.0 1.4379472069688968 1.5749910381638885]\n",
      " [1.0 0.0 0.0 -0.7401495441200351 -0.5646194287757332]]\n"
     ]
    }
   ],
   "source": [
    "print(X_train)"
   ]
  },
  {
   "cell_type": "code",
   "execution_count": 33,
   "metadata": {
    "colab": {
     "base_uri": "https://localhost:8080/"
    },
    "executionInfo": {
     "elapsed": 658,
     "status": "ok",
     "timestamp": 1699285683028,
     "user": {
      "displayName": "jagan n",
      "userId": "02577005402999205958"
     },
     "user_tz": -330
    },
    "id": "zfhIlQmrbNto",
    "outputId": "483637d7-e04b-4be0-8578-7a60514d61a5"
   },
   "outputs": [
    {
     "name": "stdout",
     "output_type": "stream",
     "text": [
      "[[0.0 1.0 0.0 -1.0 -1.0]\n",
      " [1.0 0.0 0.0 1.0 1.0]]\n"
     ]
    }
   ],
   "source": [
    "print(y_train)"
   ]
  }
 ],
 "metadata": {
  "colab": {
   "authorship_tag": "ABX9TyNrgVvtudQzd7WPJe8O+RCm",
   "mount_file_id": "1msRAgjYMKM2ffmrzQHZQ6WeHT3p0HLeM",
   "provenance": []
  },
  "kernelspec": {
   "display_name": "Python 3 (ipykernel)",
   "language": "python",
   "name": "python3"
  },
  "language_info": {
   "codemirror_mode": {
    "name": "ipython",
    "version": 3
   },
   "file_extension": ".py",
   "mimetype": "text/x-python",
   "name": "python",
   "nbconvert_exporter": "python",
   "pygments_lexer": "ipython3",
   "version": "3.12.0"
  }
 },
 "nbformat": 4,
 "nbformat_minor": 4
}
