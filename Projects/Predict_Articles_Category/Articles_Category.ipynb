{
 "cells": [
  {
   "cell_type": "markdown",
   "metadata": {},
   "source": [
    "Problem discription\n",
    "--------------------\n",
    "\n",
    "Apply the most compatible ML algorithm and build text classification model to predict article category\n",
    "\n"
   ]
  },
  {
   "cell_type": "markdown",
   "metadata": {},
   "source": [
    "### Import libraries"
   ]
  },
  {
   "cell_type": "code",
   "execution_count": 19,
   "metadata": {},
   "outputs": [],
   "source": [
    "# we compare two classifiers Multinomial NB and Logistic Regression\n",
    "#first we import all the necessary packages\n",
    "\n",
    "import pandas as pd\n",
    "import numpy as np\n",
    "import matplotlib.pyplot as plt\n",
    "from sklearn.naive_bayes import MultinomialNB \n",
    "from sklearn.linear_model import LogisticRegression \n",
    "from sklearn.preprocessing import LabelEncoder\n",
    "from sklearn.feature_extraction.text import TfidfVectorizer\n",
    "from sklearn.model_selection import train_test_split"
   ]
  },
  {
   "cell_type": "markdown",
   "metadata": {},
   "source": [
    "### Import datasets"
   ]
  },
  {
   "cell_type": "code",
   "execution_count": 20,
   "metadata": {},
   "outputs": [
    {
     "data": {
      "text/html": [
       "<div>\n",
       "<style scoped>\n",
       "    .dataframe tbody tr th:only-of-type {\n",
       "        vertical-align: middle;\n",
       "    }\n",
       "\n",
       "    .dataframe tbody tr th {\n",
       "        vertical-align: top;\n",
       "    }\n",
       "\n",
       "    .dataframe thead th {\n",
       "        text-align: right;\n",
       "    }\n",
       "</style>\n",
       "<table border=\"1\" class=\"dataframe\">\n",
       "  <thead>\n",
       "    <tr style=\"text-align: right;\">\n",
       "      <th></th>\n",
       "      <th>Id</th>\n",
       "      <th>Heading</th>\n",
       "      <th>Article.Banner.Image</th>\n",
       "      <th>Outlets</th>\n",
       "      <th>Article.Description</th>\n",
       "      <th>Full_Article</th>\n",
       "      <th>Article_Type</th>\n",
       "      <th>Tonality</th>\n",
       "    </tr>\n",
       "  </thead>\n",
       "  <tbody>\n",
       "    <tr>\n",
       "      <th>0</th>\n",
       "      <td>d6995462-5e87-453b-b64d-e9f1df6e94d2</td>\n",
       "      <td>A Puzzling Maneuver, Then Freefall: NTSB Repor...</td>\n",
       "      <td>NaN</td>\n",
       "      <td>Essex Caller</td>\n",
       "      <td>&lt;p&gt;The helicopter that crashed in Southeast Al...</td>\n",
       "      <td>&lt;p&gt;The helicopter that crashed in Southeast Al...</td>\n",
       "      <td>Commercial</td>\n",
       "      <td>Negative</td>\n",
       "    </tr>\n",
       "    <tr>\n",
       "      <th>1</th>\n",
       "      <td>8b05e939-a89e-4548-b92b-013822e8ee7d</td>\n",
       "      <td>Bells Nexus Air Taxi Concept Rings Changes Fo...</td>\n",
       "      <td>NaN</td>\n",
       "      <td>Aviation Week Network</td>\n",
       "      <td>&lt;p&gt;A year after teasing the fledgling electric...</td>\n",
       "      <td>&lt;p&gt;A year after teasing the fledgling electric...</td>\n",
       "      <td>Commercial</td>\n",
       "      <td>Positive</td>\n",
       "    </tr>\n",
       "    <tr>\n",
       "      <th>2</th>\n",
       "      <td>69fcd400-bceb-4255-8277-619f2d68ac0b</td>\n",
       "      <td>Bell Helicopter Show Air Taxi Nexus</td>\n",
       "      <td>http://images.tmtpost.com/uploads/images/2019/...</td>\n",
       "      <td>TMTPost</td>\n",
       "      <td>&lt;p&gt;Bell released the full-size design of the v...</td>\n",
       "      <td>&lt;p&gt;Bell released the full-size design of the v...</td>\n",
       "      <td>Commercial</td>\n",
       "      <td>Positive</td>\n",
       "    </tr>\n",
       "    <tr>\n",
       "      <th>3</th>\n",
       "      <td>17943578-c11b-414b-b3f5-063d3a93157b</td>\n",
       "      <td>BELL DÉVOILE LA CONCEPTION INTÉGRALE DE SON TA...</td>\n",
       "      <td>http://www.fredzone.org/wp-content/uploads/201...</td>\n",
       "      <td>Fredzone</td>\n",
       "      <td>&lt;p&gt;Bell est une soci&amp;eacute;t&amp;eacute; am&amp;eacut...</td>\n",
       "      <td>&lt;p&gt;Bell est une soci&amp;eacute;t&amp;eacute; am&amp;eacut...</td>\n",
       "      <td>Commercial</td>\n",
       "      <td>Positive</td>\n",
       "    </tr>\n",
       "    <tr>\n",
       "      <th>4</th>\n",
       "      <td>f33c7b11-5f77-4a98-bb2e-d36689042aea</td>\n",
       "      <td>Les premiers retours dOlivier Ezratty</td>\n",
       "      <td>NaN</td>\n",
       "      <td>FrenchWeb</td>\n",
       "      <td>&lt;p&gt;It was still anecdotal to observe the explo...</td>\n",
       "      <td>&lt;p&gt;It was still anecdotal to observe the explo...</td>\n",
       "      <td>Commercial</td>\n",
       "      <td>Positive</td>\n",
       "    </tr>\n",
       "  </tbody>\n",
       "</table>\n",
       "</div>"
      ],
      "text/plain": [
       "                                     Id  \\\n",
       "0  d6995462-5e87-453b-b64d-e9f1df6e94d2   \n",
       "1  8b05e939-a89e-4548-b92b-013822e8ee7d   \n",
       "2  69fcd400-bceb-4255-8277-619f2d68ac0b   \n",
       "3  17943578-c11b-414b-b3f5-063d3a93157b   \n",
       "4  f33c7b11-5f77-4a98-bb2e-d36689042aea   \n",
       "\n",
       "                                             Heading  \\\n",
       "0  A Puzzling Maneuver, Then Freefall: NTSB Repor...   \n",
       "1  Bells Nexus Air Taxi Concept Rings Changes Fo...   \n",
       "2                Bell Helicopter Show Air Taxi Nexus   \n",
       "3  BELL DÉVOILE LA CONCEPTION INTÉGRALE DE SON TA...   \n",
       "4             Les premiers retours dOlivier Ezratty   \n",
       "\n",
       "                                Article.Banner.Image                Outlets  \\\n",
       "0                                                NaN           Essex Caller   \n",
       "1                                                NaN  Aviation Week Network   \n",
       "2  http://images.tmtpost.com/uploads/images/2019/...                TMTPost   \n",
       "3  http://www.fredzone.org/wp-content/uploads/201...               Fredzone   \n",
       "4                                                NaN              FrenchWeb   \n",
       "\n",
       "                                 Article.Description  \\\n",
       "0  <p>The helicopter that crashed in Southeast Al...   \n",
       "1  <p>A year after teasing the fledgling electric...   \n",
       "2  <p>Bell released the full-size design of the v...   \n",
       "3  <p>Bell est une soci&eacute;t&eacute; am&eacut...   \n",
       "4  <p>It was still anecdotal to observe the explo...   \n",
       "\n",
       "                                        Full_Article Article_Type  Tonality  \n",
       "0  <p>The helicopter that crashed in Southeast Al...   Commercial  Negative  \n",
       "1  <p>A year after teasing the fledgling electric...   Commercial  Positive  \n",
       "2  <p>Bell released the full-size design of the v...   Commercial  Positive  \n",
       "3  <p>Bell est une soci&eacute;t&eacute; am&eacut...   Commercial  Positive  \n",
       "4  <p>It was still anecdotal to observe the explo...   Commercial  Positive  "
      ]
     },
     "execution_count": 20,
     "metadata": {},
     "output_type": "execute_result"
    }
   ],
   "source": [
    "df = pd.read_csv('./articles.csv', encoding='latin-1')\n",
    "\n",
    "df.head()"
   ]
  },
  {
   "cell_type": "code",
   "execution_count": 21,
   "metadata": {},
   "outputs": [
    {
     "name": "stdout",
     "output_type": "stream",
     "text": [
      "<class 'pandas.core.frame.DataFrame'>\n",
      "RangeIndex: 4305 entries, 0 to 4304\n",
      "Data columns (total 8 columns):\n",
      " #   Column                Non-Null Count  Dtype \n",
      "---  ------                --------------  ----- \n",
      " 0   Id                    4305 non-null   object\n",
      " 1   Heading               4305 non-null   object\n",
      " 2   Article.Banner.Image  1753 non-null   object\n",
      " 3   Outlets               4305 non-null   object\n",
      " 4   Article.Description   4305 non-null   object\n",
      " 5   Full_Article          4305 non-null   object\n",
      " 6   Article_Type          4305 non-null   object\n",
      " 7   Tonality              3873 non-null   object\n",
      "dtypes: object(8)\n",
      "memory usage: 269.2+ KB\n"
     ]
    }
   ],
   "source": [
    "# checking the dataset columns data types\n",
    "\n",
    "df.info()"
   ]
  },
  {
   "cell_type": "markdown",
   "metadata": {},
   "source": [
    "NOTE: \n",
    "\n",
    "based on above column data types, all columns we have object type only."
   ]
  },
  {
   "cell_type": "code",
   "execution_count": 22,
   "metadata": {},
   "outputs": [
    {
     "data": {
      "text/html": [
       "<div>\n",
       "<style scoped>\n",
       "    .dataframe tbody tr th:only-of-type {\n",
       "        vertical-align: middle;\n",
       "    }\n",
       "\n",
       "    .dataframe tbody tr th {\n",
       "        vertical-align: top;\n",
       "    }\n",
       "\n",
       "    .dataframe thead th {\n",
       "        text-align: right;\n",
       "    }\n",
       "</style>\n",
       "<table border=\"1\" class=\"dataframe\">\n",
       "  <thead>\n",
       "    <tr style=\"text-align: right;\">\n",
       "      <th></th>\n",
       "      <th>Id</th>\n",
       "      <th>Heading</th>\n",
       "      <th>Article.Banner.Image</th>\n",
       "      <th>Outlets</th>\n",
       "      <th>Article.Description</th>\n",
       "      <th>Full_Article</th>\n",
       "      <th>Article_Type</th>\n",
       "      <th>Tonality</th>\n",
       "    </tr>\n",
       "  </thead>\n",
       "  <tbody>\n",
       "    <tr>\n",
       "      <th>count</th>\n",
       "      <td>4305</td>\n",
       "      <td>4305</td>\n",
       "      <td>1753</td>\n",
       "      <td>4305</td>\n",
       "      <td>4305</td>\n",
       "      <td>4305</td>\n",
       "      <td>4305</td>\n",
       "      <td>3873</td>\n",
       "    </tr>\n",
       "    <tr>\n",
       "      <th>unique</th>\n",
       "      <td>4305</td>\n",
       "      <td>4020</td>\n",
       "      <td>1686</td>\n",
       "      <td>1762</td>\n",
       "      <td>4291</td>\n",
       "      <td>4305</td>\n",
       "      <td>7</td>\n",
       "      <td>3</td>\n",
       "    </tr>\n",
       "    <tr>\n",
       "      <th>top</th>\n",
       "      <td>d6995462-5e87-453b-b64d-e9f1df6e94d2</td>\n",
       "      <td>Boeing CEO: First Operational Self-Flying Cars...</td>\n",
       "      <td>https://mmbiz.qpic.cn/mmbiz_jpg/myicofuNe4kzyY...</td>\n",
       "      <td>WeChat</td>\n",
       "      <td>In the intense contest to replace the Armys c...</td>\n",
       "      <td>&lt;p&gt;The helicopter that crashed in Southeast Al...</td>\n",
       "      <td>Commercial</td>\n",
       "      <td>Positive</td>\n",
       "    </tr>\n",
       "    <tr>\n",
       "      <th>freq</th>\n",
       "      <td>1</td>\n",
       "      <td>8</td>\n",
       "      <td>3</td>\n",
       "      <td>208</td>\n",
       "      <td>2</td>\n",
       "      <td>1</td>\n",
       "      <td>2470</td>\n",
       "      <td>3286</td>\n",
       "    </tr>\n",
       "  </tbody>\n",
       "</table>\n",
       "</div>"
      ],
      "text/plain": [
       "                                          Id  \\\n",
       "count                                   4305   \n",
       "unique                                  4305   \n",
       "top     d6995462-5e87-453b-b64d-e9f1df6e94d2   \n",
       "freq                                       1   \n",
       "\n",
       "                                                  Heading  \\\n",
       "count                                                4305   \n",
       "unique                                               4020   \n",
       "top     Boeing CEO: First Operational Self-Flying Cars...   \n",
       "freq                                                    8   \n",
       "\n",
       "                                     Article.Banner.Image Outlets  \\\n",
       "count                                                1753    4305   \n",
       "unique                                               1686    1762   \n",
       "top     https://mmbiz.qpic.cn/mmbiz_jpg/myicofuNe4kzyY...  WeChat   \n",
       "freq                                                    3     208   \n",
       "\n",
       "                                      Article.Description  \\\n",
       "count                                                4305   \n",
       "unique                                               4291   \n",
       "top     In the intense contest to replace the Armys c...   \n",
       "freq                                                    2   \n",
       "\n",
       "                                             Full_Article Article_Type  \\\n",
       "count                                                4305         4305   \n",
       "unique                                               4305            7   \n",
       "top     <p>The helicopter that crashed in Southeast Al...   Commercial   \n",
       "freq                                                    1         2470   \n",
       "\n",
       "        Tonality  \n",
       "count       3873  \n",
       "unique         3  \n",
       "top     Positive  \n",
       "freq        3286  "
      ]
     },
     "execution_count": 22,
     "metadata": {},
     "output_type": "execute_result"
    }
   ],
   "source": [
    "# checking dataset statistical information\n",
    "\n",
    "df.describe()"
   ]
  },
  {
   "cell_type": "code",
   "execution_count": 23,
   "metadata": {},
   "outputs": [
    {
     "data": {
      "text/plain": [
       "Id                         0\n",
       "Heading                    0\n",
       "Article.Banner.Image    2552\n",
       "Outlets                    0\n",
       "Article.Description        0\n",
       "Full_Article               0\n",
       "Article_Type               0\n",
       "Tonality                 432\n",
       "dtype: int64"
      ]
     },
     "execution_count": 23,
     "metadata": {},
     "output_type": "execute_result"
    }
   ],
   "source": [
    "# check the dataset have any null values\n",
    "\n",
    "df.isna().sum()"
   ]
  },
  {
   "cell_type": "markdown",
   "metadata": {},
   "source": [
    "NOTE:\n",
    "\n",
    "Based on the above observation, we have two columns(Article.Banner.Image, Tonality) have some null values"
   ]
  },
  {
   "cell_type": "code",
   "execution_count": 24,
   "metadata": {},
   "outputs": [
    {
     "data": {
      "text/html": [
       "<div>\n",
       "<style scoped>\n",
       "    .dataframe tbody tr th:only-of-type {\n",
       "        vertical-align: middle;\n",
       "    }\n",
       "\n",
       "    .dataframe tbody tr th {\n",
       "        vertical-align: top;\n",
       "    }\n",
       "\n",
       "    .dataframe thead th {\n",
       "        text-align: right;\n",
       "    }\n",
       "</style>\n",
       "<table border=\"1\" class=\"dataframe\">\n",
       "  <thead>\n",
       "    <tr style=\"text-align: right;\">\n",
       "      <th></th>\n",
       "      <th>Id</th>\n",
       "      <th>Heading</th>\n",
       "      <th>Article.Banner.Image</th>\n",
       "      <th>Outlets</th>\n",
       "      <th>Article.Description</th>\n",
       "      <th>Full_Article</th>\n",
       "      <th>Article_Type</th>\n",
       "      <th>Tonality</th>\n",
       "    </tr>\n",
       "  </thead>\n",
       "  <tbody>\n",
       "    <tr>\n",
       "      <th>0</th>\n",
       "      <td>d6995462-5e87-453b-b64d-e9f1df6e94d2</td>\n",
       "      <td>A Puzzling Maneuver, Then Freefall: NTSB Repor...</td>\n",
       "      <td>NaN</td>\n",
       "      <td>Essex Caller</td>\n",
       "      <td>&lt;p&gt;The helicopter that crashed in Southeast Al...</td>\n",
       "      <td>&lt;p&gt;The helicopter that crashed in Southeast Al...</td>\n",
       "      <td>Commercial</td>\n",
       "      <td>Negative</td>\n",
       "    </tr>\n",
       "  </tbody>\n",
       "</table>\n",
       "</div>"
      ],
      "text/plain": [
       "                                     Id  \\\n",
       "0  d6995462-5e87-453b-b64d-e9f1df6e94d2   \n",
       "\n",
       "                                             Heading Article.Banner.Image  \\\n",
       "0  A Puzzling Maneuver, Then Freefall: NTSB Repor...                  NaN   \n",
       "\n",
       "        Outlets                                Article.Description  \\\n",
       "0  Essex Caller  <p>The helicopter that crashed in Southeast Al...   \n",
       "\n",
       "                                        Full_Article Article_Type  Tonality  \n",
       "0  <p>The helicopter that crashed in Southeast Al...   Commercial  Negative  "
      ]
     },
     "execution_count": 24,
     "metadata": {},
     "output_type": "execute_result"
    }
   ],
   "source": [
    "df.head(1)"
   ]
  },
  {
   "cell_type": "code",
   "execution_count": 25,
   "metadata": {},
   "outputs": [
    {
     "data": {
      "text/plain": [
       "'<p>The helicopter that crashed in Southeast Alaska in late September, killing three people, entered a 500-foot freefall before dropping to a Glacier Bay National Park beach, according to by the National Transportation Safety Board.&nbsp;The preliminary NTSB report released Friday offers no official probable cause. That determination won&lsquo;t be made until next year at the earliest.</p>'"
      ]
     },
     "execution_count": 25,
     "metadata": {},
     "output_type": "execute_result"
    }
   ],
   "source": [
    "df['Full_Article'][0]"
   ]
  },
  {
   "cell_type": "code",
   "execution_count": 26,
   "metadata": {},
   "outputs": [],
   "source": [
    "import re\n",
    "\n",
    "# for convient purpose we changed columns names\n",
    "\n",
    "df['Full_Article'] = df['Full_Article'].astype(str).str.replace('<p>', '', regex=False).str.replace('</p>', '', regex=False)\n",
    "df.rename({'Full_Article':'text', 'Article_Type':'category'}, axis=1, inplace=True)"
   ]
  },
  {
   "cell_type": "code",
   "execution_count": 27,
   "metadata": {},
   "outputs": [
    {
     "data": {
      "text/plain": [
       "Index(['Id', 'Heading', 'Article.Banner.Image', 'Outlets',\n",
       "       'Article.Description', 'text', 'category', 'Tonality'],\n",
       "      dtype='object')"
      ]
     },
     "execution_count": 27,
     "metadata": {},
     "output_type": "execute_result"
    }
   ],
   "source": [
    "df.columns"
   ]
  },
  {
   "cell_type": "code",
   "execution_count": 28,
   "metadata": {},
   "outputs": [],
   "source": [
    "#we take text column in X which we will use to predict the category\n",
    "#we take category column in Y which we will use to train our model as output using X\n",
    "X = df['text']\n",
    "X = np.array(X)\n",
    "Y = df['category']\n",
    "Y = np.array(Y)\n",
    "#we vectorize text column using tfidf vectorizer.\n",
    "#tfidf vectorizer works in two parts-tf and idf.\n",
    "#tf is equal to number of occurences of the word in the document divided by total number of words present in that document\n",
    "#idf is equal to log value of number of documents in which that word is present divided by total number of documents\n",
    "#to read in detail about tfidf, kindly visit sklearn documentation pages\n",
    "tfidf = TfidfVectorizer(lowercase=True, analyzer='word', stop_words='english', ngram_range=(1,3), use_idf=True)\n",
    "X1 = tfidf.fit_transform(X)\n",
    "n1 = LabelEncoder()\n",
    "#we vectorize category column using labelencoder\n",
    "#this will give a unique numerical value to every category\n",
    "Y1 = n1.fit_transform(Y)\n",
    "#we separate train and test datasets.\n",
    "X_train, X_test, Y_train, Y_test = train_test_split(X1, Y1, test_size=0.3, random_state=0)\n",
    "#print(X_train)\n",
    "#print(Y_train)"
   ]
  },
  {
   "cell_type": "code",
   "execution_count": 29,
   "metadata": {},
   "outputs": [
    {
     "name": "stdout",
     "output_type": "stream",
     "text": [
      "Accuracy using Multinomial NB is: 68.962848\n"
     ]
    }
   ],
   "source": [
    "#implementing multinomial NB\n",
    "mnb = MultinomialNB()\n",
    "mnb.fit(X_train, Y_train)\n",
    "#print(mnb)\n",
    "test = mnb.predict(X_test)\n",
    "acc = 0\n",
    "l = np.size(test, 0)\n",
    "for i in range(l):\n",
    "    acc = acc + abs(test[i]-Y_test[i])\n",
    "print(\"Accuracy using Multinomial NB is: %f\"%((1-acc/l)*100))"
   ]
  },
  {
   "cell_type": "code",
   "execution_count": 30,
   "metadata": {},
   "outputs": [
    {
     "name": "stderr",
     "output_type": "stream",
     "text": [
      "c:\\Users\\JAGAN\\AppData\\Local\\Programs\\Python\\Python312\\Lib\\site-packages\\sklearn\\linear_model\\_logistic.py:1247: FutureWarning: 'multi_class' was deprecated in version 1.5 and will be removed in 1.7. From then on, it will always use 'multinomial'. Leave it to its default value to avoid this warning.\n",
      "  warnings.warn(\n"
     ]
    },
    {
     "name": "stdout",
     "output_type": "stream",
     "text": [
      "Accuracy using Logistic Regression is: 72.910217\n"
     ]
    }
   ],
   "source": [
    "#implementing Logistic Regression\n",
    "lr = LogisticRegression(solver='lbfgs', multi_class='multinomial')\n",
    "lr.fit(X_train, Y_train)\n",
    "#print(mnb)\n",
    "test = lr.predict(X_test)\n",
    "acc = 0\n",
    "l = np.size(test, 0)\n",
    "for i in range(l):\n",
    "    acc = acc + abs(test[i]-Y_test[i])\n",
    "print(\"Accuracy using Logistic Regression is: %f\"%((1-acc/l)*100))"
   ]
  },
  {
   "cell_type": "code",
   "execution_count": 31,
   "metadata": {},
   "outputs": [],
   "source": [
    "import pickle\n",
    "\n",
    "save_label = open(\"label_encoder.pickle\", \"wb\")\n",
    "pickle.dump(n1, save_label)\n",
    "save_label.close()\n",
    "\n",
    "save_label = open(\"label_encoder.pickle\", \"rb\")\n",
    "n1 = pickle.load(save_label)\n",
    "save_label.close()"
   ]
  },
  {
   "cell_type": "code",
   "execution_count": 32,
   "metadata": {},
   "outputs": [],
   "source": [
    "import pickle\n",
    "\n",
    "save_tdidf = open(\"tdidf.pkl\", \"wb\")\n",
    "pickle.dump(tfidf, save_tdidf)\n",
    "save_tdidf.close()\n",
    "\n",
    "save_tdidf = open(\"tdidf.pkl\", \"rb\")\n",
    "tdidf = pickle.load(save_tdidf)\n",
    "save_tdidf.close()"
   ]
  },
  {
   "cell_type": "code",
   "execution_count": 33,
   "metadata": {},
   "outputs": [],
   "source": [
    "#now we will implement pickle\n",
    "#we are using pickle to save our models\n",
    "import pickle\n",
    "\n",
    "save_classifier = open(\"naivebayes.pickle\",\"wb\")\n",
    "pickle.dump(mnb, save_classifier)\n",
    "save_classifier.close()\n",
    "\n",
    "save_classifier = open(\"logistic.pickle\",\"wb\")\n",
    "pickle.dump(lr, save_classifier)\n",
    "save_classifier.close()\n",
    "#here we saved both our models in naivebayes.pickle and logistic.pickle"
   ]
  },
  {
   "cell_type": "code",
   "execution_count": 34,
   "metadata": {},
   "outputs": [],
   "source": [
    "#here we load naivebayes.pickle and logistic.pickle and use them\n",
    "import pickle\n",
    "\n",
    "classifier_f = open(\"naivebayes.pickle\", \"rb\")\n",
    "clf1 = pickle.load(classifier_f)\n",
    "classifier_f.close()\n",
    "\n",
    "classifier_f = open(\"logistic.pickle\", \"rb\")\n",
    "clf2 = pickle.load(classifier_f)\n",
    "classifier_f.close()"
   ]
  },
  {
   "cell_type": "code",
   "execution_count": 35,
   "metadata": {},
   "outputs": [
    {
     "name": "stdout",
     "output_type": "stream",
     "text": [
      "Commercial\n",
      "Commercial\n"
     ]
    }
   ],
   "source": [
    "import numpy as np\n",
    "\n",
    "t = \"Inmates in a Sri Lanka prison scuffled with guards and some tried to escape during a protest against new strict measures to control the spread of the coronavirus, leaving two dead and six wounded, police said Sunday.\"\n",
    "t = np.array(t).reshape(-1,1)\n",
    "t = tfidf.transform(t[0])\n",
    "#print(t)\n",
    "print(n1.inverse_transform(clf1.predict(t))[0])\n",
    "print(n1.inverse_transform(clf2.predict(t))[0])"
   ]
  }
 ],
 "metadata": {
  "kernelspec": {
   "display_name": "Python 3",
   "language": "python",
   "name": "python3"
  },
  "language_info": {
   "codemirror_mode": {
    "name": "ipython",
    "version": 3
   },
   "file_extension": ".py",
   "mimetype": "text/x-python",
   "name": "python",
   "nbconvert_exporter": "python",
   "pygments_lexer": "ipython3",
   "version": "3.12.5"
  }
 },
 "nbformat": 4,
 "nbformat_minor": 2
}
