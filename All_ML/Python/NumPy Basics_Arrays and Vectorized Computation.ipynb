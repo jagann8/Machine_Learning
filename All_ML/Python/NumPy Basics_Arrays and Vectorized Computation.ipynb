{
 "cells": [
  {
   "cell_type": "code",
   "execution_count": null,
   "id": "c62536a7-fab8-43cb-bc41-f6c6e0b8557b",
   "metadata": {},
   "outputs": [],
   "source": [
    "# import numpy library\n",
    "import numpy as np"
   ]
  },
  {
   "cell_type": "markdown",
   "id": "6a1b726c-9541-4d15-9e7d-e26f69a7a6fb",
   "metadata": {},
   "source": [
    "Numpy - Numerical python\n",
    "\n",
    "Numpy useage:\n",
    "- ndarray, a multi dimensional array providing fast array oriented arithmetic operations and flexibility broadcasting capabilities.\n",
    "- mathematical functions for fast opeartions on entire arrays data without having to write for loops.\n",
    "- tools for reading/writing array data to disk and working with memory files .\n",
    "- linear algebra, random number generation and fourier transform capabilities.\n",
    "\n",
    "for most data analysis applications, the main areas of functionality i'll focus on are:\n",
    "- fast array based opeartions for munging and cleaning, subsetting and filtering, transformation other kind of computations.\n",
    "- common array algorithm like sorting, unique and set opeartions.\n",
    "- effcient descriptive statistics and aggeregate/summerizing data.\n",
    "- data alignment and relational data manipulations for merging and heterogeneous datasets.\n",
    "- expressing conditional loggic has array expressions instead of loops with if-elif-else branches.\n",
    "- group wise data manipulations( aggregation, transformation and function application ).\n",
    "\n",
    "why numpy?\n",
    "\n",
    "one of the reason is numpy is so important for numerical computation in python it is designed for large arrays of data.\n",
    "\n",
    "- numpy array stores data in contiguous block of memory, independent in other built in python objects.\n",
    "- numpy arrays also use very less memory than in other build in python sequences.\n",
    "- numpy arrays performs complex computation opeations without using pythons for loop, in python it can be slow process for large\n",
    "    datasets.\n",
    "- numpy is faster than python code. because numpy written in C based algorithms."
   ]
  },
  {
   "cell_type": "code",
   "execution_count": null,
   "id": "1d739b19-e17e-4035-a0e2-74a0bc3f37e9",
   "metadata": {},
   "outputs": [],
   "source": [
    "# lets showing diffrence numpy array vs python array\n",
    "my_arr = np.arange(1_000_000)\n",
    "\n",
    "my_list = list(range(1_000_000))\n",
    "\n",
    "print('Numpy array')\n",
    "%timeit my_arr2 = my_arr * 2\n",
    "print()\n",
    "print()\n",
    "\n",
    "print('Python array')\n",
    "%timeit my_list2 = [x * 2 for x in my_list]\n",
    "print()\n",
    "\n",
    "# numpy array genrally 10 to 100 times faster than the pure python counterparts and use significantly less memory"
   ]
  },
  {
   "cell_type": "code",
   "execution_count": null,
   "id": "1bd8a465-6984-47f7-9bcd-600378622eb1",
   "metadata": {},
   "outputs": [],
   "source": []
  },
  {
   "cell_type": "code",
   "execution_count": null,
   "id": "db630690-7d8c-44c3-a65a-48917b7ea9ed",
   "metadata": {},
   "outputs": [],
   "source": []
  },
  {
   "cell_type": "markdown",
   "id": "5d230e59-524c-4cdf-af3e-27bf27418d67",
   "metadata": {},
   "source": [
    "1.1 A NumPy ndarray: A Multidimensional Object.\n",
    "-"
   ]
  },
  {
   "cell_type": "code",
   "execution_count": null,
   "id": "6785dbec-ac65-4aa3-974e-3aaccb01d6f9",
   "metadata": {},
   "outputs": [],
   "source": [
    "# create a simple numpy array\n",
    "arr = np.array([1,2,3])\n",
    "arr"
   ]
  },
  {
   "cell_type": "code",
   "execution_count": null,
   "id": "c39e79ae-883a-4608-8949-84204d5282cf",
   "metadata": {},
   "outputs": [],
   "source": [
    "# multiply by 2\n",
    "arr * 2 "
   ]
  },
  {
   "cell_type": "code",
   "execution_count": null,
   "id": "ee961887-9cce-4d3c-9775-a6974e0932fb",
   "metadata": {},
   "outputs": [],
   "source": [
    "# addition \n",
    "arr + arr"
   ]
  },
  {
   "cell_type": "code",
   "execution_count": null,
   "id": "6d75a802-5108-4c5c-aa19-5552f610a6f9",
   "metadata": {},
   "outputs": [],
   "source": [
    "arr = np.array([[1,2,3],[4,5,6]])\n",
    "print('Shape => ',arr.shape)\n",
    "print('Dtype => ',arr.dtype)"
   ]
  },
  {
   "cell_type": "code",
   "execution_count": null,
   "id": "f792dcc5-e73a-47fd-8930-095ebd6c625b",
   "metadata": {},
   "outputs": [],
   "source": [
    "# creating ndarray by using array function\n",
    "data1 = np.array([3,2,6,9,3])\n",
    "data1"
   ]
  },
  {
   "cell_type": "code",
   "execution_count": null,
   "id": "bd0badb0-c81a-4716-ad66-48e01dd1df8d",
   "metadata": {},
   "outputs": [],
   "source": [
    "# multi-dimensional array\n",
    "data2 = [[1,2,3],[4,5,6]]\n",
    "arr2 = np.array(data2)\n",
    "arr2"
   ]
  },
  {
   "cell_type": "code",
   "execution_count": null,
   "id": "0b881cb9-2602-4310-a93a-bd6414103d1a",
   "metadata": {},
   "outputs": [],
   "source": [
    "# check the arr2 dimensions\n",
    "arr2.ndim"
   ]
  },
  {
   "cell_type": "code",
   "execution_count": null,
   "id": "263e84c5-a196-4301-831e-56c6bf3f83c5",
   "metadata": {},
   "outputs": [],
   "source": [
    "# chech arr2 shape\n",
    "arr2.shape"
   ]
  },
  {
   "cell_type": "code",
   "execution_count": null,
   "id": "5145e94d-a5af-4a19-bbbc-5040ebf4a9ae",
   "metadata": {},
   "outputs": [],
   "source": [
    "# lets check the data type \n",
    "arr2.dtype"
   ]
  },
  {
   "cell_type": "code",
   "execution_count": null,
   "id": "5f8d846f-813d-4fbb-be11-bf03406f803c",
   "metadata": {},
   "outputs": [],
   "source": [
    "# there is other ways to create arrays other than numpy array like we have zeros, ones and empty functions.\n",
    "np.zeros(10)"
   ]
  },
  {
   "cell_type": "code",
   "execution_count": null,
   "id": "a1bb51de-a15f-416e-ba9b-9915b03aa97d",
   "metadata": {},
   "outputs": [],
   "source": [
    "np.ones(10)"
   ]
  },
  {
   "cell_type": "code",
   "execution_count": null,
   "id": "cb76173c-b5f5-482c-867e-81ca1ec5ffc0",
   "metadata": {},
   "outputs": [],
   "source": [
    "np.empty(10) # don't assume empty always returns 1s its used garbage values."
   ]
  },
  {
   "cell_type": "code",
   "execution_count": null,
   "id": "10c52d76-893e-405c-929f-6bde73b6ec35",
   "metadata": {},
   "outputs": [],
   "source": [
    "np.zeros((3,4)) # by default numpy will assume float64"
   ]
  },
  {
   "cell_type": "code",
   "execution_count": null,
   "id": "a8f4906e-cc0c-4e64-b2b9-ab70b47c1f71",
   "metadata": {},
   "outputs": [],
   "source": [
    "np.zeros((2,3,2))"
   ]
  },
  {
   "cell_type": "code",
   "execution_count": null,
   "id": "c9691eff-8afe-4f16-81b3-e8f95282bca4",
   "metadata": {},
   "outputs": [],
   "source": [
    "# numpy we have arange function like in python we have range function\n",
    "np.arange(10)"
   ]
  },
  {
   "cell_type": "code",
   "execution_count": null,
   "id": "bc128e5d-f56e-4af9-97f3-4cfb1ef2c1d9",
   "metadata": {},
   "outputs": [],
   "source": [
    "np.arange(10).dtype"
   ]
  },
  {
   "cell_type": "code",
   "execution_count": null,
   "id": "c6a22147-81ca-4267-bdb7-c96d9b09f54e",
   "metadata": {},
   "outputs": [],
   "source": [
    "# datatypes for ndarrays\n",
    "arr1 = np.array([1,2,3],dtype='int64')\n",
    "arr2 = np.array([1,2,3],dtype='float64')\n",
    "\n",
    "arr1.dtype"
   ]
  },
  {
   "cell_type": "code",
   "execution_count": null,
   "id": "9ddfaa37-1443-4966-978d-fa7bf4473ba0",
   "metadata": {},
   "outputs": [],
   "source": [
    "arr2.dtype"
   ]
  },
  {
   "cell_type": "code",
   "execution_count": null,
   "id": "118dfd8b-2eda-4694-b3ca-b234ca1f3186",
   "metadata": {},
   "outputs": [],
   "source": [
    "# explicitly we can convert or cast the one data type into another data type\n",
    "arr1 = np.array([1,2,3,4,5])\n",
    "print(arr1)\n",
    "print(arr.dtype)\n",
    "\n",
    "float_arr = arr1.astype('float64')\n",
    "print(float_arr)\n",
    "print(float_arr.dtype)"
   ]
  },
  {
   "cell_type": "code",
   "execution_count": null,
   "id": "69103f46-9160-40f4-ae8f-564e8fd7074b",
   "metadata": {},
   "outputs": [],
   "source": [
    "# when we convert float into integers the decimal points are truncated.\n",
    "arr1 = np.array([1.1,2.2,3.3,4.4])\n",
    "print(arr1)\n",
    "int_arr = arr1.astype('int64')\n",
    "print(int_arr) # as you can see that decimal values are removed or ignored.\n",
    "print(int_arr.dtype)"
   ]
  },
  {
   "cell_type": "code",
   "execution_count": null,
   "id": "aeec833a-1f62-4e7d-bbcd-c53519af7fa3",
   "metadata": {},
   "outputs": [],
   "source": [
    "# lets convert strings of numbers into integers or floats\n",
    "str_arr = np.array([\"1.1\",'2.2','3.3','4.4'])\n",
    "print(str_arr)\n",
    "print()\n",
    "float_arr = str_arr.astype('float64')\n",
    "print(float_arr)\n",
    "print(float_arr.dtype)"
   ]
  },
  {
   "cell_type": "code",
   "execution_count": null,
   "id": "63c92dad-692f-4038-b649-54bd2c964fa5",
   "metadata": {},
   "outputs": [],
   "source": [
    "# one more casting example\n",
    "int_arr = np.arange(10)\n",
    "calibers = np.array([.22, .270, .357, .380, .44, .50],dtype=np.float64)\n",
    "int_arr.astype(calibers.dtype)"
   ]
  },
  {
   "cell_type": "code",
   "execution_count": null,
   "id": "bae92596-0dbf-40df-9c24-03c829cf2f4d",
   "metadata": {},
   "outputs": [],
   "source": []
  },
  {
   "cell_type": "code",
   "execution_count": null,
   "id": "386c0cd2-aa72-4bdc-9076-1c3f2958c9eb",
   "metadata": {},
   "outputs": [],
   "source": []
  },
  {
   "cell_type": "code",
   "execution_count": null,
   "id": "b4d45423-c686-46fb-81eb-5147f43db9a5",
   "metadata": {},
   "outputs": [],
   "source": [
    "# Arithmetic with numpy arrays\n",
    "\n",
    "arr = np.array([[1,2,3],[4,5,6]],dtype='float64')\n",
    "print('Addition')\n",
    "print(arr + arr)\n",
    "print()\n",
    "print('Subtract')\n",
    "print(arr - 2)\n",
    "print()\n",
    "print('Divide')\n",
    "print(arr / 2)"
   ]
  },
  {
   "cell_type": "code",
   "execution_count": null,
   "id": "7d400c5c-f0a9-4b4a-9b5b-133df84669dd",
   "metadata": {},
   "outputs": [],
   "source": [
    "# square the each value\n",
    "arr ** 2"
   ]
  },
  {
   "cell_type": "code",
   "execution_count": null,
   "id": "62f2f39d-2f32-4844-89a5-4837f1fa2103",
   "metadata": {},
   "outputs": [],
   "source": [
    "# compare the two arrays\n",
    "arr2 = np.array([[5,6,2],[2,3,9]])\n",
    "arr2 > arr"
   ]
  },
  {
   "cell_type": "code",
   "execution_count": null,
   "id": "bc7c82f5-ba1e-4ccb-95ed-af0dbd3fd921",
   "metadata": {},
   "outputs": [],
   "source": []
  },
  {
   "cell_type": "code",
   "execution_count": null,
   "id": "390be2e7-ec14-41fb-ad43-a99725f7bcf2",
   "metadata": {},
   "outputs": [],
   "source": []
  },
  {
   "cell_type": "code",
   "execution_count": null,
   "id": "3b48534d-3f5a-4bb6-a14d-86f4dc8999d9",
   "metadata": {},
   "outputs": [],
   "source": [
    "# basic indexing and slicing\n",
    "arr = np.arange(10)\n",
    "arr\n",
    "print(arr[5])\n",
    "print(arr[5:8])\n",
    "arr[5:8]=12\n",
    "arr"
   ]
  },
  {
   "cell_type": "markdown",
   "id": "bcbc9fb6-6d45-4f46-8cfa-b39ff001d94a",
   "metadata": {},
   "source": [
    "Note : one important thing, in python built in lists array slices are views in orginal array. this means its not create copy of data\n",
    "whatever we changed in array slices it will reflect the orginal source array"
   ]
  },
  {
   "cell_type": "code",
   "execution_count": null,
   "id": "dadf7a34-5a5f-453e-85d0-5367960a20d5",
   "metadata": {},
   "outputs": [],
   "source": [
    "# anychanges in array slices it will reflect the orginal array, look below example for better understand\n",
    "print(arr)\n",
    "arr_slice = arr[5:8]\n",
    "print(arr_slice)\n",
    "arr_slice[1]=12345\n",
    "print(arr_slice)\n",
    "print(arr)"
   ]
  },
  {
   "cell_type": "code",
   "execution_count": null,
   "id": "1c2725fc-1d3a-403d-b2f1-6b3a6ce95395",
   "metadata": {},
   "outputs": [],
   "source": [
    "arr_slice[:]=64\n",
    "arr"
   ]
  },
  {
   "cell_type": "code",
   "execution_count": null,
   "id": "e4c63ce4-90c8-484a-ae39-1f290a5ceec1",
   "metadata": {},
   "outputs": [],
   "source": [
    "# here we created for copy f orginal data. any changes in copy array data will not reflect the orginal array data\n",
    "slice_arr = [1,2,3,4,5]\n",
    "copy_arr = slice_arr.copy()\n",
    "copy_arr[2] = 7\n",
    "print(slice_arr)\n",
    "print(copy_arr)"
   ]
  },
  {
   "cell_type": "code",
   "execution_count": null,
   "id": "bd2fa688-46ea-4806-8c54-d1768fda3ac5",
   "metadata": {},
   "outputs": [],
   "source": []
  },
  {
   "cell_type": "code",
   "execution_count": null,
   "id": "dad8a123-5125-4317-a243-10c64d53c8c5",
   "metadata": {},
   "outputs": [],
   "source": []
  },
  {
   "cell_type": "code",
   "execution_count": null,
   "id": "23fa5879-3df2-4046-aeaf-b0180a77450a",
   "metadata": {},
   "outputs": [],
   "source": [
    "# lets look into 2-Dimensional array\n",
    "arr2d = np.array([[1,2,3],[4,5,6],[7,8,9]])\n",
    "arr2d[2]"
   ]
  },
  {
   "cell_type": "code",
   "execution_count": null,
   "id": "e9cd0922-40cd-410c-bf62-d289457b3c29",
   "metadata": {},
   "outputs": [],
   "source": [
    "# access the element values\n",
    "arr2d[0][2]"
   ]
  },
  {
   "cell_type": "code",
   "execution_count": null,
   "id": "dcf04ba0-cc7f-4f1f-92d5-13125e55a4b8",
   "metadata": {},
   "outputs": [],
   "source": [
    "arr2d[0,2] # above code and this code both give same results."
   ]
  },
  {
   "cell_type": "code",
   "execution_count": null,
   "id": "f6573dbd-0445-4f66-b425-827830968b2d",
   "metadata": {},
   "outputs": [],
   "source": []
  },
  {
   "cell_type": "code",
   "execution_count": null,
   "id": "6193d663-3a66-4940-9346-21fcc0ab2278",
   "metadata": {},
   "outputs": [],
   "source": []
  },
  {
   "cell_type": "code",
   "execution_count": null,
   "id": "8a7a6940-e76d-4fc9-888a-35ab6aa5a118",
   "metadata": {},
   "outputs": [],
   "source": [
    "# 3_dimensional data\n",
    "arr3d = np.array([[[1,2,3],[4,5,6]],[[7,8,9],[10,11,12]]])\n",
    "arr3d"
   ]
  },
  {
   "cell_type": "code",
   "execution_count": null,
   "id": "6184c7e0-d08c-49e0-b301-d2c8b7ce0828",
   "metadata": {},
   "outputs": [],
   "source": [
    "arr3d[0] # 2-D data"
   ]
  },
  {
   "cell_type": "code",
   "execution_count": null,
   "id": "964288ba-b5e8-4004-85ae-e5d94af2c3f2",
   "metadata": {},
   "outputs": [],
   "source": [
    "old_values = arr3d[0].copy()\n",
    "arr3d[0] = 42\n",
    "arr3d"
   ]
  },
  {
   "cell_type": "code",
   "execution_count": null,
   "id": "f8d3b1db-bdea-4044-a63d-8ffc5d673bdd",
   "metadata": {},
   "outputs": [],
   "source": [
    "arr3d[0] = old_values\n",
    "arr3d"
   ]
  },
  {
   "cell_type": "code",
   "execution_count": null,
   "id": "a8598cf4-a562-46b5-ba58-3a302fab2ad0",
   "metadata": {},
   "outputs": [],
   "source": [
    "arr3d[1,0]"
   ]
  },
  {
   "cell_type": "code",
   "execution_count": null,
   "id": "333de632-73be-43dd-9975-95a1c7b234fe",
   "metadata": {},
   "outputs": [],
   "source": [
    "# above code expanded into two lines\n",
    "temp_1 = arr3d[1]\n",
    "temp_1\n",
    "temp_1[0]"
   ]
  },
  {
   "cell_type": "code",
   "execution_count": null,
   "id": "24510959-465e-4ef4-a4f2-2ac619d533e1",
   "metadata": {},
   "outputs": [],
   "source": []
  },
  {
   "cell_type": "code",
   "execution_count": null,
   "id": "df0ba9fd-777e-4b27-8844-321d48bcc1da",
   "metadata": {},
   "outputs": [],
   "source": []
  },
  {
   "cell_type": "code",
   "execution_count": null,
   "id": "f0325745-f37a-4336-a67d-53a46f8a5d70",
   "metadata": {},
   "outputs": [],
   "source": [
    "# indexing with slicing\n",
    "arr = np.arange(10)\n",
    "arr[1:6]"
   ]
  },
  {
   "cell_type": "code",
   "execution_count": null,
   "id": "83adc56e-6f70-4f9a-9baa-bd51c988b50e",
   "metadata": {},
   "outputs": [],
   "source": [
    "# 2d\n",
    "arr2d"
   ]
  },
  {
   "cell_type": "code",
   "execution_count": null,
   "id": "f115a1d3-8cf5-458b-870f-863d53c4d101",
   "metadata": {},
   "outputs": [],
   "source": [
    "arr2d[:2]"
   ]
  },
  {
   "cell_type": "code",
   "execution_count": null,
   "id": "c10a0f21-f1c6-476d-8add-de93eeec40bf",
   "metadata": {},
   "outputs": [],
   "source": [
    "arr2d[:2,1:]"
   ]
  },
  {
   "cell_type": "code",
   "execution_count": null,
   "id": "3bfc7942-71a8-4ab8-a7cd-b2bb8b7d757c",
   "metadata": {},
   "outputs": [],
   "source": [
    "arr2d[1,:2]"
   ]
  },
  {
   "cell_type": "code",
   "execution_count": null,
   "id": "79776246-098f-428f-a439-d6e47279eb62",
   "metadata": {},
   "outputs": [],
   "source": [
    "arr2d[:,:1]"
   ]
  },
  {
   "cell_type": "code",
   "execution_count": null,
   "id": "5b82b0a1-b9b2-4f92-bb65-046313971025",
   "metadata": {},
   "outputs": [],
   "source": []
  },
  {
   "cell_type": "code",
   "execution_count": null,
   "id": "552c8dd9-1be0-4bf8-b560-a4da8bbff3a7",
   "metadata": {},
   "outputs": [],
   "source": []
  },
  {
   "cell_type": "code",
   "execution_count": null,
   "id": "3acb0981-c30e-44c0-a9f6-4bfac268a945",
   "metadata": {},
   "outputs": [],
   "source": [
    "# boolean indexing\n",
    "names = np.array([\"Bob\", \"Joe\", \"Will\", \"Bob\", \"Will\", \"Joe\", \"Joe\"])\n",
    "data = np.array([[4, 7], [0, 2], [-5, 6], [0, 0], [1, 2],[-12, -4], [3, 4]])\n",
    "print(names)\n",
    "print(data)"
   ]
  },
  {
   "cell_type": "code",
   "execution_count": null,
   "id": "6fa07d67-2724-473c-bd7e-137c15850591",
   "metadata": {},
   "outputs": [],
   "source": [
    "names == 'Bob'"
   ]
  },
  {
   "cell_type": "code",
   "execution_count": null,
   "id": "950fc09d-b572-4417-b742-47c1049cd39d",
   "metadata": {},
   "outputs": [],
   "source": [
    "data[names=='Bob']"
   ]
  },
  {
   "cell_type": "code",
   "execution_count": null,
   "id": "acc53f7d-1303-41aa-9e13-6d8a016dd537",
   "metadata": {},
   "outputs": [],
   "source": [
    "data[names=='Bob',1:]"
   ]
  },
  {
   "cell_type": "code",
   "execution_count": null,
   "id": "dd34059d-6dde-487c-9a17-d0ec7ec5dfe2",
   "metadata": {},
   "outputs": [],
   "source": [
    "data[names == 'Bob',1]"
   ]
  },
  {
   "cell_type": "code",
   "execution_count": null,
   "id": "a2909c3f-270c-4b10-9e38-964be3cf7079",
   "metadata": {},
   "outputs": [],
   "source": [
    "data[names != 'Bob',0]"
   ]
  },
  {
   "cell_type": "code",
   "execution_count": null,
   "id": "da73110f-7853-45e9-a13c-a8785f070de9",
   "metadata": {},
   "outputs": [],
   "source": [
    "data[~(names == 'Bob')]\n",
    "# the ~ opeartor is useful when you want invert the boolean array referenced by variable"
   ]
  },
  {
   "cell_type": "code",
   "execution_count": null,
   "id": "f8df7535-9d04-48bb-99e8-69d73cf5ca67",
   "metadata": {},
   "outputs": [],
   "source": [
    "data[(names=='Bob') | (names=='Will')]"
   ]
  },
  {
   "cell_type": "code",
   "execution_count": null,
   "id": "b5002ac4-c855-407c-af1f-afdf47bd69ee",
   "metadata": {},
   "outputs": [],
   "source": [
    "# selecting data from array an boolean indexing and assigning the results into new varible always creates a copy of the data\n",
    "# python keywords and or not work in boolean arrays. so use &(and) |(or)"
   ]
  },
  {
   "cell_type": "code",
   "execution_count": null,
   "id": "db2e2d52-d7df-492c-8467-b431a149d534",
   "metadata": {},
   "outputs": [],
   "source": [
    "data[data<0] = 0\n",
    "data"
   ]
  },
  {
   "cell_type": "code",
   "execution_count": null,
   "id": "b5547186-b929-459f-ad03-483c858e4855",
   "metadata": {},
   "outputs": [],
   "source": [
    "# we can whole set rows or columns using one dimensional boolean array data\n",
    "data[names!='Joe']=7\n",
    "data"
   ]
  },
  {
   "cell_type": "code",
   "execution_count": null,
   "id": "e048735d-6002-426e-8cb3-b52456246a4d",
   "metadata": {},
   "outputs": [],
   "source": []
  },
  {
   "cell_type": "code",
   "execution_count": null,
   "id": "a171511f-560b-4501-835e-0d2c988add3e",
   "metadata": {},
   "outputs": [],
   "source": []
  },
  {
   "cell_type": "code",
   "execution_count": null,
   "id": "a40883f6-4773-4486-8ab5-a50cc4b73b2a",
   "metadata": {},
   "outputs": [],
   "source": [
    "# fancy indexing we used to describe indexing using integer arrays\n",
    "arr = np.zeros((8,4))\n",
    "arr"
   ]
  },
  {
   "cell_type": "code",
   "execution_count": null,
   "id": "042c8d58-1715-43be-9c3b-fa324b9cd128",
   "metadata": {},
   "outputs": [],
   "source": [
    "for i in range(8):\n",
    "    arr[i]=i\n",
    "\n",
    "arr\n",
    "    "
   ]
  },
  {
   "cell_type": "code",
   "execution_count": null,
   "id": "0d58e091-a037-4422-8840-005d6e9ad057",
   "metadata": {},
   "outputs": [],
   "source": [
    "# to select the subset of rows in particular order. you can pass simply list of ndarray integers, specifying order.\n",
    "arr[[4,3,0,6]]"
   ]
  },
  {
   "cell_type": "code",
   "execution_count": null,
   "id": "399d45b7-8a23-4e05-ab1a-0c81759a9c24",
   "metadata": {},
   "outputs": [],
   "source": [
    "arr[[-3,-5,-7]] "
   ]
  },
  {
   "cell_type": "code",
   "execution_count": null,
   "id": "abe80072-75d4-4172-8ef7-fdec1d3ca5d6",
   "metadata": {},
   "outputs": [],
   "source": [
    "arr = np.arange(32).reshape((8,4))\n",
    "arr"
   ]
  },
  {
   "cell_type": "code",
   "execution_count": null,
   "id": "34e3ec6d-27e0-4114-94ac-955d9511023c",
   "metadata": {},
   "outputs": [],
   "source": [
    "arr[[1,5,7,2],[0,3,1,2]] # row x column # it always returns 1-dimesional"
   ]
  },
  {
   "cell_type": "code",
   "execution_count": null,
   "id": "ed621116-9c8f-4211-b844-e52bbd5151bf",
   "metadata": {},
   "outputs": [],
   "source": [
    "arr[[1,5,7,2]][:,[0,3,1,2]]"
   ]
  },
  {
   "cell_type": "code",
   "execution_count": null,
   "id": "2c997f86-9bba-456a-b7a7-c0fcde994ffe",
   "metadata": {},
   "outputs": [],
   "source": [
    "# keep in the mind fancy indexing unlike slicing, always copies the data into new array when assigning result in new variable.\n",
    "# when we assign values in fancy indexing, the indexed values are modified.\n",
    "\n",
    "arr[[1,5,7,2],[0,3,1,2]]"
   ]
  },
  {
   "cell_type": "code",
   "execution_count": null,
   "id": "c694fcdf-b29d-4a2f-b9a2-3319f5e4bb12",
   "metadata": {},
   "outputs": [],
   "source": [
    "arr[[1,5,7,2],[0,3,1,2]] = 0"
   ]
  },
  {
   "cell_type": "code",
   "execution_count": null,
   "id": "adda2209-e562-4543-9c06-6aadbd427cbc",
   "metadata": {},
   "outputs": [],
   "source": [
    "arr # we can see this values are changed."
   ]
  },
  {
   "cell_type": "code",
   "execution_count": null,
   "id": "e590fec8-a9c3-41e5-aafb-af128f98b426",
   "metadata": {},
   "outputs": [],
   "source": []
  },
  {
   "cell_type": "code",
   "execution_count": null,
   "id": "d10feae7-d4c3-42df-996d-29999f66ec7b",
   "metadata": {},
   "outputs": [],
   "source": []
  },
  {
   "cell_type": "code",
   "execution_count": null,
   "id": "a39d0d5d-42ac-4928-bab4-a96e9c2a777e",
   "metadata": {},
   "outputs": [],
   "source": [
    "# transposing arrays and swapping axes.\n",
    "\n",
    "# when we using transposing arrays\n",
    "# A: when we doing matrix computations, we may often do transpose\n",
    "arr = np.arange(15).reshape((3,5))\n",
    "arr"
   ]
  },
  {
   "cell_type": "code",
   "execution_count": null,
   "id": "e07bd577-e725-48bc-9d09-707d9a19dc52",
   "metadata": {},
   "outputs": [],
   "source": [
    "arr.T"
   ]
  },
  {
   "cell_type": "code",
   "execution_count": null,
   "id": "92d635bd-66ba-4574-bbbf-e954268b3813",
   "metadata": {},
   "outputs": [],
   "source": [
    "# lets look into example when we using transpose array\n",
    "\n",
    "arr = np.array([[0, 1, 0], [1, 2, -2], [6, 3, 2], [-1, 0, -1], [1, 0, 1]])\n",
    "arr\n"
   ]
  },
  {
   "cell_type": "code",
   "execution_count": null,
   "id": "01c135cf-4c09-4fed-b0d4-f8bf058a6893",
   "metadata": {},
   "outputs": [],
   "source": [
    "np.dot(arr.T, arr) # way-1"
   ]
  },
  {
   "cell_type": "code",
   "execution_count": 72,
   "id": "bff10e66-6bd8-4922-80dd-bff8718d7293",
   "metadata": {},
   "outputs": [],
   "source": [
    "# the @ infix operator is another way matrix multiplication # way-2\n",
    "arr.T @ arr"
   ]
  },
  {
   "cell_type": "code",
   "execution_count": 73,
   "id": "2f34abbd-3d80-433d-84ea-589fa14cd294",
   "metadata": {},
   "outputs": [
    {
     "data": {
      "text/plain": [
       "array([[ 0,  1,  0],\n",
       "       [ 1,  2, -2],\n",
       "       [ 6,  3,  2],\n",
       "       [-1,  0, -1],\n",
       "       [ 1,  0,  1]])"
      ]
     },
     "execution_count": 73,
     "metadata": {},
     "output_type": "execute_result"
    }
   ],
   "source": [
    "# similarly we have swapaxes method in ndarrays\n",
    "arr"
   ]
  },
  {
   "cell_type": "code",
   "execution_count": 74,
   "id": "ccdd68f9-8302-4a18-82cc-a4aa29163a54",
   "metadata": {
    "scrolled": true
   },
   "outputs": [
    {
     "data": {
      "text/plain": [
       "array([[ 0,  1,  6, -1,  1],\n",
       "       [ 1,  2,  3,  0,  0],\n",
       "       [ 0, -2,  2, -1,  1]])"
      ]
     },
     "execution_count": 74,
     "metadata": {},
     "output_type": "execute_result"
    }
   ],
   "source": [
    "arr.swapaxes(0,1)"
   ]
  },
  {
   "cell_type": "code",
   "execution_count": null,
   "id": "5fec1d5f-2084-4835-af12-35dc64f397e6",
   "metadata": {},
   "outputs": [],
   "source": []
  },
  {
   "cell_type": "code",
   "execution_count": null,
   "id": "bbaa7fec-da3e-498f-bf36-ba930892934e",
   "metadata": {},
   "outputs": [],
   "source": []
  },
  {
   "cell_type": "markdown",
   "id": "db308741-58d2-436f-9b14-087114943c24",
   "metadata": {},
   "source": [
    "## pseudo random number generation"
   ]
  },
  {
   "cell_type": "code",
   "execution_count": 76,
   "id": "b651717b-1cb9-4d47-a1a7-9053ec7e63cd",
   "metadata": {},
   "outputs": [
    {
     "data": {
      "text/plain": [
       "array([[ 0.19481131, -1.9843194 , -2.33400816, -0.55581493],\n",
       "       [ 0.67580196,  1.60154029, -1.71074098,  0.14684298],\n",
       "       [-0.94147658,  1.16250624,  0.03293425, -0.54577495],\n",
       "       [-0.07194979,  1.96191774, -1.69493001, -2.11964763]])"
      ]
     },
     "execution_count": 76,
     "metadata": {},
     "output_type": "execute_result"
    }
   ],
   "source": [
    "samples = np.random.standard_normal(size=(4,4))\n",
    "samples"
   ]
  },
  {
   "cell_type": "markdown",
   "id": "228c3d33-fd80-4dc4-b395-0dcab481090a",
   "metadata": {},
   "source": [
    "python built in random module, samples only value at a time. check the benchmark below code"
   ]
  },
  {
   "cell_type": "code",
   "execution_count": 79,
   "id": "4e32ffcc-d527-4ad3-afb6-67fea7199928",
   "metadata": {},
   "outputs": [
    {
     "name": "stdout",
     "output_type": "stream",
     "text": [
      "2.75 s ± 41.8 ms per loop (mean ± std. dev. of 7 runs, 1 loop each)\n"
     ]
    }
   ],
   "source": [
    "from random import normalvariate\n",
    "N = 1_000_000\n",
    "\n",
    "%timeit samples = [normalvariate(0,1) for _ in range(N)]"
   ]
  },
  {
   "cell_type": "code",
   "execution_count": 80,
   "id": "bd993fff-4b05-4296-8de1-644852df8a19",
   "metadata": {},
   "outputs": [
    {
     "name": "stdout",
     "output_type": "stream",
     "text": [
      "104 ms ± 1.6 ms per loop (mean ± std. dev. of 7 runs, 10 loops each)\n"
     ]
    }
   ],
   "source": [
    "%timeit samples = np.random.standard_normal(N)"
   ]
  },
  {
   "cell_type": "code",
   "execution_count": 99,
   "id": "0906ba5b-8948-4e74-a491-60bf56f25473",
   "metadata": {},
   "outputs": [
    {
     "data": {
      "text/plain": [
       "array([[-1.42382504,  1.26372846, -0.87066174, -0.25917323],\n",
       "       [-0.07534331, -0.74088465, -1.3677927 ,  0.6488928 ],\n",
       "       [ 0.36105811, -1.95286306,  2.34740965,  0.96849691],\n",
       "       [-0.75938718,  0.90219827, -0.46695317, -0.06068952]])"
      ]
     },
     "execution_count": 99,
     "metadata": {},
     "output_type": "execute_result"
    }
   ],
   "source": [
    "# genrally np.random generates are not truly random(i.e pseudo random).  here we configured explicitly\n",
    "rng = np.random.default_rng(seed=12345)\n",
    "samples = rng.standard_normal(size=(4,4))\n",
    "samples"
   ]
  },
  {
   "cell_type": "code",
   "execution_count": null,
   "id": "2a2ff286-d34b-4441-a28c-7326f5118aa1",
   "metadata": {},
   "outputs": [],
   "source": [
    "# seed argument is determines initial stage of genrator, stage changes each time rng object is used to generate the data.\n",
    "# generator object rng is isolated from other code which might be numpy.random module."
   ]
  },
  {
   "cell_type": "code",
   "execution_count": 100,
   "id": "b31cd6a8-7644-4c24-bbc6-a7adaa7ff851",
   "metadata": {
    "scrolled": true
   },
   "outputs": [
    {
     "data": {
      "text/plain": [
       "numpy.random._generator.Generator"
      ]
     },
     "execution_count": 100,
     "metadata": {},
     "output_type": "execute_result"
    }
   ],
   "source": [
    "type(rng)"
   ]
  },
  {
   "cell_type": "code",
   "execution_count": null,
   "id": "5330bf59-be11-438c-8fba-d96614b20927",
   "metadata": {},
   "outputs": [],
   "source": []
  },
  {
   "cell_type": "code",
   "execution_count": null,
   "id": "cd1d6090-d029-48a3-9d34-1e4731f9ac5c",
   "metadata": {},
   "outputs": [],
   "source": []
  },
  {
   "cell_type": "markdown",
   "id": "adb0d105-77bb-422d-bf92-176b347b2cb6",
   "metadata": {},
   "source": [
    "## universal functions: fast element wise array functions"
   ]
  },
  {
   "cell_type": "code",
   "execution_count": null,
   "id": "0f4c26ce-a96a-472b-bf91-55eb08af83ed",
   "metadata": {},
   "outputs": [],
   "source": [
    "# look at name it self understanding. it is element wise operations in ndarrays.\n",
    "# you can think of them fast vectorized wrappers for simple functions take one or more scaler values it -\n",
    "# produces one or more scaler results"
   ]
  },
  {
   "cell_type": "code",
   "execution_count": 104,
   "id": "859f94bf-23cf-40ad-8d39-674045cd0902",
   "metadata": {},
   "outputs": [
    {
     "name": "stdout",
     "output_type": "stream",
     "text": [
      "[0 1 2 3 4 5 6 7 8 9]\n"
     ]
    },
    {
     "data": {
      "text/plain": [
       "array([0.        , 1.        , 1.41421356, 1.73205081, 2.        ,\n",
       "       2.23606798, 2.44948974, 2.64575131, 2.82842712, 3.        ])"
      ]
     },
     "execution_count": 104,
     "metadata": {},
     "output_type": "execute_result"
    }
   ],
   "source": [
    "# many ufuncs are simple element wise transformations like numpy.sqrt or numpy.exp\n",
    "arr = np.arange(10)\n",
    "print(arr)\n",
    "np.sqrt(arr)"
   ]
  },
  {
   "cell_type": "code",
   "execution_count": 103,
   "id": "996bc1ed-cfac-4bfc-bd27-a96a1196f363",
   "metadata": {},
   "outputs": [
    {
     "data": {
      "text/plain": [
       "array([1.00000000e+00, 2.71828183e+00, 7.38905610e+00, 2.00855369e+01,\n",
       "       5.45981500e+01, 1.48413159e+02, 4.03428793e+02, 1.09663316e+03,\n",
       "       2.98095799e+03, 8.10308393e+03])"
      ]
     },
     "execution_count": 103,
     "metadata": {},
     "output_type": "execute_result"
    }
   ],
   "source": [
    "np.exp(arr)"
   ]
  },
  {
   "cell_type": "code",
   "execution_count": 106,
   "id": "52e59fe4-3f35-42c2-88a5-f8f4c249d149",
   "metadata": {},
   "outputs": [
    {
     "name": "stdout",
     "output_type": "stream",
     "text": [
      "[-0.95898831 -1.20938829 -1.41229201  0.54154683  0.7519394  -0.65876032\n",
      " -1.22867499  0.25755777]\n",
      "[ 0.31290292 -0.13081169  1.26998312 -0.09296246 -0.06615089 -1.10821447\n",
      "  0.13595685  1.34707776]\n"
     ]
    }
   ],
   "source": [
    "# these are refered has as unary functions. others such has numpy.add or numpy.maximum, it takes two arrays and returns single array\n",
    "\n",
    "x = rng.standard_normal(8)\n",
    "\n",
    "y = rng.standard_normal(8)\n",
    "print(x)\n",
    "print(y)"
   ]
  },
  {
   "cell_type": "code",
   "execution_count": 107,
   "id": "a21eca6a-b43d-4a8d-a1a9-dc19c8485f45",
   "metadata": {},
   "outputs": [
    {
     "data": {
      "text/plain": [
       "array([ 0.31290292, -0.13081169,  1.26998312,  0.54154683,  0.7519394 ,\n",
       "       -0.65876032,  0.13595685,  1.34707776])"
      ]
     },
     "execution_count": 107,
     "metadata": {},
     "output_type": "execute_result"
    }
   ],
   "source": [
    "np.maximum(x,y) # it returns single array it contains maximum values"
   ]
  },
  {
   "cell_type": "code",
   "execution_count": 108,
   "id": "4ebc59dd-3295-48c2-ac31-b8af235c0a8f",
   "metadata": {},
   "outputs": [
    {
     "data": {
      "text/plain": [
       "array([0.3057201 , 0.354573  , 2.16827269, 1.3874183 , 2.65126193,\n",
       "       2.68360485, 3.09175007])"
      ]
     },
     "execution_count": 108,
     "metadata": {},
     "output_type": "execute_result"
    }
   ],
   "source": [
    "# while not common, ufunc can return multiple arrays. numpy.modf is one example vectorized python built in math.modf\n",
    "# it returns fractional point and integral part of floating point array.\n",
    "\n",
    "arr = rng.standard_normal(7)*5\n",
    "arr"
   ]
  },
  {
   "cell_type": "code",
   "execution_count": 111,
   "id": "8c2019d9-9876-453b-81ea-104025aef8ab",
   "metadata": {},
   "outputs": [
    {
     "name": "stdout",
     "output_type": "stream",
     "text": [
      "Remainder =>  [0.3057201  0.354573   0.16827269 0.3874183  0.65126193 0.68360485\n",
      " 0.09175007]\n",
      "Wholepart =>  [0. 0. 2. 1. 2. 2. 3.]\n"
     ]
    }
   ],
   "source": [
    "remainder, wholepart = np.modf(arr)\n",
    "print('Remainder => ',remainder)\n",
    "print('Wholepart => ',wholepart)"
   ]
  },
  {
   "cell_type": "markdown",
   "id": "70feed14-d045-44a9-b3f5-ae4b694c80e7",
   "metadata": {},
   "source": [
    "ufunc can accept out argument allows them assign their result values in existing array rather than create new one."
   ]
  },
  {
   "cell_type": "code",
   "execution_count": 113,
   "id": "fe0246c2-2d6e-4271-b277-311c06b59f64",
   "metadata": {},
   "outputs": [
    {
     "data": {
      "text/plain": [
       "array([0.3057201 , 0.354573  , 2.16827269, 1.3874183 , 2.65126193,\n",
       "       2.68360485, 3.09175007])"
      ]
     },
     "execution_count": 113,
     "metadata": {},
     "output_type": "execute_result"
    }
   ],
   "source": [
    "arr"
   ]
  },
  {
   "cell_type": "code",
   "execution_count": 114,
   "id": "95531935-b05f-4d89-adf3-19d9774261e2",
   "metadata": {},
   "outputs": [
    {
     "data": {
      "text/plain": [
       "array([0., 0., 0., 0., 0., 0., 0.])"
      ]
     },
     "execution_count": 114,
     "metadata": {},
     "output_type": "execute_result"
    }
   ],
   "source": [
    "out = np.zeros_like(arr)\n",
    "out"
   ]
  },
  {
   "cell_type": "code",
   "execution_count": 115,
   "id": "0b53e603-0da5-4586-becb-06b2d98f37da",
   "metadata": {},
   "outputs": [
    {
     "data": {
      "text/plain": [
       "array([1.3057201 , 1.354573  , 3.16827269, 2.3874183 , 3.65126193,\n",
       "       3.68360485, 4.09175007])"
      ]
     },
     "execution_count": 115,
     "metadata": {},
     "output_type": "execute_result"
    }
   ],
   "source": [
    "np.add(arr,1) # add function will addition 1 to arr array"
   ]
  },
  {
   "cell_type": "code",
   "execution_count": 116,
   "id": "f5a0a831-72b4-4ffd-a48e-33d3d90329a0",
   "metadata": {},
   "outputs": [
    {
     "data": {
      "text/plain": [
       "array([1.3057201 , 1.354573  , 3.16827269, 2.3874183 , 3.65126193,\n",
       "       3.68360485, 4.09175007])"
      ]
     },
     "execution_count": 116,
     "metadata": {},
     "output_type": "execute_result"
    }
   ],
   "source": [
    "np.add(arr,1,out=out)"
   ]
  },
  {
   "cell_type": "code",
   "execution_count": 117,
   "id": "389b7285-f636-43f8-990d-1b210692e7c8",
   "metadata": {},
   "outputs": [
    {
     "data": {
      "text/plain": [
       "array([1.3057201 , 1.354573  , 3.16827269, 2.3874183 , 3.65126193,\n",
       "       3.68360485, 4.09175007])"
      ]
     },
     "execution_count": 117,
     "metadata": {},
     "output_type": "execute_result"
    }
   ],
   "source": [
    "out"
   ]
  },
  {
   "cell_type": "code",
   "execution_count": 125,
   "id": "f07365ee-e831-4fa5-beef-5c157385fd26",
   "metadata": {
    "scrolled": true
   },
   "outputs": [
    {
     "data": {
      "text/plain": [
       "array([-1.6942799 , -1.645427  ,  0.16827269, -0.6125817 ,  0.65126193,\n",
       "        0.68360485,  1.09175007])"
      ]
     },
     "execution_count": 125,
     "metadata": {},
     "output_type": "execute_result"
    }
   ],
   "source": [
    "d=np.zeros_like(arr)\n",
    "np.subtract(arr,2,out=d)\n",
    "d"
   ]
  },
  {
   "cell_type": "code",
   "execution_count": null,
   "id": "fd9ab8fb-9852-4e23-9b78-a0e6a2ee2977",
   "metadata": {},
   "outputs": [],
   "source": []
  },
  {
   "cell_type": "code",
   "execution_count": null,
   "id": "fd28dac0-5137-47f5-b449-4dec80cf4329",
   "metadata": {},
   "outputs": [],
   "source": []
  },
  {
   "cell_type": "markdown",
   "id": "a9c0ae4d-0493-47f9-ad39-45fcabb763ad",
   "metadata": {},
   "source": [
    "## array oriented programming with arrays"
   ]
  },
  {
   "cell_type": "code",
   "execution_count": 127,
   "id": "68db4c80-18b7-4614-827c-4084e80014da",
   "metadata": {},
   "outputs": [
    {
     "data": {
      "text/plain": [
       "array([[-5.  , -4.99, -4.98, ...,  4.97,  4.98,  4.99],\n",
       "       [-5.  , -4.99, -4.98, ...,  4.97,  4.98,  4.99],\n",
       "       [-5.  , -4.99, -4.98, ...,  4.97,  4.98,  4.99],\n",
       "       ...,\n",
       "       [-5.  , -4.99, -4.98, ...,  4.97,  4.98,  4.99],\n",
       "       [-5.  , -4.99, -4.98, ...,  4.97,  4.98,  4.99],\n",
       "       [-5.  , -4.99, -4.98, ...,  4.97,  4.98,  4.99]])"
      ]
     },
     "execution_count": 127,
     "metadata": {},
     "output_type": "execute_result"
    }
   ],
   "source": [
    "# replacing explicit loops with array expressions people called has vectorization.\n",
    "# vectorization faster than the pure python equivalents\n",
    "\n",
    "points = np.arange(-5,5,0.01)\n",
    "xs, ys = np.meshgrid(points,points)\n",
    "xs"
   ]
  },
  {
   "cell_type": "code",
   "execution_count": 128,
   "id": "7d9a649b-d237-4f12-9757-c090f6d1b6c0",
   "metadata": {},
   "outputs": [
    {
     "data": {
      "text/plain": [
       "array([[-5.  , -5.  , -5.  , ..., -5.  , -5.  , -5.  ],\n",
       "       [-4.99, -4.99, -4.99, ..., -4.99, -4.99, -4.99],\n",
       "       [-4.98, -4.98, -4.98, ..., -4.98, -4.98, -4.98],\n",
       "       ...,\n",
       "       [ 4.97,  4.97,  4.97, ...,  4.97,  4.97,  4.97],\n",
       "       [ 4.98,  4.98,  4.98, ...,  4.98,  4.98,  4.98],\n",
       "       [ 4.99,  4.99,  4.99, ...,  4.99,  4.99,  4.99]])"
      ]
     },
     "execution_count": 128,
     "metadata": {},
     "output_type": "execute_result"
    }
   ],
   "source": [
    "ys"
   ]
  },
  {
   "cell_type": "code",
   "execution_count": 132,
   "id": "1eafe06a-a8bc-4e1b-b87c-6f03207407e8",
   "metadata": {},
   "outputs": [
    {
     "data": {
      "text/plain": [
       "array([[7.07106781, 7.06400028, 7.05693985, ..., 7.04988652, 7.05693985,\n",
       "        7.06400028],\n",
       "       [7.06400028, 7.05692568, 7.04985815, ..., 7.04279774, 7.04985815,\n",
       "        7.05692568],\n",
       "       [7.05693985, 7.04985815, 7.04278354, ..., 7.03571603, 7.04278354,\n",
       "        7.04985815],\n",
       "       ...,\n",
       "       [7.04988652, 7.04279774, 7.03571603, ..., 7.0286414 , 7.03571603,\n",
       "        7.04279774],\n",
       "       [7.05693985, 7.04985815, 7.04278354, ..., 7.03571603, 7.04278354,\n",
       "        7.04985815],\n",
       "       [7.06400028, 7.05692568, 7.04985815, ..., 7.04279774, 7.04985815,\n",
       "        7.05692568]])"
      ]
     },
     "execution_count": 132,
     "metadata": {},
     "output_type": "execute_result"
    }
   ],
   "source": [
    "zs = np.sqrt(xs ** 2 + ys ** 2)\n",
    "zs"
   ]
  },
  {
   "cell_type": "code",
   "execution_count": 133,
   "id": "d9467225-cee2-4f43-b185-dd2d7d744c8d",
   "metadata": {},
   "outputs": [
    {
     "name": "stderr",
     "output_type": "stream",
     "text": [
      "<>:7: SyntaxWarning: invalid escape sequence '\\s'\n",
      "<>:7: SyntaxWarning: invalid escape sequence '\\s'\n",
      "C:\\Users\\jagan\\AppData\\Local\\Temp\\ipykernel_6720\\4133994352.py:7: SyntaxWarning: invalid escape sequence '\\s'\n",
      "  plt.title('Image plot of $\\sqrt{x^2 + y^2}$ for a grid of values')\n"
     ]
    },
    {
     "data": {
      "text/plain": [
       "Text(0.5, 1.0, 'Image plot of $\\\\sqrt{x^2 + y^2}$ for a grid of values')"
      ]
     },
     "execution_count": 133,
     "metadata": {},
     "output_type": "execute_result"
    },
    {
     "data": {
      "image/png": "[encoded data removed]",
      "text/plain": [
       "<Figure size 640x480 with 2 Axes>"
      ]
     },
     "metadata": {},
     "output_type": "display_data"
    }
   ],
   "source": [
    "# importing matplotlib\n",
    "\n",
    "import matplotlib.pyplot as plt\n",
    "\n",
    "plt.imshow(zs,cmap=plt.cm.grey,extent=[-5,5,-5,5])\n",
    "plt.colorbar()\n",
    "plt.title('Image plot of $\\sqrt{x^2 + y^2}$ for a grid of values')"
   ]
  },
  {
   "cell_type": "code",
   "execution_count": null,
   "id": "e5208134-b514-4ff3-964c-f42dfc3574b5",
   "metadata": {},
   "outputs": [],
   "source": []
  },
  {
   "cell_type": "code",
   "execution_count": null,
   "id": "a8d6fc72-3e57-4a90-a682-9d0ee7390fd7",
   "metadata": {},
   "outputs": [],
   "source": []
  },
  {
   "cell_type": "code",
   "execution_count": 134,
   "id": "98e5d951-5a8e-44f7-ae24-5c0e8cb613de",
   "metadata": {},
   "outputs": [],
   "source": [
    "# expressing conditional logic has array operations\n",
    "\n",
    "# numpy we have np.where function is vectorized version of the ternary expression => x if condition else y"
   ]
  },
  {
   "cell_type": "code",
   "execution_count": 136,
   "id": "55d9476d-5d74-449a-9173-c658df856a44",
   "metadata": {},
   "outputs": [
    {
     "data": {
      "text/plain": [
       "[1.1, 2.2, 1.3, 1.4, 2.5]"
      ]
     },
     "execution_count": 136,
     "metadata": {},
     "output_type": "execute_result"
    }
   ],
   "source": [
    "# suppose we have one boolean array and two array values\n",
    "cond = [True,False,True,True,False]\n",
    "xarr = [1.1,1.2,1.3,1.4,1.5]\n",
    "yarr = [2.1,2.2,2.3,2.4,2.5]\n",
    "\n",
    "# Problem: when condition is true take value from xarr and if its false take value from yarr\n",
    "\n",
    "result = [b if a else c for a,b,c in zip(cond,xarr,yarr)]\n",
    "result"
   ]
  },
  {
   "cell_type": "markdown",
   "id": "d91fb095-cd2e-4900-bb52-e04d704d3e1a",
   "metadata": {},
   "source": [
    "what are the disadvantages in pure python while doing like this operation ?\n",
    "\n",
    "- this has a multiple problems. it will not a fast process for larger arrays (it might be interpreted by python code)\n",
    "- it will not work for multi-dimension arrays\n",
    "\n",
    "then what is best solution to come over this ?\n",
    "\n",
    "- yes we have numpy.where it can do all these single function call\n"
   ]
  },
  {
   "cell_type": "code",
   "execution_count": 141,
   "id": "5a741483-f015-4e74-8d1d-9fb552a18e6a",
   "metadata": {},
   "outputs": [
    {
     "data": {
      "text/plain": [
       "array([1.1, 2.2, 1.3, 1.4, 2.5])"
      ]
     },
     "execution_count": 141,
     "metadata": {},
     "output_type": "execute_result"
    }
   ],
   "source": [
    "np.where(cond,xarr,yarr)"
   ]
  },
  {
   "cell_type": "code",
   "execution_count": null,
   "id": "5c87abf9-d9dc-41cf-bb21-8bc9a3497bab",
   "metadata": {},
   "outputs": [],
   "source": [
    "# in numpy.array dont need be array values it can be scaler values also fine."
   ]
  },
  {
   "cell_type": "markdown",
   "id": "c565af3c-8fb5-4c0c-a208-080aec7d0d68",
   "metadata": {},
   "source": [
    "where we can use numpy.where ?\n",
    "\n",
    "in data analysis we can see that positive and negative values in the arrays. \n",
    "now we have to replace the 2 value in negative places"
   ]
  },
  {
   "cell_type": "code",
   "execution_count": 142,
   "id": "cae512c4-a826-4277-9868-632986b8b35a",
   "metadata": {},
   "outputs": [
    {
     "data": {
      "text/plain": [
       "array([[-0.79501746,  0.30003095, -1.60270159,  0.26679883],\n",
       "       [-1.26162378, -0.07127081,  0.47404973, -0.41485376],\n",
       "       [ 0.0977165 , -1.64041784, -0.85725882,  0.68828179],\n",
       "       [-1.15452958,  0.65045239, -1.38835995, -0.90738246]])"
      ]
     },
     "execution_count": 142,
     "metadata": {},
     "output_type": "execute_result"
    }
   ],
   "source": [
    "arr = rng.standard_normal((4,4))\n",
    "arr"
   ]
  },
  {
   "cell_type": "code",
   "execution_count": 145,
   "id": "492885ee-56c6-4876-b51e-a4dc7f260bde",
   "metadata": {},
   "outputs": [
    {
     "data": {
      "text/plain": [
       "array([[False,  True, False,  True],\n",
       "       [False, False,  True, False],\n",
       "       [ True, False, False,  True],\n",
       "       [False,  True, False, False]])"
      ]
     },
     "execution_count": 145,
     "metadata": {},
     "output_type": "execute_result"
    }
   ],
   "source": [
    "brr = arr > 0\n",
    "brr"
   ]
  },
  {
   "cell_type": "code",
   "execution_count": 146,
   "id": "6d30475d-cd9c-4e5a-9cc8-6d878c889baa",
   "metadata": {},
   "outputs": [
    {
     "data": {
      "text/plain": [
       "array([[-2,  2, -2,  2],\n",
       "       [-2, -2,  2, -2],\n",
       "       [ 2, -2, -2,  2],\n",
       "       [-2,  2, -2, -2]])"
      ]
     },
     "execution_count": 146,
     "metadata": {},
     "output_type": "execute_result"
    }
   ],
   "source": [
    "np.where(brr,2,-2)"
   ]
  },
  {
   "cell_type": "code",
   "execution_count": 147,
   "id": "503a15c4-5764-462d-9346-eadecee0d381",
   "metadata": {
    "scrolled": true
   },
   "outputs": [
    {
     "data": {
      "text/plain": [
       "array([[-0.79501746,  0.        , -1.60270159,  0.        ],\n",
       "       [-1.26162378, -0.07127081,  0.        , -0.41485376],\n",
       "       [ 0.        , -1.64041784, -0.85725882,  0.        ],\n",
       "       [-1.15452958,  0.        , -1.38835995, -0.90738246]])"
      ]
     },
     "execution_count": 147,
     "metadata": {},
     "output_type": "execute_result"
    }
   ],
   "source": [
    "np.where(brr,0,arr)"
   ]
  },
  {
   "cell_type": "code",
   "execution_count": null,
   "id": "0461b2e1-6d61-4ccc-bd8a-4d0209ec366c",
   "metadata": {},
   "outputs": [],
   "source": []
  },
  {
   "cell_type": "code",
   "execution_count": null,
   "id": "d7be4b6a-462f-4a17-870f-5bd08d7b0071",
   "metadata": {},
   "outputs": [],
   "source": []
  },
  {
   "cell_type": "code",
   "execution_count": 149,
   "id": "5fc748a4-098b-4fe1-8972-c3bee2b441b6",
   "metadata": {},
   "outputs": [
    {
     "data": {
      "text/plain": [
       "array([[-1.09542531e+00,  7.14569494e-03,  5.34359903e-01,\n",
       "        -1.06580785e+00],\n",
       "       [-1.81472740e-01,  1.62195180e+00, -3.17391946e-01,\n",
       "        -8.15814967e-01],\n",
       "       [ 3.86579017e-01, -2.23638926e-01, -7.01690809e-01,\n",
       "        -1.79571318e+00],\n",
       "       [ 8.18325622e-01, -5.71032902e-01,  7.85525063e-04,\n",
       "        -1.06364272e+00],\n",
       "       [ 1.30171450e+00,  7.47872942e-01,  9.80875909e-01,\n",
       "        -1.10418688e-01]])"
      ]
     },
     "execution_count": 149,
     "metadata": {},
     "output_type": "execute_result"
    }
   ],
   "source": [
    "# mathematical and statistical methods\n",
    "arr = rng.standard_normal((5,4))\n",
    "arr"
   ]
  },
  {
   "cell_type": "code",
   "execution_count": 152,
   "id": "f9233a93-dfa1-46f5-836b-73c88774540d",
   "metadata": {},
   "outputs": [
    {
     "name": "stdout",
     "output_type": "stream",
     "text": [
      "-0.0771219556244128\n",
      "-0.0771219556244128\n"
     ]
    }
   ],
   "source": [
    "print(arr.mean())\n",
    "print(np.mean(arr))"
   ]
  },
  {
   "cell_type": "code",
   "execution_count": 155,
   "id": "556b8f2d-7311-410f-b9ba-eda11a92611e",
   "metadata": {},
   "outputs": [
    {
     "name": "stdout",
     "output_type": "stream",
     "text": [
      "-1.5424391124882562\n"
     ]
    },
    {
     "data": {
      "text/plain": [
       "-1.5424391124882562"
      ]
     },
     "execution_count": 155,
     "metadata": {},
     "output_type": "execute_result"
    }
   ],
   "source": [
    "print(np.sum(arr))\n",
    "arr.sum() \n",
    "# sum and mean returns array with less one dimension"
   ]
  },
  {
   "cell_type": "code",
   "execution_count": 156,
   "id": "f4875a71-2c1b-45f6-8bf3-78f077a1d44e",
   "metadata": {},
   "outputs": [
    {
     "data": {
      "text/plain": [
       "array([-0.40493189,  0.07681804, -0.58361597, -0.20389112,  0.73001117])"
      ]
     },
     "execution_count": 156,
     "metadata": {},
     "output_type": "execute_result"
    }
   ],
   "source": [
    "# mean and sum have optional argument that is axes.\n",
    "arr.mean(axis=1)"
   ]
  },
  {
   "cell_type": "code",
   "execution_count": 158,
   "id": "dd5c3fd4-8e45-4fda-8af2-3d15d73ec137",
   "metadata": {},
   "outputs": [
    {
     "data": {
      "text/plain": [
       "array([ 1.22972109,  1.58229861,  0.49693858, -4.85139739])"
      ]
     },
     "execution_count": 158,
     "metadata": {},
     "output_type": "execute_result"
    }
   ],
   "source": [
    "arr.sum(axis=0)"
   ]
  },
  {
   "cell_type": "code",
   "execution_count": null,
   "id": "b22cf39d-13fc-434d-a7d8-a519ffc0b4c8",
   "metadata": {},
   "outputs": [],
   "source": [
    "# here mean(axis=1) \"computes mean across the columns\" & sum(axis=0) \"computes sum across the rows\""
   ]
  },
  {
   "cell_type": "code",
   "execution_count": 159,
   "id": "28316d39-292c-4286-93e2-a81c6859869a",
   "metadata": {},
   "outputs": [
    {
     "name": "stdout",
     "output_type": "stream",
     "text": [
      "[ 0  1  3  6 10 15 21 28]\n"
     ]
    }
   ],
   "source": [
    "# other methods like cumsum and cumprod do not aggregate, instead producing intermediate results\n",
    "\n",
    "arr = np.array([0,1,2,3,4,5,6,7])\n",
    "print(arr.cumsum()) # check below code for better understand"
   ]
  },
  {
   "cell_type": "markdown",
   "id": "bd0637e9-3c18-47b4-9eb0-e01cce1f4a1f",
   "metadata": {},
   "source": [
    "- 0\n",
    "- 0+1=1\n",
    "- 0+1+2=3\n",
    "- 0+1+2+3=6\n",
    "- 0+1+2+3+4=10\n",
    "- 0+1+2+3+4+5=15\n",
    "- 0+1+2+3+4+5+6=21\n",
    "- 0+1+2+3+4+5+6+7=28   > [ 0  1  3  6 10 15 21 28]"
   ]
  },
  {
   "cell_type": "markdown",
   "id": "d13ddb58-4013-4d89-a668-3ab2037bb2fe",
   "metadata": {},
   "source": [
    "in multi-dimensional arrays, accumulation function like cumsum return array of same size \n",
    "but with partial aggregated along with dedicated axis each lower dimensional size"
   ]
  },
  {
   "cell_type": "code",
   "execution_count": 160,
   "id": "45fca3aa-78f3-4f55-b9be-9b47cf8bcba6",
   "metadata": {},
   "outputs": [
    {
     "data": {
      "text/plain": [
       "array([[1, 2, 3],\n",
       "       [4, 5, 6],\n",
       "       [7, 8, 9]])"
      ]
     },
     "execution_count": 160,
     "metadata": {},
     "output_type": "execute_result"
    }
   ],
   "source": [
    "arr = np.array([[1,2,3],[4,5,6],[7,8,9]])\n",
    "arr"
   ]
  },
  {
   "cell_type": "code",
   "execution_count": 161,
   "id": "3da5a3d3-422d-45ae-a135-cb6cf3547a8b",
   "metadata": {},
   "outputs": [
    {
     "data": {
      "text/plain": [
       "array([[ 1,  2,  3],\n",
       "       [ 5,  7,  9],\n",
       "       [12, 15, 18]])"
      ]
     },
     "execution_count": 161,
     "metadata": {},
     "output_type": "execute_result"
    }
   ],
   "source": [
    "np.cumsum(arr,axis=0)"
   ]
  },
  {
   "cell_type": "code",
   "execution_count": 162,
   "id": "88ce9df4-3183-4588-82f1-d52a69e9f0b3",
   "metadata": {
    "scrolled": true
   },
   "outputs": [
    {
     "data": {
      "text/plain": [
       "array([[ 1,  3,  6],\n",
       "       [ 4,  9, 15],\n",
       "       [ 7, 15, 24]])"
      ]
     },
     "execution_count": 162,
     "metadata": {},
     "output_type": "execute_result"
    }
   ],
   "source": [
    "np.cumsum(arr,axis=1)"
   ]
  },
  {
   "cell_type": "code",
   "execution_count": null,
   "id": "cdb9ef35-8cad-40c6-8f1c-94bbc6d29382",
   "metadata": {},
   "outputs": [],
   "source": []
  },
  {
   "cell_type": "code",
   "execution_count": null,
   "id": "ca90f459-60de-4e92-ac86-67bfe61b7f1c",
   "metadata": {},
   "outputs": [],
   "source": []
  },
  {
   "cell_type": "markdown",
   "id": "2b99dbe0-f919-45eb-adf9-341e782c04a0",
   "metadata": {},
   "source": [
    "methods of boolean arrays\n",
    "- True(1) and False(0)\n",
    "- sum is often used to counts of trues and falses"
   ]
  },
  {
   "cell_type": "code",
   "execution_count": 164,
   "id": "ced85b28-d9c6-453b-8fef-de823287f825",
   "metadata": {},
   "outputs": [
    {
     "data": {
      "text/plain": [
       "54"
      ]
     },
     "execution_count": 164,
     "metadata": {},
     "output_type": "execute_result"
    }
   ],
   "source": [
    "arr = rng.standard_normal(100)\n",
    "(arr > 0 ).sum() # number of positive values"
   ]
  },
  {
   "cell_type": "code",
   "execution_count": 167,
   "id": "5cd4660d-7652-4e06-8cd5-7dcb48ed5800",
   "metadata": {},
   "outputs": [
    {
     "data": {
      "text/plain": [
       "46"
      ]
     },
     "execution_count": 167,
     "metadata": {},
     "output_type": "execute_result"
    }
   ],
   "source": [
    "(arr <= 0).sum() # number of negative values"
   ]
  },
  {
   "cell_type": "code",
   "execution_count": null,
   "id": "c98820ea-24e2-432a-9e92-e3def58eae9f",
   "metadata": {},
   "outputs": [],
   "source": [
    "# we have two methods over here 1. any  2. all\n",
    "# any means we testing any one value is true\n",
    "# all means we testing all values are true "
   ]
  },
  {
   "cell_type": "code",
   "execution_count": 169,
   "id": "f3e964a7-948b-457b-99bc-85e704cf05ca",
   "metadata": {},
   "outputs": [
    {
     "data": {
      "text/plain": [
       "True"
      ]
     },
     "execution_count": 169,
     "metadata": {},
     "output_type": "execute_result"
    }
   ],
   "source": [
    "bools = np.array([False,False,True,False])\n",
    "bools.any()"
   ]
  },
  {
   "cell_type": "code",
   "execution_count": 170,
   "id": "7034aba3-e309-4c2d-9f5f-85602f3b5281",
   "metadata": {},
   "outputs": [
    {
     "data": {
      "text/plain": [
       "False"
      ]
     },
     "execution_count": 170,
     "metadata": {},
     "output_type": "execute_result"
    }
   ],
   "source": [
    "bools.all()"
   ]
  },
  {
   "cell_type": "code",
   "execution_count": 171,
   "id": "90b7b7ec-970d-41e9-b9a0-ebefef1f47d4",
   "metadata": {},
   "outputs": [],
   "source": [
    "# these methods are works in non boolean array. where non zeros elements treated has True"
   ]
  },
  {
   "cell_type": "code",
   "execution_count": null,
   "id": "c5140809-464e-4593-8e57-aa6c8b16e4f0",
   "metadata": {},
   "outputs": [],
   "source": []
  },
  {
   "cell_type": "code",
   "execution_count": null,
   "id": "d3cbf8b5-98cd-4bc2-94de-9e872de80e51",
   "metadata": {},
   "outputs": [],
   "source": []
  },
  {
   "cell_type": "code",
   "execution_count": 172,
   "id": "2a7e1d6e-0fe3-4dbc-b1d1-14ff642bedb0",
   "metadata": {},
   "outputs": [
    {
     "data": {
      "text/plain": [
       "array([-0.80301588, -0.63763575,  1.14449564, -1.64090191, -1.31400358,\n",
       "       -0.51035251])"
      ]
     },
     "execution_count": 172,
     "metadata": {},
     "output_type": "execute_result"
    }
   ],
   "source": [
    "# sorting\n",
    "arr = rng.standard_normal(6)\n",
    "\n",
    "arr"
   ]
  },
  {
   "cell_type": "code",
   "execution_count": 178,
   "id": "7d0bddb5-bb7b-46b5-b413-f3886beb7425",
   "metadata": {},
   "outputs": [
    {
     "data": {
      "text/plain": [
       "array([-1.64090191, -1.31400358, -0.80301588, -0.63763575, -0.51035251,\n",
       "        1.14449564])"
      ]
     },
     "execution_count": 178,
     "metadata": {},
     "output_type": "execute_result"
    }
   ],
   "source": [
    "arr.sort()\n",
    "arr"
   ]
  },
  {
   "cell_type": "code",
   "execution_count": 187,
   "id": "3117c61b-221b-49e7-a91a-84bf6cc4ad23",
   "metadata": {},
   "outputs": [
    {
     "data": {
      "text/plain": [
       "array([[-0.81202169,  1.17073624, -0.93784297],\n",
       "       [ 0.34326701,  0.05089841,  0.51755965],\n",
       "       [ 0.75142476, -0.21319917, -0.06682368],\n",
       "       [ 0.23911172, -1.30500814, -0.73123644],\n",
       "       [-1.62440684,  0.00525051,  2.22215696]])"
      ]
     },
     "execution_count": 187,
     "metadata": {},
     "output_type": "execute_result"
    }
   ],
   "source": [
    "# we can sort each one dimensional section in multi dimensional array with along axis by passing axis number to sort.\n",
    "\n",
    "arr = rng.standard_normal((5,3))\n",
    "arr"
   ]
  },
  {
   "cell_type": "markdown",
   "id": "6f0a922d-4259-487f-b304-9691127bcbbe",
   "metadata": {},
   "source": [
    "- arr.sort(axis=0) => its sort the values by columns\n",
    "\n",
    "- arr.sort(axis=1) => its sort the values by rows"
   ]
  },
  {
   "cell_type": "code",
   "execution_count": 191,
   "id": "8a0d9e1a-48a7-4272-84d8-148143d7d1dd",
   "metadata": {},
   "outputs": [
    {
     "data": {
      "text/plain": [
       "array([[-1.62440684, -1.30500814, -0.93784297],\n",
       "       [-0.81202169, -0.73123644, -0.21319917],\n",
       "       [-0.06682368,  0.00525051,  0.23911172],\n",
       "       [ 0.05089841,  0.34326701,  0.51755965],\n",
       "       [ 0.75142476,  1.17073624,  2.22215696]])"
      ]
     },
     "execution_count": 191,
     "metadata": {},
     "output_type": "execute_result"
    }
   ],
   "source": [
    "arr.sort(axis=0) # sorts by columns\n",
    "arr"
   ]
  },
  {
   "cell_type": "code",
   "execution_count": 192,
   "id": "41f0c9ec-e3c8-4afd-9c37-1f636e801847",
   "metadata": {},
   "outputs": [
    {
     "data": {
      "text/plain": [
       "array([[-1.62440684, -1.30500814, -0.93784297],\n",
       "       [-0.81202169, -0.73123644, -0.21319917],\n",
       "       [-0.06682368,  0.00525051,  0.23911172],\n",
       "       [ 0.05089841,  0.34326701,  0.51755965],\n",
       "       [ 0.75142476,  1.17073624,  2.22215696]])"
      ]
     },
     "execution_count": 192,
     "metadata": {},
     "output_type": "execute_result"
    }
   ],
   "source": [
    "arr.sort(axis=1) # sorts by rows\n",
    "arr"
   ]
  },
  {
   "cell_type": "code",
   "execution_count": 196,
   "id": "302249d3-f3cb-4b37-815b-5ebf79a9e543",
   "metadata": {},
   "outputs": [
    {
     "data": {
      "text/plain": [
       "array([-10,  -3,   0,   1,   5,   7])"
      ]
     },
     "execution_count": 196,
     "metadata": {},
     "output_type": "execute_result"
    }
   ],
   "source": [
    "# numpy.sort returns copy of sorted array\n",
    "arr = np.array([5, -10, 7, 1, 0, -3])\n",
    "sorted_arr = np.sort(arr)\n",
    "sorted_arr"
   ]
  },
  {
   "cell_type": "code",
   "execution_count": null,
   "id": "0b60b4c6-b57f-4e5e-a8ba-cb3063d16f59",
   "metadata": {},
   "outputs": [],
   "source": []
  },
  {
   "cell_type": "code",
   "execution_count": null,
   "id": "24e4e42d-da89-4bb0-bea4-cbdc550f8637",
   "metadata": {},
   "outputs": [],
   "source": []
  },
  {
   "cell_type": "code",
   "execution_count": 197,
   "id": "754633ff-ddb6-4900-8e15-877354dab224",
   "metadata": {},
   "outputs": [
    {
     "data": {
      "text/plain": [
       "array(['Bob', 'Joe', 'Will'], dtype='<U4')"
      ]
     },
     "execution_count": 197,
     "metadata": {},
     "output_type": "execute_result"
    }
   ],
   "source": [
    "# unique and other set logic\n",
    "# numpy has basic set of opeartions for one dimensinal ndarrays. A commonly used one is unique, \n",
    "# which it retuns sorted unique array values. for better understand look at below example\n",
    "\n",
    "arr = np.array([\"Bob\", \"Will\", \"Joe\", \"Bob\", \"Will\", \"Joe\", \"Joe\"])\n",
    "np.unique(arr)"
   ]
  },
  {
   "cell_type": "code",
   "execution_count": 199,
   "id": "7e2d052e-151f-4568-a51e-af0506bf7812",
   "metadata": {},
   "outputs": [
    {
     "data": {
      "text/plain": [
       "array([1, 2, 3, 6])"
      ]
     },
     "execution_count": 199,
     "metadata": {},
     "output_type": "execute_result"
    }
   ],
   "source": [
    "ints = np.array([3,2,3,3,2,6,2,2,1,1])\n",
    "np.unique(ints)"
   ]
  },
  {
   "cell_type": "code",
   "execution_count": null,
   "id": "a8fdb6dc-21a5-46cc-a845-0411ef8fec4a",
   "metadata": {},
   "outputs": [],
   "source": [
    "# as we already know that numpy version is faster and returns numpy array rather than python list"
   ]
  },
  {
   "cell_type": "code",
   "execution_count": 201,
   "id": "fdff8c66-e3e2-4ccc-8851-18bdf31e37a6",
   "metadata": {},
   "outputs": [
    {
     "data": {
      "text/plain": [
       "array([ True, False,  True, False, False,  True,  True, False])"
      ]
     },
     "execution_count": 201,
     "metadata": {},
     "output_type": "execute_result"
    }
   ],
   "source": [
    "# another function we have numpy.in1d allows us to check one array values in another array and it retuns boolean array\n",
    "arr1 = np.array([2,3,4,6,8,2,4,6])\n",
    "arr2 = np.array([2,4])\n",
    "np.in1d(arr1,arr2)"
   ]
  },
  {
   "cell_type": "code",
   "execution_count": null,
   "id": "6539be8c-923c-4da5-8492-d17eb9d65216",
   "metadata": {},
   "outputs": [],
   "source": []
  },
  {
   "cell_type": "code",
   "execution_count": null,
   "id": "1556bca0-136b-4b1c-b87d-e8d66cd3c7cf",
   "metadata": {},
   "outputs": [],
   "source": []
  },
  {
   "cell_type": "code",
   "execution_count": 202,
   "id": "031d4fa6-4030-42f3-8825-d0455ab2c5d1",
   "metadata": {},
   "outputs": [],
   "source": [
    "#file input and output with arrays\n",
    "# basically it works like save and load data \n",
    "arr = np.arange(10)\n",
    "np.save('some_array',arr)"
   ]
  },
  {
   "cell_type": "code",
   "execution_count": 211,
   "id": "159d1f63-d819-45c9-98d1-965de9410b72",
   "metadata": {},
   "outputs": [
    {
     "data": {
      "text/plain": [
       "NpzFile 'some_array.npz' with keys: a, b"
      ]
     },
     "execution_count": 211,
     "metadata": {},
     "output_type": "execute_result"
    }
   ],
   "source": [
    "np.load('some_array.npz')"
   ]
  },
  {
   "cell_type": "code",
   "execution_count": 212,
   "id": "261b744d-e8ae-455e-9710-b4cee7d90a90",
   "metadata": {},
   "outputs": [],
   "source": [
    "# if we have multiple arrays, we can mention not an issue\n",
    "np.savez('array_archive.npz',a=arr,b=arr)"
   ]
  },
  {
   "cell_type": "code",
   "execution_count": 216,
   "id": "27daba97-5020-4f56-b4ff-89f61eb7e154",
   "metadata": {},
   "outputs": [
    {
     "data": {
      "text/plain": [
       "array([0, 1, 2, 3, 4, 5, 6, 7, 8, 9])"
      ]
     },
     "execution_count": 216,
     "metadata": {},
     "output_type": "execute_result"
    }
   ],
   "source": [
    "arch = np.load('array_archive.npz') # its stores like dictionary\n",
    "arch['a']"
   ]
  },
  {
   "cell_type": "code",
   "execution_count": 218,
   "id": "82d5dec7-a219-4b14-aee8-4f24cb8a04ff",
   "metadata": {},
   "outputs": [],
   "source": [
    "# if our data compressed very well, we wish to use numpy.savez_compressed instead:\n",
    "np.savez_compressed('arrays_compressed.npz',a=arr,b=arr)"
   ]
  },
  {
   "cell_type": "code",
   "execution_count": 220,
   "id": "12e22d48-1625-419b-92e5-03cfd61e6741",
   "metadata": {},
   "outputs": [
    {
     "data": {
      "text/plain": [
       "array([0, 1, 2, 3, 4, 5, 6, 7, 8, 9])"
      ]
     },
     "execution_count": 220,
     "metadata": {},
     "output_type": "execute_result"
    }
   ],
   "source": [
    "np.load('arrays_compressed.npz')['a']"
   ]
  },
  {
   "cell_type": "code",
   "execution_count": null,
   "id": "d86fc65b-df61-48ea-b832-69c97549c8db",
   "metadata": {},
   "outputs": [],
   "source": []
  },
  {
   "cell_type": "code",
   "execution_count": null,
   "id": "0bf6b41a-620f-4e2a-9409-d28d56b9cfb4",
   "metadata": {},
   "outputs": [],
   "source": []
  },
  {
   "cell_type": "code",
   "execution_count": 221,
   "id": "fea0e1bf-9a37-4e25-b29a-b57bc142ef3c",
   "metadata": {},
   "outputs": [],
   "source": [
    "# linear algebra ( LG )\n",
    "\n",
    "# LG means matrix multiplication, decompositions, determinants and other square matrix math are important part of many libraries.\n",
    "\n",
    "arr1 = np.array([[1,2,3],[4,5,6]],dtype='float64')\n",
    "arr2 = np.array([[6., 23.], [-1, 7], [8, 9]])"
   ]
  },
  {
   "cell_type": "code",
   "execution_count": 223,
   "id": "51a236cc-7657-463f-8f64-e2789acebcd3",
   "metadata": {},
   "outputs": [
    {
     "data": {
      "text/plain": [
       "array([[1., 2., 3.],\n",
       "       [4., 5., 6.]])"
      ]
     },
     "execution_count": 223,
     "metadata": {},
     "output_type": "execute_result"
    }
   ],
   "source": [
    "arr1"
   ]
  },
  {
   "cell_type": "code",
   "execution_count": 224,
   "id": "d8aa0bf8-b662-4a4b-ab3b-cf739023a1ec",
   "metadata": {},
   "outputs": [
    {
     "data": {
      "text/plain": [
       "array([[ 6., 23.],\n",
       "       [-1.,  7.],\n",
       "       [ 8.,  9.]])"
      ]
     },
     "execution_count": 224,
     "metadata": {},
     "output_type": "execute_result"
    }
   ],
   "source": [
    "arr2"
   ]
  },
  {
   "cell_type": "code",
   "execution_count": 225,
   "id": "61678761-8aba-48cd-b14b-09258e443a28",
   "metadata": {},
   "outputs": [
    {
     "data": {
      "text/plain": [
       "array([[ 28.,  64.],\n",
       "       [ 67., 181.]])"
      ]
     },
     "execution_count": 225,
     "metadata": {},
     "output_type": "execute_result"
    }
   ],
   "source": [
    "# matrix multiplication\n",
    "arr1.dot(arr2)"
   ]
  },
  {
   "cell_type": "code",
   "execution_count": 226,
   "id": "dd136238-03b3-4a73-b775-70b0252984c8",
   "metadata": {},
   "outputs": [
    {
     "data": {
      "text/plain": [
       "array([[ 28.,  64.],\n",
       "       [ 67., 181.]])"
      ]
     },
     "execution_count": 226,
     "metadata": {},
     "output_type": "execute_result"
    }
   ],
   "source": [
    "# arr1.dot(arr2) is equivalent to np.dot(arr1,arr2)\n",
    "np.dot(arr1,arr2)"
   ]
  },
  {
   "cell_type": "code",
   "execution_count": 232,
   "id": "c558533d-f6ed-4d12-ac22-b8dba4edd3a2",
   "metadata": {},
   "outputs": [
    {
     "data": {
      "text/plain": [
       "array([ 6., 15.])"
      ]
     },
     "execution_count": 232,
     "metadata": {},
     "output_type": "execute_result"
    }
   ],
   "source": [
    "# a matrix product a two dimensional array and sitabaly sized in one dimensional data it returns one dimensional data\n",
    "arr1 @ np.ones(3)"
   ]
  },
  {
   "cell_type": "code",
   "execution_count": 233,
   "id": "d8bb3e4f-dfb0-420e-a7c4-ffe08a3b8796",
   "metadata": {},
   "outputs": [
    {
     "data": {
      "text/plain": [
       "array([[ 0.74130922, -0.86542971, -0.7076847 ,  0.97589876, -0.47440938],\n",
       "       [-1.60848203, -1.02291555, -1.05425642, -1.02139871,  0.67595082],\n",
       "       [ 0.07070287, -1.48863945, -0.53979699, -1.13832102, -1.20842052],\n",
       "       [-1.50667492,  1.74716204, -0.30732952,  0.57623058,  0.86874368],\n",
       "       [-0.38427167,  0.53491954,  0.54061588,  0.22245652,  2.16953213]])"
      ]
     },
     "execution_count": 233,
     "metadata": {},
     "output_type": "execute_result"
    }
   ],
   "source": [
    "# numpy.linalg has standard set of matrix decompositions things like inverse and determinant\n",
    "from numpy.linalg import inv,qr\n",
    "\n",
    "X = rng.standard_normal((5,5))\n",
    "X"
   ]
  },
  {
   "cell_type": "code",
   "execution_count": 234,
   "id": "348810a2-e63f-4644-b609-7970e111d95a",
   "metadata": {},
   "outputs": [
    {
     "data": {
      "text/plain": [
       "array([[ 5.5594867 , -1.93942047,  1.38827643,  1.33218575, -3.66698163],\n",
       "       [-1.93942047,  7.35008633,  2.24666128,  3.02054698,  4.19639094],\n",
       "       [ 1.38827643,  2.24666128,  2.29037199,  0.94382066,  1.18130147],\n",
       "       [ 1.33218575,  3.02054698,  0.94382066,  3.67293707,  1.20540291],\n",
       "       [-3.66698163,  4.19639094,  1.18130147,  1.20540291,  7.60383917]])"
      ]
     },
     "execution_count": 234,
     "metadata": {},
     "output_type": "execute_result"
    }
   ],
   "source": [
    "mat = X.T @ X\n",
    "mat"
   ]
  },
  {
   "cell_type": "code",
   "execution_count": 235,
   "id": "4638b90c-825e-4123-b588-607da2d901fb",
   "metadata": {},
   "outputs": [
    {
     "data": {
      "text/plain": [
       "array([[ 200.66531922,  146.39722271, -240.93407557, -156.95786317,\n",
       "          78.29062267],\n",
       "       [ 146.39722271,  107.15789977, -175.97216729, -114.70577599,\n",
       "          56.98468013],\n",
       "       [-240.93407557, -175.97216729,  289.90817832,  188.45283372,\n",
       "         -93.98980652],\n",
       "       [-156.95786317, -114.70577599,  188.45283372,  123.19064646,\n",
       "         -61.19609908],\n",
       "       [  78.29062267,   56.98468013,  -93.98980652,  -61.19609908,\n",
       "          30.74190907]])"
      ]
     },
     "execution_count": 235,
     "metadata": {},
     "output_type": "execute_result"
    }
   ],
   "source": [
    "inv(mat)"
   ]
  },
  {
   "cell_type": "code",
   "execution_count": 237,
   "id": "a9edb925-c32a-4b20-8682-69491ab13f71",
   "metadata": {},
   "outputs": [
    {
     "data": {
      "text/plain": [
       "array([[ 1.00000000e+00, -2.58315282e-14, -5.71695388e-14,\n",
       "        -9.86673522e-14, -8.05806675e-14],\n",
       "       [-1.38469775e-13,  1.00000000e+00, -7.93465256e-14,\n",
       "         3.40052823e-14,  6.50550653e-14],\n",
       "       [-8.01947998e-14, -9.28346122e-16,  1.00000000e+00,\n",
       "        -4.95020615e-14,  4.27866786e-15],\n",
       "       [-4.27346721e-14,  5.21523644e-15, -1.32670005e-13,\n",
       "         1.00000000e+00, -4.10208819e-15],\n",
       "       [-2.58795661e-14, -9.18117034e-14,  1.09076398e-13,\n",
       "         6.52648914e-14,  1.00000000e+00]])"
      ]
     },
     "execution_count": 237,
     "metadata": {},
     "output_type": "execute_result"
    }
   ],
   "source": [
    "mat @ inv(mat)"
   ]
  },
  {
   "cell_type": "code",
   "execution_count": 240,
   "id": "8b11dbaa-b61c-4d79-87e2-c11b5453cbee",
   "metadata": {},
   "outputs": [
    {
     "data": {
      "text/plain": [
       "array([[0, 1, 2],\n",
       "       [3, 4, 5],\n",
       "       [6, 7, 8]])"
      ]
     },
     "execution_count": 240,
     "metadata": {},
     "output_type": "execute_result"
    }
   ],
   "source": [
    "# sum of the diagnol elements\n",
    "arr = np.arange(9).reshape(3,3)\n",
    "arr\n"
   ]
  },
  {
   "cell_type": "code",
   "execution_count": 241,
   "id": "05766fad-3a09-406e-a47c-e295714a56ed",
   "metadata": {},
   "outputs": [
    {
     "data": {
      "text/plain": [
       "12"
      ]
     },
     "execution_count": 241,
     "metadata": {},
     "output_type": "execute_result"
    }
   ],
   "source": [
    "np.trace(arr # sum of the diagnol elements"
   ]
  },
  {
   "cell_type": "code",
   "execution_count": null,
   "id": "c3d84751-5799-4ffe-b7f6-0e557ee6394b",
   "metadata": {
    "scrolled": true
   },
   "outputs": [],
   "source": []
  },
  {
   "cell_type": "code",
   "execution_count": null,
   "id": "30c46b1c-0b0e-4ce7-a66a-f8591db17da5",
   "metadata": {},
   "outputs": [],
   "source": []
  },
  {
   "cell_type": "markdown",
   "id": "c7e9f82a-0caf-4e9b-8c19-5565ad76db85",
   "metadata": {},
   "source": [
    "                                                        # END"
   ]
  }
 ],
 "metadata": {
  "kernelspec": {
   "display_name": "Python 3 (ipykernel)",
   "language": "python",
   "name": "python3"
  },
  "language_info": {
   "codemirror_mode": {
    "name": "ipython",
    "version": 3
   },
   "file_extension": ".py",
   "mimetype": "text/x-python",
   "name": "python",
   "nbconvert_exporter": "python",
   "pygments_lexer": "ipython3",
   "version": "3.12.0"
  }
 },
 "nbformat": 4,
 "nbformat_minor": 5
}
